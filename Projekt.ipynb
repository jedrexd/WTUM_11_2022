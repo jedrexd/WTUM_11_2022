{
  "nbformat": 4,
  "nbformat_minor": 0,
  "metadata": {
    "colab": {
      "name": "Projekt.ipynb",
      "provenance": [],
      "authorship_tag": "ABX9TyNBWDcpW/o9dUhK1HDFmAtp",
      "include_colab_link": true
    },
    "kernelspec": {
      "name": "python3",
      "display_name": "Python 3"
    },
    "language_info": {
      "name": "python"
    }
  },
  "cells": [
    {
      "cell_type": "markdown",
      "metadata": {
        "id": "view-in-github",
        "colab_type": "text"
      },
      "source": [
        "<a href=\"https://colab.research.google.com/github/jedrexd/WTUM_11_2022/blob/main/Projekt.ipynb\" target=\"_parent\"><img src=\"https://colab.research.google.com/assets/colab-badge.svg\" alt=\"Open In Colab\"/></a>"
      ]
    },
    {
      "cell_type": "code",
      "execution_count": 136,
      "metadata": {
        "id": "vv_tBaUlqb2e"
      },
      "outputs": [],
      "source": [
        "import pandas as pd\n",
        "import numpy as np\n",
        "import matplotlib.pyplot as plt\n",
        "from sklearn.preprocessing import LabelEncoder, StandardScaler"
      ]
    },
    {
      "cell_type": "code",
      "source": [
        "df = pd.read_csv(\"/content/WTUM_11_2022/train.csv\", header=0)\n",
        "df = df.iloc[:,1:]\n",
        "df"
      ],
      "metadata": {
        "id": "wgpJgdY-8rVq"
      },
      "execution_count": null,
      "outputs": []
    },
    {
      "cell_type": "code",
      "source": [
        "df.describe()"
      ],
      "metadata": {
        "id": "MnzsTMuN83dS"
      },
      "execution_count": null,
      "outputs": []
    },
    {
      "cell_type": "code",
      "source": [
        "df.columns"
      ],
      "metadata": {
        "id": "85RnKdLsBQmY"
      },
      "execution_count": null,
      "outputs": []
    },
    {
      "cell_type": "code",
      "source": [
        "df['MSSubClass'] = LabelEncoder().fit_transform(df['MSSubClass'].astype('str'))\n",
        "df['MSZoning'] = LabelEncoder().fit_transform(df['MSZoning'].astype('str'))\n",
        "df.replace('LotFrontage', {\"NA\": 0})\n",
        "df['LotFrontage'] = StandardScaler().fit_transform(np.array(df['LotFrontage']).reshape(-1, 1));\n",
        "df['LotArea'] = StandardScaler().fit_transform(df['LotArea'].values.reshape(-1, 1))\n",
        "df['Street'] = LabelEncoder().fit_transform(df['Street'].astype('str'))\n",
        "df['Alley'] = LabelEncoder().fit_transform(df['Alley'].astype('str'))\n",
        "lotShapeDict = {\"Reg\": 1, \"IR1\": 2, \"IR2\": 3, \"IR3\": 4}\n",
        "df.replace('LotShape', lotShapeDict)\n",
        "df['LandContour'] = LabelEncoder().fit_transform(df['LandContour'].astype('str'))\n",
        "df['LotConfig'] = LabelEncoder().fit_transform(df['LotConfig'].astype('str'))\n",
        "df['LandSlope'] = LabelEncoder().fit_transform(df['LandContour'].astype('str'))\n",
        "df['Neighborhood'] = LabelEncoder().fit_transform(df['Neighborhood'].astype('str'))\n",
        "conditionDict = {\"Artery\": 1, \"Feedr\": 2, \"Norm\": 3,\t\"RRNn\": 4, \"RRAn\": 5, \"PosN\": 6, \"PosA\": 7, \"RRNe\": 8, \"RRAe\": 9}\n",
        "df.replace('Condition1', conditionDict)\n",
        "df.replace('Condition2', conditionDict)\n",
        "utilitiesDict = {\"AllPub\": 3, \"NoSewr\": 2, \"NoSeWa\": 1, \"ELO\": 0}\n",
        "df.replace('Utilities', utilitiesDict);\n",
        "df['BldgType'] = LabelEncoder().fit_transform(df['BldgType'].astype('str'))\n",
        "df['HouseStyle'] = LabelEncoder().fit_transform(df['HouseStyle'].astype('str'))\n",
        "\n",
        "# YearBuilt, YearRemodAdd, OverallCond, OverallQual: TBD"
      ],
      "metadata": {
        "id": "kx1zy6vcZ8YZ"
      },
      "execution_count": null,
      "outputs": []
    },
    {
      "cell_type": "code",
      "source": [
        "print(df['GarageCars'].isna().sum())"
      ],
      "metadata": {
        "id": "IRr-iLFR9UFB"
      },
      "execution_count": null,
      "outputs": []
    },
    {
      "cell_type": "code",
      "source": [
        "print(df['GarageArea'].isna().sum())\n",
        "df['GarageArea'] = StandardScaler().fit_transform(df['GarageArea'].values.reshape(-1,1))"
      ],
      "metadata": {
        "id": "KzbxDrm-BPYo"
      },
      "execution_count": null,
      "outputs": []
    },
    {
      "cell_type": "code",
      "source": [
        "print(df['GarageQual'].isna().sum())\n",
        "unq_vals = df['GarageQual'].unique().astype('str')\n",
        "df['GarageQual'] = df['GarageQual'].replace({'Ex': 5, 'Gd': 4, 'TA': 3, 'Fa': 2, 'Po': 1, np.nan: 0})"
      ],
      "metadata": {
        "id": "MBe2U8VhBdj4"
      },
      "execution_count": null,
      "outputs": []
    },
    {
      "cell_type": "code",
      "source": [
        "print(df['GarageCond'].isna().sum())\n",
        "print(df['GarageCond'].unique())\n",
        "df['GarageCond'] = df['GarageCond'].replace({'Ex': 5, 'Gd': 4, 'TA': 3, 'Fa': 2, 'Po': 1, np.nan: 0})"
      ],
      "metadata": {
        "id": "jWUDkNHSBgaf"
      },
      "execution_count": null,
      "outputs": []
    },
    {
      "cell_type": "code",
      "source": [
        "print(df['PavedDrive'].isna().sum())\n",
        "df['PavedDrive'] = LabelEncoder().fit_transform(df['PavedDrive'])"
      ],
      "metadata": {
        "id": "YLACErHrBjCA"
      },
      "execution_count": null,
      "outputs": []
    },
    {
      "cell_type": "code",
      "source": [
        "print(df['WoodDeckSF'].isna().sum())\n",
        "df['WoodDeckSF'] = StandardScaler().fit_transform(df['WoodDeckSF'].values.reshape(-1,1))"
      ],
      "metadata": {
        "id": "kEDmYQCGCOOq"
      },
      "execution_count": null,
      "outputs": []
    },
    {
      "cell_type": "code",
      "source": [
        "print(df['OpenPorchSF'].isna().sum())\n",
        "df['OpenPorchSF'] = StandardScaler().fit_transform(df['OpenPorchSF'].values.reshape(-1,1))"
      ],
      "metadata": {
        "id": "7dlHZeg2COlX"
      },
      "execution_count": null,
      "outputs": []
    },
    {
      "cell_type": "code",
      "source": [
        "print(df['EnclosedPorch'].isna().sum())\n",
        "df['EnclosedPorch'] = StandardScaler().fit_transform(df['EnclosedPorch'].values.reshape(-1,1))"
      ],
      "metadata": {
        "id": "BLhs4CNiCO8y"
      },
      "execution_count": null,
      "outputs": []
    },
    {
      "cell_type": "code",
      "source": [
        "print(df['3SsnPorch'].isna().sum())\n",
        "df['3SsnPorch'] = StandardScaler().fit_transform(df['3SsnPorch'].values.reshape(-1,1))"
      ],
      "metadata": {
        "id": "2DyB0Qu0CPG-"
      },
      "execution_count": null,
      "outputs": []
    },
    {
      "cell_type": "code",
      "source": [
        "print(df['ScreenPorch'].isna().sum())\n",
        "df['ScreenPorch'] = StandardScaler().fit_transform(df['ScreenPorch'].values.reshape(-1,1))"
      ],
      "metadata": {
        "id": "hCS43Au5CPQm"
      },
      "execution_count": null,
      "outputs": []
    },
    {
      "cell_type": "code",
      "source": [
        "print(df['PoolArea'].isna().sum())\n",
        "df['PoolArea'] = StandardScaler().fit_transform(df['PoolArea'].values.reshape(-1,1))"
      ],
      "metadata": {
        "id": "6DYbrDj7CPZP"
      },
      "execution_count": null,
      "outputs": []
    },
    {
      "cell_type": "code",
      "source": [
        "print(df['PoolQC'].isna().sum())\n",
        "print(df['PoolQC'].unique())\n",
        "df['PoolQC'] = df['PoolQC'].replace({'Ex': 4, 'Gd': 3, 'TA': 2, 'Fa': 1, np.nan: 0})"
      ],
      "metadata": {
        "id": "Z_LmK4imCQ8_"
      },
      "execution_count": null,
      "outputs": []
    },
    {
      "cell_type": "code",
      "source": [
        "print(df['Fence'].isna().sum())\n",
        "print(df['Fence'].unique())\n",
        "df['Fence'] = df['Fence'].replace({'GdPrv': 4, 'MnPrv': 3, 'GdWo': 2, 'MnWw': 1, np.nan: 0})"
      ],
      "metadata": {
        "id": "rcG7Q8H_CRFn"
      },
      "execution_count": null,
      "outputs": []
    },
    {
      "cell_type": "code",
      "source": [
        "print(df['MiscFeature'].isna().sum())\n",
        "print(df['Fence'].unique())\n",
        "df['Fence'] = df['Fence'].replace({'Elev': 5, 'Gar2': 4, 'Othr': 3, 'Shed': 2, 'TenC': 1, np.nan: 0})"
      ],
      "metadata": {
        "id": "U00ceqRiCRN_"
      },
      "execution_count": null,
      "outputs": []
    },
    {
      "cell_type": "code",
      "source": [
        "print(df['MiscVal'].isna().sum())\n",
        "df['MiscVal'] = StandardScaler().fit_transform(df['MiscVal'].values.reshape(-1,1))"
      ],
      "metadata": {
        "id": "3BL272QHCRW4"
      },
      "execution_count": null,
      "outputs": []
    },
    {
      "cell_type": "code",
      "source": [
        "print(df['MoSold'].isna().sum())"
      ],
      "metadata": {
        "id": "ZSPoIN1DCRe3"
      },
      "execution_count": null,
      "outputs": []
    },
    {
      "cell_type": "code",
      "source": [
        "print(df['YrSold'].isna().sum())"
      ],
      "metadata": {
        "id": "9FwrVaNuCRm-"
      },
      "execution_count": null,
      "outputs": []
    },
    {
      "cell_type": "code",
      "source": [
        "print(df['SaleType'].isna().sum())\n",
        "df['SaleType'] = LabelEncoder().fit_transform(df['SaleType'])"
      ],
      "metadata": {
        "id": "a4ylxNwyCRvo"
      },
      "execution_count": null,
      "outputs": []
    },
    {
      "cell_type": "code",
      "source": [
        "print(df['SaleCondition'].isna().sum())\n",
        "df['SaleCondition'] = LabelEncoder().fit_transform(df['SaleCondition'])"
      ],
      "metadata": {
        "id": "jgXyURzoCR2w"
      },
      "execution_count": null,
      "outputs": []
    },
    {
      "cell_type": "code",
      "source": [
        "print(df['SalePrice'].isna().sum())\n",
        "df['MiscVal'] = np.log(df['MiscVal'])"
      ],
      "metadata": {
        "id": "wj1fr4P4CsfK"
      },
      "execution_count": null,
      "outputs": []
    }
  ]
}