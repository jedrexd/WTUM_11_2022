{
  "nbformat": 4,
  "nbformat_minor": 0,
  "metadata": {
    "colab": {
      "name": "Projekt.ipynb",
      "provenance": [],
      "include_colab_link": true
    },
    "kernelspec": {
      "name": "python3",
      "display_name": "Python 3"
    },
    "language_info": {
      "name": "python"
    }
  },
  "cells": [
    {
      "cell_type": "markdown",
      "metadata": {
        "id": "view-in-github",
        "colab_type": "text"
      },
      "source": [
        "<a href=\"https://colab.research.google.com/github/jedrexd/WTUM_11_2022/blob/main/Projekt.ipynb\" target=\"_parent\"><img src=\"https://colab.research.google.com/assets/colab-badge.svg\" alt=\"Open In Colab\"/></a>"
      ]
    },
    {
      "cell_type": "code",
      "execution_count": 1,
      "metadata": {
        "id": "vv_tBaUlqb2e"
      },
      "outputs": [],
      "source": [
        "import pandas as pd\n",
        "import numpy as np\n",
        "import matplotlib.pyplot as plt\n",
        "from sklearn.preprocessing import LabelEncoder, StandardScaler"
      ]
    },
    {
      "cell_type": "code",
      "source": [
        "df = pd.read_csv(\"/content/WTUM_11_2022/train.csv\", header=0)\n",
        "df = df.iloc[:,1:]\n",
        "df"
      ],
      "metadata": {
        "id": "vSbAxlCA5EDw"
      },
      "execution_count": null,
      "outputs": []
    },
    {
      "cell_type": "code",
      "source": [
        "df.describe()"
      ],
      "metadata": {
        "id": "MnzsTMuN83dS"
      },
      "execution_count": null,
      "outputs": []
    },
    {
      "cell_type": "code",
      "source": [
        "df.columns"
      ],
      "metadata": {
        "id": "85RnKdLsBQmY"
      },
      "execution_count": null,
      "outputs": []
    },
    {
      "cell_type": "code",
      "source": [
        "df['MSSubClass'] = LabelEncoder().fit_transform(df['MSSubClass'].astype('str'))\n",
        "df['MSZoning'] = LabelEncoder().fit_transform(df['MSZoning'].astype('str'))\n",
        "df.replace('LotFrontage', {\"NA\": 0})\n",
        "df['LotFrontage'] = StandardScaler().fit_transform(np.array(df['LotFrontage']).reshape(-1, 1));\n",
        "df['LotArea'] = StandardScaler().fit_transform(df['LotArea'].values.reshape(-1, 1))\n",
        "df['Street'] = LabelEncoder().fit_transform(df['Street'].astype('str'))\n",
        "df['Alley'] = LabelEncoder().fit_transform(df['Alley'].astype('str'))\n",
        "lotShapeDict = {\"Reg\": 1, \"IR1\": 2, \"IR2\": 3, \"IR3\": 4}\n",
        "df.replace('LotShape', lotShapeDict)\n",
        "df['LandContour'] = LabelEncoder().fit_transform(df['LandContour'].astype('str'))\n",
        "df['LotConfig'] = LabelEncoder().fit_transform(df['LotConfig'].astype('str'))\n",
        "df['LandSlope'] = LabelEncoder().fit_transform(df['LandContour'].astype('str'))\n",
        "df['Neighborhood'] = LabelEncoder().fit_transform(df['Neighborhood'].astype('str'))\n",
        "conditionDict = {\"Artery\": 1, \"Feedr\": 2, \"Norm\": 3,\t\"RRNn\": 4, \"RRAn\": 5, \"PosN\": 6, \"PosA\": 7, \"RRNe\": 8, \"RRAe\": 9}\n",
        "df.replace('Condition1', conditionDict)\n",
        "df.replace('Condition2', conditionDict)\n",
        "utilitiesDict = {\"AllPub\": 3, \"NoSewr\": 2, \"NoSeWa\": 1, \"ELO\": 0}\n",
        "df.replace('Utilities', utilitiesDict);\n",
        "df['BldgType'] = LabelEncoder().fit_transform(df['BldgType'].astype('str'))\n",
        "df['HouseStyle'] = LabelEncoder().fit_transform(df['HouseStyle'].astype('str'))\n",
        "\n",
        "# YearBuilt, YearRemodAdd, OverallCond, OverallQual: TBD"
      ],
      "metadata": {
        "id": "kx1zy6vcZ8YZ"
      },
      "execution_count": 6,
      "outputs": []
    },
    {
      "cell_type": "code",
      "source": [
        "print(df['GarageCars'].isna().sum())"
      ],
      "metadata": {
        "id": "IRr-iLFR9UFB"
      },
      "execution_count": null,
      "outputs": []
    },
    {
      "cell_type": "code",
      "source": [
        "print(df['GarageArea'].isna().sum())\n",
        "df['GarageArea'] = StandardScaler().fit_transform(df['GarageArea'].values.reshape(-1,1))"
      ],
      "metadata": {
        "id": "KzbxDrm-BPYo",
        "colab": {
          "base_uri": "https://localhost:8080/"
        },
        "outputId": "8c556dd0-f13d-4b1b-b8da-ac9617ee3576"
      },
      "execution_count": 7,
      "outputs": [
        {
          "output_type": "stream",
          "name": "stdout",
          "text": [
            "0\n"
          ]
        }
      ]
    },
    {
      "cell_type": "code",
      "source": [
        "print(df['GarageQual'].isna().sum())\n",
        "unq_vals = df['GarageQual'].unique().astype('str')\n",
        "df['GarageQual'] = df['GarageQual'].replace({'Ex': 5, 'Gd': 4, 'TA': 3, 'Fa': 2, 'Po': 1, np.nan: 0})"
      ],
      "metadata": {
        "id": "MBe2U8VhBdj4",
        "colab": {
          "base_uri": "https://localhost:8080/"
        },
        "outputId": "2368aeb6-bd1c-4d18-a1b9-fe4d39070b53"
      },
      "execution_count": 8,
      "outputs": [
        {
          "output_type": "stream",
          "name": "stdout",
          "text": [
            "81\n"
          ]
        }
      ]
    },
    {
      "cell_type": "code",
      "source": [
        "print(df['GarageCond'].isna().sum())\n",
        "print(df['GarageCond'].unique())\n",
        "df['GarageCond'] = df['GarageCond'].replace({'Ex': 5, 'Gd': 4, 'TA': 3, 'Fa': 2, 'Po': 1, np.nan: 0})"
      ],
      "metadata": {
        "id": "jWUDkNHSBgaf",
        "colab": {
          "base_uri": "https://localhost:8080/"
        },
        "outputId": "8f6d25b8-09a9-48fb-81f4-41fe5569a9f7"
      },
      "execution_count": 9,
      "outputs": [
        {
          "output_type": "stream",
          "name": "stdout",
          "text": [
            "81\n",
            "['TA' 'Fa' nan 'Gd' 'Po' 'Ex']\n"
          ]
        }
      ]
    },
    {
      "cell_type": "code",
      "source": [
        "print(df['PavedDrive'].isna().sum())\n",
        "df['PavedDrive'] = LabelEncoder().fit_transform(df['PavedDrive'])"
      ],
      "metadata": {
        "id": "YLACErHrBjCA",
        "colab": {
          "base_uri": "https://localhost:8080/"
        },
        "outputId": "e2985445-1de1-499c-f864-04c2c1967f70"
      },
      "execution_count": 10,
      "outputs": [
        {
          "output_type": "stream",
          "name": "stdout",
          "text": [
            "0\n"
          ]
        }
      ]
    },
    {
      "cell_type": "code",
      "source": [
        "print(df['WoodDeckSF'].isna().sum())\n",
        "df['WoodDeckSF'] = StandardScaler().fit_transform(df['WoodDeckSF'].values.reshape(-1,1))"
      ],
      "metadata": {
        "id": "kEDmYQCGCOOq",
        "colab": {
          "base_uri": "https://localhost:8080/"
        },
        "outputId": "b51b132c-457a-4fef-fda4-13431589c30e"
      },
      "execution_count": 11,
      "outputs": [
        {
          "output_type": "stream",
          "name": "stdout",
          "text": [
            "0\n"
          ]
        }
      ]
    },
    {
      "cell_type": "code",
      "source": [
        "print(df['OpenPorchSF'].isna().sum())\n",
        "df['OpenPorchSF'] = StandardScaler().fit_transform(df['OpenPorchSF'].values.reshape(-1,1))"
      ],
      "metadata": {
        "id": "7dlHZeg2COlX",
        "colab": {
          "base_uri": "https://localhost:8080/"
        },
        "outputId": "b0d1653a-7cc0-408d-8d86-7699202ee364"
      },
      "execution_count": 12,
      "outputs": [
        {
          "output_type": "stream",
          "name": "stdout",
          "text": [
            "0\n"
          ]
        }
      ]
    },
    {
      "cell_type": "code",
      "source": [
        "print(df['EnclosedPorch'].isna().sum())\n",
        "df['EnclosedPorch'] = StandardScaler().fit_transform(df['EnclosedPorch'].values.reshape(-1,1))"
      ],
      "metadata": {
        "id": "BLhs4CNiCO8y",
        "colab": {
          "base_uri": "https://localhost:8080/"
        },
        "outputId": "76ec1473-32d1-4c90-8964-0a9a479819dd"
      },
      "execution_count": 13,
      "outputs": [
        {
          "output_type": "stream",
          "name": "stdout",
          "text": [
            "0\n"
          ]
        }
      ]
    },
    {
      "cell_type": "code",
      "source": [
        "print(df['3SsnPorch'].isna().sum())\n",
        "df['3SsnPorch'] = StandardScaler().fit_transform(df['3SsnPorch'].values.reshape(-1,1))"
      ],
      "metadata": {
        "id": "2DyB0Qu0CPG-",
        "colab": {
          "base_uri": "https://localhost:8080/"
        },
        "outputId": "dd10f9e7-f96f-4e96-b689-4906b8594a1f"
      },
      "execution_count": 14,
      "outputs": [
        {
          "output_type": "stream",
          "name": "stdout",
          "text": [
            "0\n"
          ]
        }
      ]
    },
    {
      "cell_type": "code",
      "source": [
        "print(df['ScreenPorch'].isna().sum())\n",
        "df['ScreenPorch'] = StandardScaler().fit_transform(df['ScreenPorch'].values.reshape(-1,1))"
      ],
      "metadata": {
        "id": "hCS43Au5CPQm",
        "colab": {
          "base_uri": "https://localhost:8080/"
        },
        "outputId": "3dbd0d7d-cf05-45ae-a37b-3c25f41493fc"
      },
      "execution_count": 15,
      "outputs": [
        {
          "output_type": "stream",
          "name": "stdout",
          "text": [
            "0\n"
          ]
        }
      ]
    },
    {
      "cell_type": "code",
      "source": [
        "print(df['PoolArea'].isna().sum())\n",
        "df['PoolArea'] = StandardScaler().fit_transform(df['PoolArea'].values.reshape(-1,1))"
      ],
      "metadata": {
        "id": "6DYbrDj7CPZP",
        "colab": {
          "base_uri": "https://localhost:8080/"
        },
        "outputId": "29fc24f6-5d78-416b-f7b0-7f7fc9331fff"
      },
      "execution_count": 16,
      "outputs": [
        {
          "output_type": "stream",
          "name": "stdout",
          "text": [
            "0\n"
          ]
        }
      ]
    },
    {
      "cell_type": "code",
      "source": [
        "print(df['PoolQC'].isna().sum())\n",
        "print(df['PoolQC'].unique())\n",
        "df['PoolQC'] = df['PoolQC'].replace({'Ex': 4, 'Gd': 3, 'TA': 2, 'Fa': 1, np.nan: 0})"
      ],
      "metadata": {
        "id": "Z_LmK4imCQ8_",
        "colab": {
          "base_uri": "https://localhost:8080/"
        },
        "outputId": "dd8bf61d-73f9-4a32-d7e1-f9e496c68147"
      },
      "execution_count": 17,
      "outputs": [
        {
          "output_type": "stream",
          "name": "stdout",
          "text": [
            "1453\n",
            "[nan 'Ex' 'Fa' 'Gd']\n"
          ]
        }
      ]
    },
    {
      "cell_type": "code",
      "source": [
        "print(df['Fence'].isna().sum())\n",
        "print(df['Fence'].unique())\n",
        "df['Fence'] = df['Fence'].replace({'GdPrv': 4, 'MnPrv': 3, 'GdWo': 2, 'MnWw': 1, np.nan: 0})"
      ],
      "metadata": {
        "id": "rcG7Q8H_CRFn",
        "colab": {
          "base_uri": "https://localhost:8080/"
        },
        "outputId": "3fedf697-1bb0-43f5-c2ab-9799febfc1fc"
      },
      "execution_count": 18,
      "outputs": [
        {
          "output_type": "stream",
          "name": "stdout",
          "text": [
            "1179\n",
            "[nan 'MnPrv' 'GdWo' 'GdPrv' 'MnWw']\n"
          ]
        }
      ]
    },
    {
      "cell_type": "code",
      "source": [
        "print(df['MiscFeature'].isna().sum())\n",
        "print(df['Fence'].unique())\n",
        "df['Fence'] = df['Fence'].replace({'Elev': 5, 'Gar2': 4, 'Othr': 3, 'Shed': 2, 'TenC': 1, np.nan: 0})"
      ],
      "metadata": {
        "id": "U00ceqRiCRN_",
        "colab": {
          "base_uri": "https://localhost:8080/"
        },
        "outputId": "6965b29a-fdd4-4a5b-ac63-360df33a623e"
      },
      "execution_count": 19,
      "outputs": [
        {
          "output_type": "stream",
          "name": "stdout",
          "text": [
            "1406\n",
            "[0 3 2 4 1]\n"
          ]
        }
      ]
    },
    {
      "cell_type": "code",
      "source": [
        "print(df['MiscVal'].isna().sum())\n",
        "df['MiscVal'] = StandardScaler().fit_transform(df['MiscVal'].values.reshape(-1,1))"
      ],
      "metadata": {
        "id": "3BL272QHCRW4",
        "colab": {
          "base_uri": "https://localhost:8080/"
        },
        "outputId": "d20f5a30-679e-4af6-a8d5-768c40ddf844"
      },
      "execution_count": 20,
      "outputs": [
        {
          "output_type": "stream",
          "name": "stdout",
          "text": [
            "0\n"
          ]
        }
      ]
    },
    {
      "cell_type": "code",
      "source": [
        "print(df['MoSold'].isna().sum())"
      ],
      "metadata": {
        "id": "ZSPoIN1DCRe3"
      },
      "execution_count": null,
      "outputs": []
    },
    {
      "cell_type": "code",
      "source": [
        "print(df['YrSold'].isna().sum())"
      ],
      "metadata": {
        "id": "9FwrVaNuCRm-"
      },
      "execution_count": null,
      "outputs": []
    },
    {
      "cell_type": "code",
      "source": [
        "print(df['SaleType'].isna().sum())\n",
        "df['SaleType'] = LabelEncoder().fit_transform(df['SaleType'])"
      ],
      "metadata": {
        "id": "a4ylxNwyCRvo",
        "colab": {
          "base_uri": "https://localhost:8080/"
        },
        "outputId": "d95091d9-aa39-4431-9f84-5215152b3970"
      },
      "execution_count": 21,
      "outputs": [
        {
          "output_type": "stream",
          "name": "stdout",
          "text": [
            "0\n"
          ]
        }
      ]
    },
    {
      "cell_type": "code",
      "source": [
        "print(df['SaleCondition'].isna().sum())\n",
        "df['SaleCondition'] = LabelEncoder().fit_transform(df['SaleCondition'])"
      ],
      "metadata": {
        "id": "jgXyURzoCR2w",
        "colab": {
          "base_uri": "https://localhost:8080/"
        },
        "outputId": "f676c5f3-d071-496c-93ca-31b3d89f4f40"
      },
      "execution_count": 22,
      "outputs": [
        {
          "output_type": "stream",
          "name": "stdout",
          "text": [
            "0\n"
          ]
        }
      ]
    },
    {
      "cell_type": "code",
      "source": [
        "print(df['SalePrice'].isna().sum())\n",
        "df['MiscVal'] = np.log(df['MiscVal'])"
      ],
      "metadata": {
        "id": "wj1fr4P4CsfK",
        "colab": {
          "base_uri": "https://localhost:8080/"
        },
        "outputId": "0d7b5fa3-f038-4707-f1e6-0529e5e5bd41"
      },
      "execution_count": 23,
      "outputs": [
        {
          "output_type": "stream",
          "name": "stdout",
          "text": [
            "0\n"
          ]
        },
        {
          "output_type": "stream",
          "name": "stderr",
          "text": [
            "/usr/local/lib/python3.7/dist-packages/pandas/core/arraylike.py:364: RuntimeWarning: invalid value encountered in log\n",
            "  result = getattr(ufunc, method)(*inputs, **kwargs)\n"
          ]
        }
      ]
    },
    {
      "cell_type": "code",
      "source": [
        "# kolumny 41-60\n",
        "df2 = df.iloc[:,40:59]\n",
        "\n",
        "df2['CentralAir'] = LabelEncoder().fit_transform(df['CentralAir'].astype('str'))\n",
        "\n",
        "df2['Electrical'] = LabelEncoder().fit_transform(df['Electrical'].astype('str'))\n",
        "\n",
        "c3 = df[\"1stFlrSF\"].values \n",
        "df2[\"1stFlrSF\"] = StandardScaler().fit_transform(c3.reshape(-1,1)) \n",
        "\n",
        "c4 = df[\"2ndFlrSF\"].values     \n",
        "df2[\"2ndFlrSF\"] = StandardScaler().fit_transform(c4.reshape(-1,1)) \n",
        "\n",
        "c5 = df[\"LowQualFinSF\"].values      \n",
        "df2[\"LowQualFinSF\"] = StandardScaler().fit_transform(c5.reshape(-1,1)) \n",
        "\n",
        "c6 = df[\"GrLivArea\"].values   \n",
        "df2[\"GrLivArea\"] = StandardScaler().fit_transform(c6.reshape(-1,1)) \n",
        "\n",
        "# BsmtFullBath, BsmtHalfBath, FullBath, HalfBath, BedroomAbvGr, KitchenAbvGr, TotRmsAbvGrd, Fireplaces - z tymi nic nie robiłam, bo mają tylko po kilka wartości\n",
        "\n",
        "c11 = df[\"KitchenQual\"]\n",
        "new_names = {\n",
        "    'Po' : 0,\n",
        "    'Fa' : 1,\n",
        "    'TA' : 2,\n",
        "    'Gd' : 3,\n",
        "    'Ex' : 4\n",
        "}\n",
        "df2[\"KitchenQual\"] = c11.replace(new_names)\n",
        "\n",
        "c13 = df[\"Functional\"]\n",
        "new_names1 = {\n",
        "    'Sal' : 0,\n",
        "    'Sev' : 1,\n",
        "    'Maj2' : 2,\n",
        "    'Maj1' : 3,\n",
        "    'Mod' : 4,\n",
        "    'Min2' : 5,\n",
        "    'Min1' : 6,\n",
        "    'Typ' : 7\n",
        "}\n",
        "df2[\"Functional\"] = c13.replace(new_names1)\n",
        "\n",
        "c15 = df[\"FireplaceQu\"]\n",
        "c15 = c15.fillna(0)\n",
        "new_names2 = {\n",
        "    'NA' : 0,\n",
        "    'NaN' : 0,\n",
        "    'Po' : 1,\n",
        "    'Fa' : 2,\n",
        "    'TA' : 3,\n",
        "    'Gd' : 4,\n",
        "    'Ex' : 5\n",
        "}\n",
        "df2[\"FireplaceQu\"] = c15.replace(new_names2)\n",
        "\n",
        "c16 = df[\"GarageType\"]\n",
        "new_names3 = {\n",
        "    'NA' : 0,\n",
        "    'NaN' : 0,\n",
        "    '' : 0,\n",
        "    'Detchd' : 1,\n",
        "    'CarPort' : 2,\n",
        "    'BuiltIn' : 3,\n",
        "    'Basment' : 4,\n",
        "    'Attchd' : 5,\n",
        "    '2Types' : 6\n",
        "}\n",
        "df2[\"GarageType\"] = c16.replace(new_names3)\n",
        "\n",
        "#GarageYrBlt - lata (1900 - 2010), tez nic nie zrobiłam\n",
        "\n",
        "c18 = df[\"GarageFinish\"]\n",
        "new_names4 = {\n",
        "    'NA' : 0,\n",
        "    'Unf' : 1,\n",
        "    'RFn' : 2,\n",
        "    'Fin' : 3\n",
        "}\n",
        "df2[\"GarageFinish\"] = c18.replace(new_names4)\n",
        "\n",
        " "
      ],
      "metadata": {
        "id": "WrHy5Nr8hFMH"
      },
      "execution_count": 33,
      "outputs": []
    },
    {
      "cell_type": "code",
      "source": [
        "df.iloc[:, 40:59] = df2\n",
        "\n",
        "df"
      ],
      "metadata": {
        "colab": {
          "base_uri": "https://localhost:8080/",
          "height": 487
        },
        "id": "kFLVlY1J4pCY",
        "outputId": "1d48602e-b91f-456d-f782-e8c12cbedb68"
      },
      "execution_count": 38,
      "outputs": [
        {
          "output_type": "execute_result",
          "data": {
            "text/plain": [
              "      MSSubClass  MSZoning  LotFrontage   LotArea  Street  Alley LotShape  \\\n",
              "0              9         3    -0.208034 -0.207142       1      2      Reg   \n",
              "1              4         3     0.409895 -0.091886       1      2      Reg   \n",
              "2              9         3    -0.084449  0.073480       1      2      IR1   \n",
              "3             10         3    -0.414011 -0.096897       1      2      IR1   \n",
              "4              9         3     0.574676  0.375148       1      2      IR1   \n",
              "...          ...       ...          ...       ...     ...    ...      ...   \n",
              "1455           9         3    -0.331620 -0.260560       1      2      Reg   \n",
              "1456           4         3     0.615871  0.266407       1      2      Reg   \n",
              "1457          10         3    -0.166839 -0.147810       1      2      Reg   \n",
              "1458           4         3    -0.084449 -0.080160       1      2      Reg   \n",
              "1459           4         3     0.203918 -0.058112       1      2      Reg   \n",
              "\n",
              "      LandContour Utilities  LotConfig  ...  PoolArea  PoolQC Fence  \\\n",
              "0               3    AllPub          4  ... -0.068692       0     0   \n",
              "1               3    AllPub          2  ... -0.068692       0     0   \n",
              "2               3    AllPub          4  ... -0.068692       0     0   \n",
              "3               3    AllPub          0  ... -0.068692       0     0   \n",
              "4               3    AllPub          2  ... -0.068692       0     0   \n",
              "...           ...       ...        ...  ...       ...     ...   ...   \n",
              "1455            3    AllPub          4  ... -0.068692       0     0   \n",
              "1456            3    AllPub          4  ... -0.068692       0     3   \n",
              "1457            3    AllPub          4  ... -0.068692       0     4   \n",
              "1458            3    AllPub          4  ... -0.068692       0     0   \n",
              "1459            3    AllPub          4  ... -0.068692       0     0   \n",
              "\n",
              "     MiscFeature   MiscVal  MoSold  YrSold  SaleType  SaleCondition  SalePrice  \n",
              "0            NaN       NaN       2    2008         8              4     208500  \n",
              "1            NaN       NaN       5    2007         8              4     181500  \n",
              "2            NaN       NaN       9    2008         8              4     223500  \n",
              "3            NaN       NaN       2    2006         8              0     140000  \n",
              "4            NaN       NaN      12    2008         8              4     250000  \n",
              "...          ...       ...     ...     ...       ...            ...        ...  \n",
              "1455         NaN       NaN       8    2007         8              4     175000  \n",
              "1456         NaN       NaN       2    2010         8              4     210000  \n",
              "1457        Shed  1.600016       5    2010         8              4     266500  \n",
              "1458         NaN       NaN       4    2010         8              4     142125  \n",
              "1459         NaN       NaN       6    2008         8              4     147500  \n",
              "\n",
              "[1460 rows x 80 columns]"
            ],
            "text/html": [
              "\n",
              "  <div id=\"df-1e3d10e6-eea2-4bd8-b2ef-6366209c0f0c\">\n",
              "    <div class=\"colab-df-container\">\n",
              "      <div>\n",
              "<style scoped>\n",
              "    .dataframe tbody tr th:only-of-type {\n",
              "        vertical-align: middle;\n",
              "    }\n",
              "\n",
              "    .dataframe tbody tr th {\n",
              "        vertical-align: top;\n",
              "    }\n",
              "\n",
              "    .dataframe thead th {\n",
              "        text-align: right;\n",
              "    }\n",
              "</style>\n",
              "<table border=\"1\" class=\"dataframe\">\n",
              "  <thead>\n",
              "    <tr style=\"text-align: right;\">\n",
              "      <th></th>\n",
              "      <th>MSSubClass</th>\n",
              "      <th>MSZoning</th>\n",
              "      <th>LotFrontage</th>\n",
              "      <th>LotArea</th>\n",
              "      <th>Street</th>\n",
              "      <th>Alley</th>\n",
              "      <th>LotShape</th>\n",
              "      <th>LandContour</th>\n",
              "      <th>Utilities</th>\n",
              "      <th>LotConfig</th>\n",
              "      <th>...</th>\n",
              "      <th>PoolArea</th>\n",
              "      <th>PoolQC</th>\n",
              "      <th>Fence</th>\n",
              "      <th>MiscFeature</th>\n",
              "      <th>MiscVal</th>\n",
              "      <th>MoSold</th>\n",
              "      <th>YrSold</th>\n",
              "      <th>SaleType</th>\n",
              "      <th>SaleCondition</th>\n",
              "      <th>SalePrice</th>\n",
              "    </tr>\n",
              "  </thead>\n",
              "  <tbody>\n",
              "    <tr>\n",
              "      <th>0</th>\n",
              "      <td>9</td>\n",
              "      <td>3</td>\n",
              "      <td>-0.208034</td>\n",
              "      <td>-0.207142</td>\n",
              "      <td>1</td>\n",
              "      <td>2</td>\n",
              "      <td>Reg</td>\n",
              "      <td>3</td>\n",
              "      <td>AllPub</td>\n",
              "      <td>4</td>\n",
              "      <td>...</td>\n",
              "      <td>-0.068692</td>\n",
              "      <td>0</td>\n",
              "      <td>0</td>\n",
              "      <td>NaN</td>\n",
              "      <td>NaN</td>\n",
              "      <td>2</td>\n",
              "      <td>2008</td>\n",
              "      <td>8</td>\n",
              "      <td>4</td>\n",
              "      <td>208500</td>\n",
              "    </tr>\n",
              "    <tr>\n",
              "      <th>1</th>\n",
              "      <td>4</td>\n",
              "      <td>3</td>\n",
              "      <td>0.409895</td>\n",
              "      <td>-0.091886</td>\n",
              "      <td>1</td>\n",
              "      <td>2</td>\n",
              "      <td>Reg</td>\n",
              "      <td>3</td>\n",
              "      <td>AllPub</td>\n",
              "      <td>2</td>\n",
              "      <td>...</td>\n",
              "      <td>-0.068692</td>\n",
              "      <td>0</td>\n",
              "      <td>0</td>\n",
              "      <td>NaN</td>\n",
              "      <td>NaN</td>\n",
              "      <td>5</td>\n",
              "      <td>2007</td>\n",
              "      <td>8</td>\n",
              "      <td>4</td>\n",
              "      <td>181500</td>\n",
              "    </tr>\n",
              "    <tr>\n",
              "      <th>2</th>\n",
              "      <td>9</td>\n",
              "      <td>3</td>\n",
              "      <td>-0.084449</td>\n",
              "      <td>0.073480</td>\n",
              "      <td>1</td>\n",
              "      <td>2</td>\n",
              "      <td>IR1</td>\n",
              "      <td>3</td>\n",
              "      <td>AllPub</td>\n",
              "      <td>4</td>\n",
              "      <td>...</td>\n",
              "      <td>-0.068692</td>\n",
              "      <td>0</td>\n",
              "      <td>0</td>\n",
              "      <td>NaN</td>\n",
              "      <td>NaN</td>\n",
              "      <td>9</td>\n",
              "      <td>2008</td>\n",
              "      <td>8</td>\n",
              "      <td>4</td>\n",
              "      <td>223500</td>\n",
              "    </tr>\n",
              "    <tr>\n",
              "      <th>3</th>\n",
              "      <td>10</td>\n",
              "      <td>3</td>\n",
              "      <td>-0.414011</td>\n",
              "      <td>-0.096897</td>\n",
              "      <td>1</td>\n",
              "      <td>2</td>\n",
              "      <td>IR1</td>\n",
              "      <td>3</td>\n",
              "      <td>AllPub</td>\n",
              "      <td>0</td>\n",
              "      <td>...</td>\n",
              "      <td>-0.068692</td>\n",
              "      <td>0</td>\n",
              "      <td>0</td>\n",
              "      <td>NaN</td>\n",
              "      <td>NaN</td>\n",
              "      <td>2</td>\n",
              "      <td>2006</td>\n",
              "      <td>8</td>\n",
              "      <td>0</td>\n",
              "      <td>140000</td>\n",
              "    </tr>\n",
              "    <tr>\n",
              "      <th>4</th>\n",
              "      <td>9</td>\n",
              "      <td>3</td>\n",
              "      <td>0.574676</td>\n",
              "      <td>0.375148</td>\n",
              "      <td>1</td>\n",
              "      <td>2</td>\n",
              "      <td>IR1</td>\n",
              "      <td>3</td>\n",
              "      <td>AllPub</td>\n",
              "      <td>2</td>\n",
              "      <td>...</td>\n",
              "      <td>-0.068692</td>\n",
              "      <td>0</td>\n",
              "      <td>0</td>\n",
              "      <td>NaN</td>\n",
              "      <td>NaN</td>\n",
              "      <td>12</td>\n",
              "      <td>2008</td>\n",
              "      <td>8</td>\n",
              "      <td>4</td>\n",
              "      <td>250000</td>\n",
              "    </tr>\n",
              "    <tr>\n",
              "      <th>...</th>\n",
              "      <td>...</td>\n",
              "      <td>...</td>\n",
              "      <td>...</td>\n",
              "      <td>...</td>\n",
              "      <td>...</td>\n",
              "      <td>...</td>\n",
              "      <td>...</td>\n",
              "      <td>...</td>\n",
              "      <td>...</td>\n",
              "      <td>...</td>\n",
              "      <td>...</td>\n",
              "      <td>...</td>\n",
              "      <td>...</td>\n",
              "      <td>...</td>\n",
              "      <td>...</td>\n",
              "      <td>...</td>\n",
              "      <td>...</td>\n",
              "      <td>...</td>\n",
              "      <td>...</td>\n",
              "      <td>...</td>\n",
              "      <td>...</td>\n",
              "    </tr>\n",
              "    <tr>\n",
              "      <th>1455</th>\n",
              "      <td>9</td>\n",
              "      <td>3</td>\n",
              "      <td>-0.331620</td>\n",
              "      <td>-0.260560</td>\n",
              "      <td>1</td>\n",
              "      <td>2</td>\n",
              "      <td>Reg</td>\n",
              "      <td>3</td>\n",
              "      <td>AllPub</td>\n",
              "      <td>4</td>\n",
              "      <td>...</td>\n",
              "      <td>-0.068692</td>\n",
              "      <td>0</td>\n",
              "      <td>0</td>\n",
              "      <td>NaN</td>\n",
              "      <td>NaN</td>\n",
              "      <td>8</td>\n",
              "      <td>2007</td>\n",
              "      <td>8</td>\n",
              "      <td>4</td>\n",
              "      <td>175000</td>\n",
              "    </tr>\n",
              "    <tr>\n",
              "      <th>1456</th>\n",
              "      <td>4</td>\n",
              "      <td>3</td>\n",
              "      <td>0.615871</td>\n",
              "      <td>0.266407</td>\n",
              "      <td>1</td>\n",
              "      <td>2</td>\n",
              "      <td>Reg</td>\n",
              "      <td>3</td>\n",
              "      <td>AllPub</td>\n",
              "      <td>4</td>\n",
              "      <td>...</td>\n",
              "      <td>-0.068692</td>\n",
              "      <td>0</td>\n",
              "      <td>3</td>\n",
              "      <td>NaN</td>\n",
              "      <td>NaN</td>\n",
              "      <td>2</td>\n",
              "      <td>2010</td>\n",
              "      <td>8</td>\n",
              "      <td>4</td>\n",
              "      <td>210000</td>\n",
              "    </tr>\n",
              "    <tr>\n",
              "      <th>1457</th>\n",
              "      <td>10</td>\n",
              "      <td>3</td>\n",
              "      <td>-0.166839</td>\n",
              "      <td>-0.147810</td>\n",
              "      <td>1</td>\n",
              "      <td>2</td>\n",
              "      <td>Reg</td>\n",
              "      <td>3</td>\n",
              "      <td>AllPub</td>\n",
              "      <td>4</td>\n",
              "      <td>...</td>\n",
              "      <td>-0.068692</td>\n",
              "      <td>0</td>\n",
              "      <td>4</td>\n",
              "      <td>Shed</td>\n",
              "      <td>1.600016</td>\n",
              "      <td>5</td>\n",
              "      <td>2010</td>\n",
              "      <td>8</td>\n",
              "      <td>4</td>\n",
              "      <td>266500</td>\n",
              "    </tr>\n",
              "    <tr>\n",
              "      <th>1458</th>\n",
              "      <td>4</td>\n",
              "      <td>3</td>\n",
              "      <td>-0.084449</td>\n",
              "      <td>-0.080160</td>\n",
              "      <td>1</td>\n",
              "      <td>2</td>\n",
              "      <td>Reg</td>\n",
              "      <td>3</td>\n",
              "      <td>AllPub</td>\n",
              "      <td>4</td>\n",
              "      <td>...</td>\n",
              "      <td>-0.068692</td>\n",
              "      <td>0</td>\n",
              "      <td>0</td>\n",
              "      <td>NaN</td>\n",
              "      <td>NaN</td>\n",
              "      <td>4</td>\n",
              "      <td>2010</td>\n",
              "      <td>8</td>\n",
              "      <td>4</td>\n",
              "      <td>142125</td>\n",
              "    </tr>\n",
              "    <tr>\n",
              "      <th>1459</th>\n",
              "      <td>4</td>\n",
              "      <td>3</td>\n",
              "      <td>0.203918</td>\n",
              "      <td>-0.058112</td>\n",
              "      <td>1</td>\n",
              "      <td>2</td>\n",
              "      <td>Reg</td>\n",
              "      <td>3</td>\n",
              "      <td>AllPub</td>\n",
              "      <td>4</td>\n",
              "      <td>...</td>\n",
              "      <td>-0.068692</td>\n",
              "      <td>0</td>\n",
              "      <td>0</td>\n",
              "      <td>NaN</td>\n",
              "      <td>NaN</td>\n",
              "      <td>6</td>\n",
              "      <td>2008</td>\n",
              "      <td>8</td>\n",
              "      <td>4</td>\n",
              "      <td>147500</td>\n",
              "    </tr>\n",
              "  </tbody>\n",
              "</table>\n",
              "<p>1460 rows × 80 columns</p>\n",
              "</div>\n",
              "      <button class=\"colab-df-convert\" onclick=\"convertToInteractive('df-1e3d10e6-eea2-4bd8-b2ef-6366209c0f0c')\"\n",
              "              title=\"Convert this dataframe to an interactive table.\"\n",
              "              style=\"display:none;\">\n",
              "        \n",
              "  <svg xmlns=\"http://www.w3.org/2000/svg\" height=\"24px\"viewBox=\"0 0 24 24\"\n",
              "       width=\"24px\">\n",
              "    <path d=\"M0 0h24v24H0V0z\" fill=\"none\"/>\n",
              "    <path d=\"M18.56 5.44l.94 2.06.94-2.06 2.06-.94-2.06-.94-.94-2.06-.94 2.06-2.06.94zm-11 1L8.5 8.5l.94-2.06 2.06-.94-2.06-.94L8.5 2.5l-.94 2.06-2.06.94zm10 10l.94 2.06.94-2.06 2.06-.94-2.06-.94-.94-2.06-.94 2.06-2.06.94z\"/><path d=\"M17.41 7.96l-1.37-1.37c-.4-.4-.92-.59-1.43-.59-.52 0-1.04.2-1.43.59L10.3 9.45l-7.72 7.72c-.78.78-.78 2.05 0 2.83L4 21.41c.39.39.9.59 1.41.59.51 0 1.02-.2 1.41-.59l7.78-7.78 2.81-2.81c.8-.78.8-2.07 0-2.86zM5.41 20L4 18.59l7.72-7.72 1.47 1.35L5.41 20z\"/>\n",
              "  </svg>\n",
              "      </button>\n",
              "      \n",
              "  <style>\n",
              "    .colab-df-container {\n",
              "      display:flex;\n",
              "      flex-wrap:wrap;\n",
              "      gap: 12px;\n",
              "    }\n",
              "\n",
              "    .colab-df-convert {\n",
              "      background-color: #E8F0FE;\n",
              "      border: none;\n",
              "      border-radius: 50%;\n",
              "      cursor: pointer;\n",
              "      display: none;\n",
              "      fill: #1967D2;\n",
              "      height: 32px;\n",
              "      padding: 0 0 0 0;\n",
              "      width: 32px;\n",
              "    }\n",
              "\n",
              "    .colab-df-convert:hover {\n",
              "      background-color: #E2EBFA;\n",
              "      box-shadow: 0px 1px 2px rgba(60, 64, 67, 0.3), 0px 1px 3px 1px rgba(60, 64, 67, 0.15);\n",
              "      fill: #174EA6;\n",
              "    }\n",
              "\n",
              "    [theme=dark] .colab-df-convert {\n",
              "      background-color: #3B4455;\n",
              "      fill: #D2E3FC;\n",
              "    }\n",
              "\n",
              "    [theme=dark] .colab-df-convert:hover {\n",
              "      background-color: #434B5C;\n",
              "      box-shadow: 0px 1px 3px 1px rgba(0, 0, 0, 0.15);\n",
              "      filter: drop-shadow(0px 1px 2px rgba(0, 0, 0, 0.3));\n",
              "      fill: #FFFFFF;\n",
              "    }\n",
              "  </style>\n",
              "\n",
              "      <script>\n",
              "        const buttonEl =\n",
              "          document.querySelector('#df-1e3d10e6-eea2-4bd8-b2ef-6366209c0f0c button.colab-df-convert');\n",
              "        buttonEl.style.display =\n",
              "          google.colab.kernel.accessAllowed ? 'block' : 'none';\n",
              "\n",
              "        async function convertToInteractive(key) {\n",
              "          const element = document.querySelector('#df-1e3d10e6-eea2-4bd8-b2ef-6366209c0f0c');\n",
              "          const dataTable =\n",
              "            await google.colab.kernel.invokeFunction('convertToInteractive',\n",
              "                                                     [key], {});\n",
              "          if (!dataTable) return;\n",
              "\n",
              "          const docLinkHtml = 'Like what you see? Visit the ' +\n",
              "            '<a target=\"_blank\" href=https://colab.research.google.com/notebooks/data_table.ipynb>data table notebook</a>'\n",
              "            + ' to learn more about interactive tables.';\n",
              "          element.innerHTML = '';\n",
              "          dataTable['output_type'] = 'display_data';\n",
              "          await google.colab.output.renderOutput(dataTable, element);\n",
              "          const docLink = document.createElement('div');\n",
              "          docLink.innerHTML = docLinkHtml;\n",
              "          element.appendChild(docLink);\n",
              "        }\n",
              "      </script>\n",
              "    </div>\n",
              "  </div>\n",
              "  "
            ]
          },
          "metadata": {},
          "execution_count": 38
        }
      ]
    }
  ]
}