{
  "nbformat": 4,
  "nbformat_minor": 0,
  "metadata": {
    "colab": {
      "name": "Projekt.ipynb",
      "provenance": [],
      "include_colab_link": true
    },
    "kernelspec": {
      "name": "python3",
      "display_name": "Python 3"
    },
    "language_info": {
      "name": "python"
    }
  },
  "cells": [
    {
      "cell_type": "markdown",
      "metadata": {
        "id": "view-in-github",
        "colab_type": "text"
      },
      "source": [
        "<a href=\"https://colab.research.google.com/github/jedrexd/WTUM_11_2022/blob/main/Projekt.ipynb\" target=\"_parent\"><img src=\"https://colab.research.google.com/assets/colab-badge.svg\" alt=\"Open In Colab\"/></a>"
      ]
    },
    {
      "cell_type": "code",
      "execution_count": 1,
      "metadata": {
        "id": "vv_tBaUlqb2e"
      },
      "outputs": [],
      "source": [
        "import pandas as pd\n",
        "import numpy as np\n",
        "import matplotlib.pyplot as plt\n",
        "from sklearn.preprocessing import LabelEncoder, StandardScaler"
      ]
    },
    {
      "cell_type": "code",
      "source": [
        "!git clone https://github.com/jedrexd/WTUM_11_2022"
      ],
      "metadata": {
        "id": "mN3EVZgZs1rF",
        "outputId": "74d0727e-9abc-47e4-9b76-0837427a17c5",
        "colab": {
          "base_uri": "https://localhost:8080/"
        }
      },
      "execution_count": 2,
      "outputs": [
        {
          "output_type": "stream",
          "name": "stdout",
          "text": [
            "Cloning into 'WTUM_11_2022'...\n",
            "remote: Enumerating objects: 68, done.\u001b[K\n",
            "remote: Counting objects: 100% (68/68), done.\u001b[K\n",
            "remote: Compressing objects: 100% (66/66), done.\u001b[K\n",
            "remote: Total 68 (delta 36), reused 0 (delta 0), pack-reused 0\u001b[K\n",
            "Unpacking objects: 100% (68/68), done.\n"
          ]
        }
      ]
    },
    {
      "cell_type": "code",
      "source": [
        "df = pd.read_csv(\"/content/WTUM_11_2022/train.csv\", header=0)\n",
        "df = df.iloc[:,1:]\n",
        "df"
      ],
      "metadata": {
        "id": "vSbAxlCA5EDw",
        "outputId": "4aa0b6ea-36eb-4fee-8f5c-c70e50a21aed",
        "colab": {
          "base_uri": "https://localhost:8080/",
          "height": 424
        }
      },
      "execution_count": 57,
      "outputs": [
        {
          "output_type": "execute_result",
          "data": {
            "text/plain": [
              "      MSSubClass MSZoning  LotFrontage  LotArea Street Alley LotShape  \\\n",
              "0             60       RL         65.0     8450   Pave   NaN      Reg   \n",
              "1             20       RL         80.0     9600   Pave   NaN      Reg   \n",
              "2             60       RL         68.0    11250   Pave   NaN      IR1   \n",
              "3             70       RL         60.0     9550   Pave   NaN      IR1   \n",
              "4             60       RL         84.0    14260   Pave   NaN      IR1   \n",
              "...          ...      ...          ...      ...    ...   ...      ...   \n",
              "1455          60       RL         62.0     7917   Pave   NaN      Reg   \n",
              "1456          20       RL         85.0    13175   Pave   NaN      Reg   \n",
              "1457          70       RL         66.0     9042   Pave   NaN      Reg   \n",
              "1458          20       RL         68.0     9717   Pave   NaN      Reg   \n",
              "1459          20       RL         75.0     9937   Pave   NaN      Reg   \n",
              "\n",
              "     LandContour Utilities LotConfig  ... PoolArea PoolQC  Fence MiscFeature  \\\n",
              "0            Lvl    AllPub    Inside  ...        0    NaN    NaN         NaN   \n",
              "1            Lvl    AllPub       FR2  ...        0    NaN    NaN         NaN   \n",
              "2            Lvl    AllPub    Inside  ...        0    NaN    NaN         NaN   \n",
              "3            Lvl    AllPub    Corner  ...        0    NaN    NaN         NaN   \n",
              "4            Lvl    AllPub       FR2  ...        0    NaN    NaN         NaN   \n",
              "...          ...       ...       ...  ...      ...    ...    ...         ...   \n",
              "1455         Lvl    AllPub    Inside  ...        0    NaN    NaN         NaN   \n",
              "1456         Lvl    AllPub    Inside  ...        0    NaN  MnPrv         NaN   \n",
              "1457         Lvl    AllPub    Inside  ...        0    NaN  GdPrv        Shed   \n",
              "1458         Lvl    AllPub    Inside  ...        0    NaN    NaN         NaN   \n",
              "1459         Lvl    AllPub    Inside  ...        0    NaN    NaN         NaN   \n",
              "\n",
              "     MiscVal MoSold  YrSold  SaleType  SaleCondition  SalePrice  \n",
              "0          0      2    2008        WD         Normal     208500  \n",
              "1          0      5    2007        WD         Normal     181500  \n",
              "2          0      9    2008        WD         Normal     223500  \n",
              "3          0      2    2006        WD        Abnorml     140000  \n",
              "4          0     12    2008        WD         Normal     250000  \n",
              "...      ...    ...     ...       ...            ...        ...  \n",
              "1455       0      8    2007        WD         Normal     175000  \n",
              "1456       0      2    2010        WD         Normal     210000  \n",
              "1457    2500      5    2010        WD         Normal     266500  \n",
              "1458       0      4    2010        WD         Normal     142125  \n",
              "1459       0      6    2008        WD         Normal     147500  \n",
              "\n",
              "[1460 rows x 80 columns]"
            ],
            "text/html": [
              "\n",
              "  <div id=\"df-08b94e25-e488-4381-bef8-efc6075945c2\">\n",
              "    <div class=\"colab-df-container\">\n",
              "      <div>\n",
              "<style scoped>\n",
              "    .dataframe tbody tr th:only-of-type {\n",
              "        vertical-align: middle;\n",
              "    }\n",
              "\n",
              "    .dataframe tbody tr th {\n",
              "        vertical-align: top;\n",
              "    }\n",
              "\n",
              "    .dataframe thead th {\n",
              "        text-align: right;\n",
              "    }\n",
              "</style>\n",
              "<table border=\"1\" class=\"dataframe\">\n",
              "  <thead>\n",
              "    <tr style=\"text-align: right;\">\n",
              "      <th></th>\n",
              "      <th>MSSubClass</th>\n",
              "      <th>MSZoning</th>\n",
              "      <th>LotFrontage</th>\n",
              "      <th>LotArea</th>\n",
              "      <th>Street</th>\n",
              "      <th>Alley</th>\n",
              "      <th>LotShape</th>\n",
              "      <th>LandContour</th>\n",
              "      <th>Utilities</th>\n",
              "      <th>LotConfig</th>\n",
              "      <th>...</th>\n",
              "      <th>PoolArea</th>\n",
              "      <th>PoolQC</th>\n",
              "      <th>Fence</th>\n",
              "      <th>MiscFeature</th>\n",
              "      <th>MiscVal</th>\n",
              "      <th>MoSold</th>\n",
              "      <th>YrSold</th>\n",
              "      <th>SaleType</th>\n",
              "      <th>SaleCondition</th>\n",
              "      <th>SalePrice</th>\n",
              "    </tr>\n",
              "  </thead>\n",
              "  <tbody>\n",
              "    <tr>\n",
              "      <th>0</th>\n",
              "      <td>60</td>\n",
              "      <td>RL</td>\n",
              "      <td>65.0</td>\n",
              "      <td>8450</td>\n",
              "      <td>Pave</td>\n",
              "      <td>NaN</td>\n",
              "      <td>Reg</td>\n",
              "      <td>Lvl</td>\n",
              "      <td>AllPub</td>\n",
              "      <td>Inside</td>\n",
              "      <td>...</td>\n",
              "      <td>0</td>\n",
              "      <td>NaN</td>\n",
              "      <td>NaN</td>\n",
              "      <td>NaN</td>\n",
              "      <td>0</td>\n",
              "      <td>2</td>\n",
              "      <td>2008</td>\n",
              "      <td>WD</td>\n",
              "      <td>Normal</td>\n",
              "      <td>208500</td>\n",
              "    </tr>\n",
              "    <tr>\n",
              "      <th>1</th>\n",
              "      <td>20</td>\n",
              "      <td>RL</td>\n",
              "      <td>80.0</td>\n",
              "      <td>9600</td>\n",
              "      <td>Pave</td>\n",
              "      <td>NaN</td>\n",
              "      <td>Reg</td>\n",
              "      <td>Lvl</td>\n",
              "      <td>AllPub</td>\n",
              "      <td>FR2</td>\n",
              "      <td>...</td>\n",
              "      <td>0</td>\n",
              "      <td>NaN</td>\n",
              "      <td>NaN</td>\n",
              "      <td>NaN</td>\n",
              "      <td>0</td>\n",
              "      <td>5</td>\n",
              "      <td>2007</td>\n",
              "      <td>WD</td>\n",
              "      <td>Normal</td>\n",
              "      <td>181500</td>\n",
              "    </tr>\n",
              "    <tr>\n",
              "      <th>2</th>\n",
              "      <td>60</td>\n",
              "      <td>RL</td>\n",
              "      <td>68.0</td>\n",
              "      <td>11250</td>\n",
              "      <td>Pave</td>\n",
              "      <td>NaN</td>\n",
              "      <td>IR1</td>\n",
              "      <td>Lvl</td>\n",
              "      <td>AllPub</td>\n",
              "      <td>Inside</td>\n",
              "      <td>...</td>\n",
              "      <td>0</td>\n",
              "      <td>NaN</td>\n",
              "      <td>NaN</td>\n",
              "      <td>NaN</td>\n",
              "      <td>0</td>\n",
              "      <td>9</td>\n",
              "      <td>2008</td>\n",
              "      <td>WD</td>\n",
              "      <td>Normal</td>\n",
              "      <td>223500</td>\n",
              "    </tr>\n",
              "    <tr>\n",
              "      <th>3</th>\n",
              "      <td>70</td>\n",
              "      <td>RL</td>\n",
              "      <td>60.0</td>\n",
              "      <td>9550</td>\n",
              "      <td>Pave</td>\n",
              "      <td>NaN</td>\n",
              "      <td>IR1</td>\n",
              "      <td>Lvl</td>\n",
              "      <td>AllPub</td>\n",
              "      <td>Corner</td>\n",
              "      <td>...</td>\n",
              "      <td>0</td>\n",
              "      <td>NaN</td>\n",
              "      <td>NaN</td>\n",
              "      <td>NaN</td>\n",
              "      <td>0</td>\n",
              "      <td>2</td>\n",
              "      <td>2006</td>\n",
              "      <td>WD</td>\n",
              "      <td>Abnorml</td>\n",
              "      <td>140000</td>\n",
              "    </tr>\n",
              "    <tr>\n",
              "      <th>4</th>\n",
              "      <td>60</td>\n",
              "      <td>RL</td>\n",
              "      <td>84.0</td>\n",
              "      <td>14260</td>\n",
              "      <td>Pave</td>\n",
              "      <td>NaN</td>\n",
              "      <td>IR1</td>\n",
              "      <td>Lvl</td>\n",
              "      <td>AllPub</td>\n",
              "      <td>FR2</td>\n",
              "      <td>...</td>\n",
              "      <td>0</td>\n",
              "      <td>NaN</td>\n",
              "      <td>NaN</td>\n",
              "      <td>NaN</td>\n",
              "      <td>0</td>\n",
              "      <td>12</td>\n",
              "      <td>2008</td>\n",
              "      <td>WD</td>\n",
              "      <td>Normal</td>\n",
              "      <td>250000</td>\n",
              "    </tr>\n",
              "    <tr>\n",
              "      <th>...</th>\n",
              "      <td>...</td>\n",
              "      <td>...</td>\n",
              "      <td>...</td>\n",
              "      <td>...</td>\n",
              "      <td>...</td>\n",
              "      <td>...</td>\n",
              "      <td>...</td>\n",
              "      <td>...</td>\n",
              "      <td>...</td>\n",
              "      <td>...</td>\n",
              "      <td>...</td>\n",
              "      <td>...</td>\n",
              "      <td>...</td>\n",
              "      <td>...</td>\n",
              "      <td>...</td>\n",
              "      <td>...</td>\n",
              "      <td>...</td>\n",
              "      <td>...</td>\n",
              "      <td>...</td>\n",
              "      <td>...</td>\n",
              "      <td>...</td>\n",
              "    </tr>\n",
              "    <tr>\n",
              "      <th>1455</th>\n",
              "      <td>60</td>\n",
              "      <td>RL</td>\n",
              "      <td>62.0</td>\n",
              "      <td>7917</td>\n",
              "      <td>Pave</td>\n",
              "      <td>NaN</td>\n",
              "      <td>Reg</td>\n",
              "      <td>Lvl</td>\n",
              "      <td>AllPub</td>\n",
              "      <td>Inside</td>\n",
              "      <td>...</td>\n",
              "      <td>0</td>\n",
              "      <td>NaN</td>\n",
              "      <td>NaN</td>\n",
              "      <td>NaN</td>\n",
              "      <td>0</td>\n",
              "      <td>8</td>\n",
              "      <td>2007</td>\n",
              "      <td>WD</td>\n",
              "      <td>Normal</td>\n",
              "      <td>175000</td>\n",
              "    </tr>\n",
              "    <tr>\n",
              "      <th>1456</th>\n",
              "      <td>20</td>\n",
              "      <td>RL</td>\n",
              "      <td>85.0</td>\n",
              "      <td>13175</td>\n",
              "      <td>Pave</td>\n",
              "      <td>NaN</td>\n",
              "      <td>Reg</td>\n",
              "      <td>Lvl</td>\n",
              "      <td>AllPub</td>\n",
              "      <td>Inside</td>\n",
              "      <td>...</td>\n",
              "      <td>0</td>\n",
              "      <td>NaN</td>\n",
              "      <td>MnPrv</td>\n",
              "      <td>NaN</td>\n",
              "      <td>0</td>\n",
              "      <td>2</td>\n",
              "      <td>2010</td>\n",
              "      <td>WD</td>\n",
              "      <td>Normal</td>\n",
              "      <td>210000</td>\n",
              "    </tr>\n",
              "    <tr>\n",
              "      <th>1457</th>\n",
              "      <td>70</td>\n",
              "      <td>RL</td>\n",
              "      <td>66.0</td>\n",
              "      <td>9042</td>\n",
              "      <td>Pave</td>\n",
              "      <td>NaN</td>\n",
              "      <td>Reg</td>\n",
              "      <td>Lvl</td>\n",
              "      <td>AllPub</td>\n",
              "      <td>Inside</td>\n",
              "      <td>...</td>\n",
              "      <td>0</td>\n",
              "      <td>NaN</td>\n",
              "      <td>GdPrv</td>\n",
              "      <td>Shed</td>\n",
              "      <td>2500</td>\n",
              "      <td>5</td>\n",
              "      <td>2010</td>\n",
              "      <td>WD</td>\n",
              "      <td>Normal</td>\n",
              "      <td>266500</td>\n",
              "    </tr>\n",
              "    <tr>\n",
              "      <th>1458</th>\n",
              "      <td>20</td>\n",
              "      <td>RL</td>\n",
              "      <td>68.0</td>\n",
              "      <td>9717</td>\n",
              "      <td>Pave</td>\n",
              "      <td>NaN</td>\n",
              "      <td>Reg</td>\n",
              "      <td>Lvl</td>\n",
              "      <td>AllPub</td>\n",
              "      <td>Inside</td>\n",
              "      <td>...</td>\n",
              "      <td>0</td>\n",
              "      <td>NaN</td>\n",
              "      <td>NaN</td>\n",
              "      <td>NaN</td>\n",
              "      <td>0</td>\n",
              "      <td>4</td>\n",
              "      <td>2010</td>\n",
              "      <td>WD</td>\n",
              "      <td>Normal</td>\n",
              "      <td>142125</td>\n",
              "    </tr>\n",
              "    <tr>\n",
              "      <th>1459</th>\n",
              "      <td>20</td>\n",
              "      <td>RL</td>\n",
              "      <td>75.0</td>\n",
              "      <td>9937</td>\n",
              "      <td>Pave</td>\n",
              "      <td>NaN</td>\n",
              "      <td>Reg</td>\n",
              "      <td>Lvl</td>\n",
              "      <td>AllPub</td>\n",
              "      <td>Inside</td>\n",
              "      <td>...</td>\n",
              "      <td>0</td>\n",
              "      <td>NaN</td>\n",
              "      <td>NaN</td>\n",
              "      <td>NaN</td>\n",
              "      <td>0</td>\n",
              "      <td>6</td>\n",
              "      <td>2008</td>\n",
              "      <td>WD</td>\n",
              "      <td>Normal</td>\n",
              "      <td>147500</td>\n",
              "    </tr>\n",
              "  </tbody>\n",
              "</table>\n",
              "<p>1460 rows × 80 columns</p>\n",
              "</div>\n",
              "      <button class=\"colab-df-convert\" onclick=\"convertToInteractive('df-08b94e25-e488-4381-bef8-efc6075945c2')\"\n",
              "              title=\"Convert this dataframe to an interactive table.\"\n",
              "              style=\"display:none;\">\n",
              "        \n",
              "  <svg xmlns=\"http://www.w3.org/2000/svg\" height=\"24px\"viewBox=\"0 0 24 24\"\n",
              "       width=\"24px\">\n",
              "    <path d=\"M0 0h24v24H0V0z\" fill=\"none\"/>\n",
              "    <path d=\"M18.56 5.44l.94 2.06.94-2.06 2.06-.94-2.06-.94-.94-2.06-.94 2.06-2.06.94zm-11 1L8.5 8.5l.94-2.06 2.06-.94-2.06-.94L8.5 2.5l-.94 2.06-2.06.94zm10 10l.94 2.06.94-2.06 2.06-.94-2.06-.94-.94-2.06-.94 2.06-2.06.94z\"/><path d=\"M17.41 7.96l-1.37-1.37c-.4-.4-.92-.59-1.43-.59-.52 0-1.04.2-1.43.59L10.3 9.45l-7.72 7.72c-.78.78-.78 2.05 0 2.83L4 21.41c.39.39.9.59 1.41.59.51 0 1.02-.2 1.41-.59l7.78-7.78 2.81-2.81c.8-.78.8-2.07 0-2.86zM5.41 20L4 18.59l7.72-7.72 1.47 1.35L5.41 20z\"/>\n",
              "  </svg>\n",
              "      </button>\n",
              "      \n",
              "  <style>\n",
              "    .colab-df-container {\n",
              "      display:flex;\n",
              "      flex-wrap:wrap;\n",
              "      gap: 12px;\n",
              "    }\n",
              "\n",
              "    .colab-df-convert {\n",
              "      background-color: #E8F0FE;\n",
              "      border: none;\n",
              "      border-radius: 50%;\n",
              "      cursor: pointer;\n",
              "      display: none;\n",
              "      fill: #1967D2;\n",
              "      height: 32px;\n",
              "      padding: 0 0 0 0;\n",
              "      width: 32px;\n",
              "    }\n",
              "\n",
              "    .colab-df-convert:hover {\n",
              "      background-color: #E2EBFA;\n",
              "      box-shadow: 0px 1px 2px rgba(60, 64, 67, 0.3), 0px 1px 3px 1px rgba(60, 64, 67, 0.15);\n",
              "      fill: #174EA6;\n",
              "    }\n",
              "\n",
              "    [theme=dark] .colab-df-convert {\n",
              "      background-color: #3B4455;\n",
              "      fill: #D2E3FC;\n",
              "    }\n",
              "\n",
              "    [theme=dark] .colab-df-convert:hover {\n",
              "      background-color: #434B5C;\n",
              "      box-shadow: 0px 1px 3px 1px rgba(0, 0, 0, 0.15);\n",
              "      filter: drop-shadow(0px 1px 2px rgba(0, 0, 0, 0.3));\n",
              "      fill: #FFFFFF;\n",
              "    }\n",
              "  </style>\n",
              "\n",
              "      <script>\n",
              "        const buttonEl =\n",
              "          document.querySelector('#df-08b94e25-e488-4381-bef8-efc6075945c2 button.colab-df-convert');\n",
              "        buttonEl.style.display =\n",
              "          google.colab.kernel.accessAllowed ? 'block' : 'none';\n",
              "\n",
              "        async function convertToInteractive(key) {\n",
              "          const element = document.querySelector('#df-08b94e25-e488-4381-bef8-efc6075945c2');\n",
              "          const dataTable =\n",
              "            await google.colab.kernel.invokeFunction('convertToInteractive',\n",
              "                                                     [key], {});\n",
              "          if (!dataTable) return;\n",
              "\n",
              "          const docLinkHtml = 'Like what you see? Visit the ' +\n",
              "            '<a target=\"_blank\" href=https://colab.research.google.com/notebooks/data_table.ipynb>data table notebook</a>'\n",
              "            + ' to learn more about interactive tables.';\n",
              "          element.innerHTML = '';\n",
              "          dataTable['output_type'] = 'display_data';\n",
              "          await google.colab.output.renderOutput(dataTable, element);\n",
              "          const docLink = document.createElement('div');\n",
              "          docLink.innerHTML = docLinkHtml;\n",
              "          element.appendChild(docLink);\n",
              "        }\n",
              "      </script>\n",
              "    </div>\n",
              "  </div>\n",
              "  "
            ]
          },
          "metadata": {},
          "execution_count": 57
        }
      ]
    },
    {
      "cell_type": "code",
      "source": [
        "df.describe()"
      ],
      "metadata": {
        "id": "MnzsTMuN83dS",
        "outputId": "67f0e0ca-91ec-4530-873e-490d78d6fa02",
        "colab": {
          "base_uri": "https://localhost:8080/",
          "height": 394
        }
      },
      "execution_count": 58,
      "outputs": [
        {
          "output_type": "execute_result",
          "data": {
            "text/plain": [
              "        MSSubClass  LotFrontage        LotArea  OverallQual  OverallCond  \\\n",
              "count  1460.000000  1201.000000    1460.000000  1460.000000  1460.000000   \n",
              "mean     56.897260    70.049958   10516.828082     6.099315     5.575342   \n",
              "std      42.300571    24.284752    9981.264932     1.382997     1.112799   \n",
              "min      20.000000    21.000000    1300.000000     1.000000     1.000000   \n",
              "25%      20.000000    59.000000    7553.500000     5.000000     5.000000   \n",
              "50%      50.000000    69.000000    9478.500000     6.000000     5.000000   \n",
              "75%      70.000000    80.000000   11601.500000     7.000000     6.000000   \n",
              "max     190.000000   313.000000  215245.000000    10.000000     9.000000   \n",
              "\n",
              "         YearBuilt  YearRemodAdd   MasVnrArea   BsmtFinSF1   BsmtFinSF2  ...  \\\n",
              "count  1460.000000   1460.000000  1452.000000  1460.000000  1460.000000  ...   \n",
              "mean   1971.267808   1984.865753   103.685262   443.639726    46.549315  ...   \n",
              "std      30.202904     20.645407   181.066207   456.098091   161.319273  ...   \n",
              "min    1872.000000   1950.000000     0.000000     0.000000     0.000000  ...   \n",
              "25%    1954.000000   1967.000000     0.000000     0.000000     0.000000  ...   \n",
              "50%    1973.000000   1994.000000     0.000000   383.500000     0.000000  ...   \n",
              "75%    2000.000000   2004.000000   166.000000   712.250000     0.000000  ...   \n",
              "max    2010.000000   2010.000000  1600.000000  5644.000000  1474.000000  ...   \n",
              "\n",
              "        WoodDeckSF  OpenPorchSF  EnclosedPorch    3SsnPorch  ScreenPorch  \\\n",
              "count  1460.000000  1460.000000    1460.000000  1460.000000  1460.000000   \n",
              "mean     94.244521    46.660274      21.954110     3.409589    15.060959   \n",
              "std     125.338794    66.256028      61.119149    29.317331    55.757415   \n",
              "min       0.000000     0.000000       0.000000     0.000000     0.000000   \n",
              "25%       0.000000     0.000000       0.000000     0.000000     0.000000   \n",
              "50%       0.000000    25.000000       0.000000     0.000000     0.000000   \n",
              "75%     168.000000    68.000000       0.000000     0.000000     0.000000   \n",
              "max     857.000000   547.000000     552.000000   508.000000   480.000000   \n",
              "\n",
              "          PoolArea       MiscVal       MoSold       YrSold      SalePrice  \n",
              "count  1460.000000   1460.000000  1460.000000  1460.000000    1460.000000  \n",
              "mean      2.758904     43.489041     6.321918  2007.815753  180921.195890  \n",
              "std      40.177307    496.123024     2.703626     1.328095   79442.502883  \n",
              "min       0.000000      0.000000     1.000000  2006.000000   34900.000000  \n",
              "25%       0.000000      0.000000     5.000000  2007.000000  129975.000000  \n",
              "50%       0.000000      0.000000     6.000000  2008.000000  163000.000000  \n",
              "75%       0.000000      0.000000     8.000000  2009.000000  214000.000000  \n",
              "max     738.000000  15500.000000    12.000000  2010.000000  755000.000000  \n",
              "\n",
              "[8 rows x 37 columns]"
            ],
            "text/html": [
              "\n",
              "  <div id=\"df-8c7ac93b-398a-49f6-bb62-6285e8a5f4d5\">\n",
              "    <div class=\"colab-df-container\">\n",
              "      <div>\n",
              "<style scoped>\n",
              "    .dataframe tbody tr th:only-of-type {\n",
              "        vertical-align: middle;\n",
              "    }\n",
              "\n",
              "    .dataframe tbody tr th {\n",
              "        vertical-align: top;\n",
              "    }\n",
              "\n",
              "    .dataframe thead th {\n",
              "        text-align: right;\n",
              "    }\n",
              "</style>\n",
              "<table border=\"1\" class=\"dataframe\">\n",
              "  <thead>\n",
              "    <tr style=\"text-align: right;\">\n",
              "      <th></th>\n",
              "      <th>MSSubClass</th>\n",
              "      <th>LotFrontage</th>\n",
              "      <th>LotArea</th>\n",
              "      <th>OverallQual</th>\n",
              "      <th>OverallCond</th>\n",
              "      <th>YearBuilt</th>\n",
              "      <th>YearRemodAdd</th>\n",
              "      <th>MasVnrArea</th>\n",
              "      <th>BsmtFinSF1</th>\n",
              "      <th>BsmtFinSF2</th>\n",
              "      <th>...</th>\n",
              "      <th>WoodDeckSF</th>\n",
              "      <th>OpenPorchSF</th>\n",
              "      <th>EnclosedPorch</th>\n",
              "      <th>3SsnPorch</th>\n",
              "      <th>ScreenPorch</th>\n",
              "      <th>PoolArea</th>\n",
              "      <th>MiscVal</th>\n",
              "      <th>MoSold</th>\n",
              "      <th>YrSold</th>\n",
              "      <th>SalePrice</th>\n",
              "    </tr>\n",
              "  </thead>\n",
              "  <tbody>\n",
              "    <tr>\n",
              "      <th>count</th>\n",
              "      <td>1460.000000</td>\n",
              "      <td>1201.000000</td>\n",
              "      <td>1460.000000</td>\n",
              "      <td>1460.000000</td>\n",
              "      <td>1460.000000</td>\n",
              "      <td>1460.000000</td>\n",
              "      <td>1460.000000</td>\n",
              "      <td>1452.000000</td>\n",
              "      <td>1460.000000</td>\n",
              "      <td>1460.000000</td>\n",
              "      <td>...</td>\n",
              "      <td>1460.000000</td>\n",
              "      <td>1460.000000</td>\n",
              "      <td>1460.000000</td>\n",
              "      <td>1460.000000</td>\n",
              "      <td>1460.000000</td>\n",
              "      <td>1460.000000</td>\n",
              "      <td>1460.000000</td>\n",
              "      <td>1460.000000</td>\n",
              "      <td>1460.000000</td>\n",
              "      <td>1460.000000</td>\n",
              "    </tr>\n",
              "    <tr>\n",
              "      <th>mean</th>\n",
              "      <td>56.897260</td>\n",
              "      <td>70.049958</td>\n",
              "      <td>10516.828082</td>\n",
              "      <td>6.099315</td>\n",
              "      <td>5.575342</td>\n",
              "      <td>1971.267808</td>\n",
              "      <td>1984.865753</td>\n",
              "      <td>103.685262</td>\n",
              "      <td>443.639726</td>\n",
              "      <td>46.549315</td>\n",
              "      <td>...</td>\n",
              "      <td>94.244521</td>\n",
              "      <td>46.660274</td>\n",
              "      <td>21.954110</td>\n",
              "      <td>3.409589</td>\n",
              "      <td>15.060959</td>\n",
              "      <td>2.758904</td>\n",
              "      <td>43.489041</td>\n",
              "      <td>6.321918</td>\n",
              "      <td>2007.815753</td>\n",
              "      <td>180921.195890</td>\n",
              "    </tr>\n",
              "    <tr>\n",
              "      <th>std</th>\n",
              "      <td>42.300571</td>\n",
              "      <td>24.284752</td>\n",
              "      <td>9981.264932</td>\n",
              "      <td>1.382997</td>\n",
              "      <td>1.112799</td>\n",
              "      <td>30.202904</td>\n",
              "      <td>20.645407</td>\n",
              "      <td>181.066207</td>\n",
              "      <td>456.098091</td>\n",
              "      <td>161.319273</td>\n",
              "      <td>...</td>\n",
              "      <td>125.338794</td>\n",
              "      <td>66.256028</td>\n",
              "      <td>61.119149</td>\n",
              "      <td>29.317331</td>\n",
              "      <td>55.757415</td>\n",
              "      <td>40.177307</td>\n",
              "      <td>496.123024</td>\n",
              "      <td>2.703626</td>\n",
              "      <td>1.328095</td>\n",
              "      <td>79442.502883</td>\n",
              "    </tr>\n",
              "    <tr>\n",
              "      <th>min</th>\n",
              "      <td>20.000000</td>\n",
              "      <td>21.000000</td>\n",
              "      <td>1300.000000</td>\n",
              "      <td>1.000000</td>\n",
              "      <td>1.000000</td>\n",
              "      <td>1872.000000</td>\n",
              "      <td>1950.000000</td>\n",
              "      <td>0.000000</td>\n",
              "      <td>0.000000</td>\n",
              "      <td>0.000000</td>\n",
              "      <td>...</td>\n",
              "      <td>0.000000</td>\n",
              "      <td>0.000000</td>\n",
              "      <td>0.000000</td>\n",
              "      <td>0.000000</td>\n",
              "      <td>0.000000</td>\n",
              "      <td>0.000000</td>\n",
              "      <td>0.000000</td>\n",
              "      <td>1.000000</td>\n",
              "      <td>2006.000000</td>\n",
              "      <td>34900.000000</td>\n",
              "    </tr>\n",
              "    <tr>\n",
              "      <th>25%</th>\n",
              "      <td>20.000000</td>\n",
              "      <td>59.000000</td>\n",
              "      <td>7553.500000</td>\n",
              "      <td>5.000000</td>\n",
              "      <td>5.000000</td>\n",
              "      <td>1954.000000</td>\n",
              "      <td>1967.000000</td>\n",
              "      <td>0.000000</td>\n",
              "      <td>0.000000</td>\n",
              "      <td>0.000000</td>\n",
              "      <td>...</td>\n",
              "      <td>0.000000</td>\n",
              "      <td>0.000000</td>\n",
              "      <td>0.000000</td>\n",
              "      <td>0.000000</td>\n",
              "      <td>0.000000</td>\n",
              "      <td>0.000000</td>\n",
              "      <td>0.000000</td>\n",
              "      <td>5.000000</td>\n",
              "      <td>2007.000000</td>\n",
              "      <td>129975.000000</td>\n",
              "    </tr>\n",
              "    <tr>\n",
              "      <th>50%</th>\n",
              "      <td>50.000000</td>\n",
              "      <td>69.000000</td>\n",
              "      <td>9478.500000</td>\n",
              "      <td>6.000000</td>\n",
              "      <td>5.000000</td>\n",
              "      <td>1973.000000</td>\n",
              "      <td>1994.000000</td>\n",
              "      <td>0.000000</td>\n",
              "      <td>383.500000</td>\n",
              "      <td>0.000000</td>\n",
              "      <td>...</td>\n",
              "      <td>0.000000</td>\n",
              "      <td>25.000000</td>\n",
              "      <td>0.000000</td>\n",
              "      <td>0.000000</td>\n",
              "      <td>0.000000</td>\n",
              "      <td>0.000000</td>\n",
              "      <td>0.000000</td>\n",
              "      <td>6.000000</td>\n",
              "      <td>2008.000000</td>\n",
              "      <td>163000.000000</td>\n",
              "    </tr>\n",
              "    <tr>\n",
              "      <th>75%</th>\n",
              "      <td>70.000000</td>\n",
              "      <td>80.000000</td>\n",
              "      <td>11601.500000</td>\n",
              "      <td>7.000000</td>\n",
              "      <td>6.000000</td>\n",
              "      <td>2000.000000</td>\n",
              "      <td>2004.000000</td>\n",
              "      <td>166.000000</td>\n",
              "      <td>712.250000</td>\n",
              "      <td>0.000000</td>\n",
              "      <td>...</td>\n",
              "      <td>168.000000</td>\n",
              "      <td>68.000000</td>\n",
              "      <td>0.000000</td>\n",
              "      <td>0.000000</td>\n",
              "      <td>0.000000</td>\n",
              "      <td>0.000000</td>\n",
              "      <td>0.000000</td>\n",
              "      <td>8.000000</td>\n",
              "      <td>2009.000000</td>\n",
              "      <td>214000.000000</td>\n",
              "    </tr>\n",
              "    <tr>\n",
              "      <th>max</th>\n",
              "      <td>190.000000</td>\n",
              "      <td>313.000000</td>\n",
              "      <td>215245.000000</td>\n",
              "      <td>10.000000</td>\n",
              "      <td>9.000000</td>\n",
              "      <td>2010.000000</td>\n",
              "      <td>2010.000000</td>\n",
              "      <td>1600.000000</td>\n",
              "      <td>5644.000000</td>\n",
              "      <td>1474.000000</td>\n",
              "      <td>...</td>\n",
              "      <td>857.000000</td>\n",
              "      <td>547.000000</td>\n",
              "      <td>552.000000</td>\n",
              "      <td>508.000000</td>\n",
              "      <td>480.000000</td>\n",
              "      <td>738.000000</td>\n",
              "      <td>15500.000000</td>\n",
              "      <td>12.000000</td>\n",
              "      <td>2010.000000</td>\n",
              "      <td>755000.000000</td>\n",
              "    </tr>\n",
              "  </tbody>\n",
              "</table>\n",
              "<p>8 rows × 37 columns</p>\n",
              "</div>\n",
              "      <button class=\"colab-df-convert\" onclick=\"convertToInteractive('df-8c7ac93b-398a-49f6-bb62-6285e8a5f4d5')\"\n",
              "              title=\"Convert this dataframe to an interactive table.\"\n",
              "              style=\"display:none;\">\n",
              "        \n",
              "  <svg xmlns=\"http://www.w3.org/2000/svg\" height=\"24px\"viewBox=\"0 0 24 24\"\n",
              "       width=\"24px\">\n",
              "    <path d=\"M0 0h24v24H0V0z\" fill=\"none\"/>\n",
              "    <path d=\"M18.56 5.44l.94 2.06.94-2.06 2.06-.94-2.06-.94-.94-2.06-.94 2.06-2.06.94zm-11 1L8.5 8.5l.94-2.06 2.06-.94-2.06-.94L8.5 2.5l-.94 2.06-2.06.94zm10 10l.94 2.06.94-2.06 2.06-.94-2.06-.94-.94-2.06-.94 2.06-2.06.94z\"/><path d=\"M17.41 7.96l-1.37-1.37c-.4-.4-.92-.59-1.43-.59-.52 0-1.04.2-1.43.59L10.3 9.45l-7.72 7.72c-.78.78-.78 2.05 0 2.83L4 21.41c.39.39.9.59 1.41.59.51 0 1.02-.2 1.41-.59l7.78-7.78 2.81-2.81c.8-.78.8-2.07 0-2.86zM5.41 20L4 18.59l7.72-7.72 1.47 1.35L5.41 20z\"/>\n",
              "  </svg>\n",
              "      </button>\n",
              "      \n",
              "  <style>\n",
              "    .colab-df-container {\n",
              "      display:flex;\n",
              "      flex-wrap:wrap;\n",
              "      gap: 12px;\n",
              "    }\n",
              "\n",
              "    .colab-df-convert {\n",
              "      background-color: #E8F0FE;\n",
              "      border: none;\n",
              "      border-radius: 50%;\n",
              "      cursor: pointer;\n",
              "      display: none;\n",
              "      fill: #1967D2;\n",
              "      height: 32px;\n",
              "      padding: 0 0 0 0;\n",
              "      width: 32px;\n",
              "    }\n",
              "\n",
              "    .colab-df-convert:hover {\n",
              "      background-color: #E2EBFA;\n",
              "      box-shadow: 0px 1px 2px rgba(60, 64, 67, 0.3), 0px 1px 3px 1px rgba(60, 64, 67, 0.15);\n",
              "      fill: #174EA6;\n",
              "    }\n",
              "\n",
              "    [theme=dark] .colab-df-convert {\n",
              "      background-color: #3B4455;\n",
              "      fill: #D2E3FC;\n",
              "    }\n",
              "\n",
              "    [theme=dark] .colab-df-convert:hover {\n",
              "      background-color: #434B5C;\n",
              "      box-shadow: 0px 1px 3px 1px rgba(0, 0, 0, 0.15);\n",
              "      filter: drop-shadow(0px 1px 2px rgba(0, 0, 0, 0.3));\n",
              "      fill: #FFFFFF;\n",
              "    }\n",
              "  </style>\n",
              "\n",
              "      <script>\n",
              "        const buttonEl =\n",
              "          document.querySelector('#df-8c7ac93b-398a-49f6-bb62-6285e8a5f4d5 button.colab-df-convert');\n",
              "        buttonEl.style.display =\n",
              "          google.colab.kernel.accessAllowed ? 'block' : 'none';\n",
              "\n",
              "        async function convertToInteractive(key) {\n",
              "          const element = document.querySelector('#df-8c7ac93b-398a-49f6-bb62-6285e8a5f4d5');\n",
              "          const dataTable =\n",
              "            await google.colab.kernel.invokeFunction('convertToInteractive',\n",
              "                                                     [key], {});\n",
              "          if (!dataTable) return;\n",
              "\n",
              "          const docLinkHtml = 'Like what you see? Visit the ' +\n",
              "            '<a target=\"_blank\" href=https://colab.research.google.com/notebooks/data_table.ipynb>data table notebook</a>'\n",
              "            + ' to learn more about interactive tables.';\n",
              "          element.innerHTML = '';\n",
              "          dataTable['output_type'] = 'display_data';\n",
              "          await google.colab.output.renderOutput(dataTable, element);\n",
              "          const docLink = document.createElement('div');\n",
              "          docLink.innerHTML = docLinkHtml;\n",
              "          element.appendChild(docLink);\n",
              "        }\n",
              "      </script>\n",
              "    </div>\n",
              "  </div>\n",
              "  "
            ]
          },
          "metadata": {},
          "execution_count": 58
        }
      ]
    },
    {
      "cell_type": "code",
      "source": [
        "df.columns"
      ],
      "metadata": {
        "id": "85RnKdLsBQmY",
        "outputId": "d4f232f7-579e-44f0-fb35-0f3fe6cbabd5",
        "colab": {
          "base_uri": "https://localhost:8080/"
        }
      },
      "execution_count": 59,
      "outputs": [
        {
          "output_type": "execute_result",
          "data": {
            "text/plain": [
              "Index(['MSSubClass', 'MSZoning', 'LotFrontage', 'LotArea', 'Street', 'Alley',\n",
              "       'LotShape', 'LandContour', 'Utilities', 'LotConfig', 'LandSlope',\n",
              "       'Neighborhood', 'Condition1', 'Condition2', 'BldgType', 'HouseStyle',\n",
              "       'OverallQual', 'OverallCond', 'YearBuilt', 'YearRemodAdd', 'RoofStyle',\n",
              "       'RoofMatl', 'Exterior1st', 'Exterior2nd', 'MasVnrType', 'MasVnrArea',\n",
              "       'ExterQual', 'ExterCond', 'Foundation', 'BsmtQual', 'BsmtCond',\n",
              "       'BsmtExposure', 'BsmtFinType1', 'BsmtFinSF1', 'BsmtFinType2',\n",
              "       'BsmtFinSF2', 'BsmtUnfSF', 'TotalBsmtSF', 'Heating', 'HeatingQC',\n",
              "       'CentralAir', 'Electrical', '1stFlrSF', '2ndFlrSF', 'LowQualFinSF',\n",
              "       'GrLivArea', 'BsmtFullBath', 'BsmtHalfBath', 'FullBath', 'HalfBath',\n",
              "       'BedroomAbvGr', 'KitchenAbvGr', 'KitchenQual', 'TotRmsAbvGrd',\n",
              "       'Functional', 'Fireplaces', 'FireplaceQu', 'GarageType', 'GarageYrBlt',\n",
              "       'GarageFinish', 'GarageCars', 'GarageArea', 'GarageQual', 'GarageCond',\n",
              "       'PavedDrive', 'WoodDeckSF', 'OpenPorchSF', 'EnclosedPorch', '3SsnPorch',\n",
              "       'ScreenPorch', 'PoolArea', 'PoolQC', 'Fence', 'MiscFeature', 'MiscVal',\n",
              "       'MoSold', 'YrSold', 'SaleType', 'SaleCondition', 'SalePrice'],\n",
              "      dtype='object')"
            ]
          },
          "metadata": {},
          "execution_count": 59
        }
      ]
    },
    {
      "cell_type": "code",
      "source": [
        "# MSSubClass: Identifies the type of dwelling involved in the sale. - kategorie\n",
        "df['MSSubClass'] = LabelEncoder().fit_transform(df['MSSubClass'].astype('str'))\n",
        "\n",
        "# MSZoning: Identifies the general zoning classification of the sale. - kategorie\n",
        "df['MSZoning'] = LabelEncoder().fit_transform(df['MSZoning'].astype('str'))\n",
        "\n",
        "# LotFrontage: Linear feet of street connected to property - zmienna liczbowa, skalujemy według rozkładu normalnego\n",
        "# NA oznacza 0\n",
        "df['LotFrontage'] = df['LotFrontage'].replace({\"NA\": 0})\n",
        "df['LotFrontage'] = StandardScaler().fit_transform(np.array(df['LotFrontage']).reshape(-1, 1));\n",
        "\n",
        "# LotArea: Lot size in square feet - zmienna liczbowa, skalujemy według rozkładu normalnego\n",
        "df['LotArea'] = StandardScaler().fit_transform(df['LotArea'].values.reshape(-1, 1))\n",
        "\n",
        "# Street: Type of road access to property - kategoria\n",
        "df['Street'] = LabelEncoder().fit_transform(df['Street'].astype('str'))\n",
        "\n",
        "# Alley: Type of alley access to property - kategoria\n",
        "df['Alley'] = LabelEncoder().fit_transform(df['Alley'].astype('str'))\n",
        "\n",
        "# LotShape: General shape of property - kategoria, zmienna jakościowa\n",
        "lotShapeDict = {\"Reg\": 1, \"IR1\": 2, \"IR2\": 3, \"IR3\": 4}\n",
        "df['LotShape'] = df['LotShape'].replace(lotShapeDict)\n",
        "\n",
        "# LandContour: Flatness of the property - kategoria\n",
        "df['LandContour'] = LabelEncoder().fit_transform(df['LandContour'].astype('str'))\n",
        "\n",
        "# LotConfig: Lot configuration - kategoria\n",
        "df['LotConfig'] = LabelEncoder().fit_transform(df['LotConfig'].astype('str'))\n",
        "\n",
        "# LandSlope: Slope of property - kategoria\n",
        "df['LandSlope'] = LabelEncoder().fit_transform(df['LandContour'].astype('str'))\n",
        "\n",
        "# Neighborhood: Physical locations within Ames city limits - kategoria\n",
        "df['Neighborhood'] = LabelEncoder().fit_transform(df['Neighborhood'].astype('str'))\n",
        "\n",
        "# Condition1: Proximity to various conditions\n",
        "# Condition2: Proximity to various conditions (if more than one is present) - kategorie\n",
        "conditionDict = {\"Artery\": 1, \"Feedr\": 2, \"Norm\": 3,\t\"RRNn\": 4, \"RRAn\": 5, \"PosN\": 6, \"PosA\": 7, \"RRNe\": 8, \"RRAe\": 9}\n",
        "df['Condition1'] = df['Condition1'].replace(conditionDict)\n",
        "df['Condition2'] = df['Condition2'].replace(conditionDict)\n",
        "\n",
        "# Utilities: Type of utilities available - kategoria, zmienna jakościowa - każda kolejna kategoria oznacza wyższy standard\n",
        "utilitiesDict = {\"AllPub\": 3, \"NoSewr\": 2, \"NoSeWa\": 1, \"ELO\": 0}\n",
        "df['Utilities'] = df['Utilities'].replace(utilitiesDict);\n",
        "\n",
        "# BldgType: Type of dwelling - kategoria\n",
        "df['BldgType'] = LabelEncoder().fit_transform(df['BldgType'].astype('str'))\n",
        "\n",
        "# HouseStyle: Style of dwelling - kategoria\n",
        "df['HouseStyle'] = LabelEncoder().fit_transform(df['HouseStyle'].astype('str'))\n",
        "\n",
        "# YearBuilt, YearRemodAdd, OverallCond, OverallQual: Zmienne liczbowe - uznaliśmy, że nie ma potrzeby ich przekształcać"
      ],
      "metadata": {
        "id": "kx1zy6vcZ8YZ"
      },
      "execution_count": 60,
      "outputs": []
    },
    {
      "cell_type": "code",
      "source": [
        "print(df['GarageCars'].isna().sum())"
      ],
      "metadata": {
        "id": "IRr-iLFR9UFB",
        "outputId": "5babaf0d-a33e-4a79-a6b4-f4ff6dcd8edd",
        "colab": {
          "base_uri": "https://localhost:8080/"
        }
      },
      "execution_count": 61,
      "outputs": [
        {
          "output_type": "stream",
          "name": "stdout",
          "text": [
            "0\n"
          ]
        }
      ]
    },
    {
      "cell_type": "code",
      "source": [
        "print(df['GarageArea'].isna().sum())\n",
        "df['GarageArea'] = StandardScaler().fit_transform(df['GarageArea'].values.reshape(-1,1))"
      ],
      "metadata": {
        "id": "KzbxDrm-BPYo",
        "colab": {
          "base_uri": "https://localhost:8080/"
        },
        "outputId": "2fcc1582-97e5-40e8-9ef6-8b330f696c1b"
      },
      "execution_count": 62,
      "outputs": [
        {
          "output_type": "stream",
          "name": "stdout",
          "text": [
            "0\n"
          ]
        }
      ]
    },
    {
      "cell_type": "code",
      "source": [
        "print(df['GarageQual'].isna().sum())\n",
        "unq_vals = df['GarageQual'].unique().astype('str')\n",
        "df['GarageQual'] = df['GarageQual'].replace({'Ex': 5, 'Gd': 4, 'TA': 3, 'Fa': 2, 'Po': 1, np.nan: 0})"
      ],
      "metadata": {
        "id": "MBe2U8VhBdj4",
        "colab": {
          "base_uri": "https://localhost:8080/"
        },
        "outputId": "6ca1b7f9-b1b4-4b8f-e6fa-90e0db859978"
      },
      "execution_count": 63,
      "outputs": [
        {
          "output_type": "stream",
          "name": "stdout",
          "text": [
            "81\n"
          ]
        }
      ]
    },
    {
      "cell_type": "code",
      "source": [
        "print(df['GarageCond'].isna().sum())\n",
        "print(df['GarageCond'].unique())\n",
        "df['GarageCond'] = df['GarageCond'].replace({'Ex': 5, 'Gd': 4, 'TA': 3, 'Fa': 2, 'Po': 1, np.nan: 0})"
      ],
      "metadata": {
        "id": "jWUDkNHSBgaf",
        "colab": {
          "base_uri": "https://localhost:8080/"
        },
        "outputId": "4bfe6d2a-6305-4abe-ca71-ff54983be049"
      },
      "execution_count": 64,
      "outputs": [
        {
          "output_type": "stream",
          "name": "stdout",
          "text": [
            "81\n",
            "['TA' 'Fa' nan 'Gd' 'Po' 'Ex']\n"
          ]
        }
      ]
    },
    {
      "cell_type": "code",
      "source": [
        "print(df['PavedDrive'].isna().sum())\n",
        "df['PavedDrive'] = LabelEncoder().fit_transform(df['PavedDrive'])"
      ],
      "metadata": {
        "id": "YLACErHrBjCA",
        "colab": {
          "base_uri": "https://localhost:8080/"
        },
        "outputId": "c0218db0-eb8b-4673-b3ad-4fdb8faaacbd"
      },
      "execution_count": 65,
      "outputs": [
        {
          "output_type": "stream",
          "name": "stdout",
          "text": [
            "0\n"
          ]
        }
      ]
    },
    {
      "cell_type": "code",
      "source": [
        "print(df['WoodDeckSF'].isna().sum())\n",
        "df['WoodDeckSF'] = StandardScaler().fit_transform(df['WoodDeckSF'].values.reshape(-1,1))"
      ],
      "metadata": {
        "id": "kEDmYQCGCOOq",
        "colab": {
          "base_uri": "https://localhost:8080/"
        },
        "outputId": "f852a2e6-b7dd-4cf0-94cb-f820ebc9c417"
      },
      "execution_count": 66,
      "outputs": [
        {
          "output_type": "stream",
          "name": "stdout",
          "text": [
            "0\n"
          ]
        }
      ]
    },
    {
      "cell_type": "code",
      "source": [
        "print(df['OpenPorchSF'].isna().sum())\n",
        "df['OpenPorchSF'] = StandardScaler().fit_transform(df['OpenPorchSF'].values.reshape(-1,1))"
      ],
      "metadata": {
        "id": "7dlHZeg2COlX",
        "colab": {
          "base_uri": "https://localhost:8080/"
        },
        "outputId": "03167b9f-d169-4729-c5a4-a843dc47aa68"
      },
      "execution_count": 67,
      "outputs": [
        {
          "output_type": "stream",
          "name": "stdout",
          "text": [
            "0\n"
          ]
        }
      ]
    },
    {
      "cell_type": "code",
      "source": [
        "print(df['EnclosedPorch'].isna().sum())\n",
        "df['EnclosedPorch'] = StandardScaler().fit_transform(df['EnclosedPorch'].values.reshape(-1,1))"
      ],
      "metadata": {
        "id": "BLhs4CNiCO8y",
        "colab": {
          "base_uri": "https://localhost:8080/"
        },
        "outputId": "1cdbd521-32c8-4ae0-96fa-996d48fc4c6f"
      },
      "execution_count": 68,
      "outputs": [
        {
          "output_type": "stream",
          "name": "stdout",
          "text": [
            "0\n"
          ]
        }
      ]
    },
    {
      "cell_type": "code",
      "source": [
        "print(df['3SsnPorch'].isna().sum())\n",
        "df['3SsnPorch'] = StandardScaler().fit_transform(df['3SsnPorch'].values.reshape(-1,1))"
      ],
      "metadata": {
        "id": "2DyB0Qu0CPG-",
        "colab": {
          "base_uri": "https://localhost:8080/"
        },
        "outputId": "c1da297d-11b4-4995-c018-068e8efffd8b"
      },
      "execution_count": 69,
      "outputs": [
        {
          "output_type": "stream",
          "name": "stdout",
          "text": [
            "0\n"
          ]
        }
      ]
    },
    {
      "cell_type": "code",
      "source": [
        "print(df['ScreenPorch'].isna().sum())\n",
        "df['ScreenPorch'] = StandardScaler().fit_transform(df['ScreenPorch'].values.reshape(-1,1))"
      ],
      "metadata": {
        "id": "hCS43Au5CPQm",
        "colab": {
          "base_uri": "https://localhost:8080/"
        },
        "outputId": "c084ed7e-4c10-4b0f-ba49-1db26f991a2c"
      },
      "execution_count": 70,
      "outputs": [
        {
          "output_type": "stream",
          "name": "stdout",
          "text": [
            "0\n"
          ]
        }
      ]
    },
    {
      "cell_type": "code",
      "source": [
        "print(df['PoolArea'].isna().sum())\n",
        "df['PoolArea'] = StandardScaler().fit_transform(df['PoolArea'].values.reshape(-1,1))"
      ],
      "metadata": {
        "id": "6DYbrDj7CPZP",
        "colab": {
          "base_uri": "https://localhost:8080/"
        },
        "outputId": "79743521-871e-43fd-e1df-0d815747f4c8"
      },
      "execution_count": 71,
      "outputs": [
        {
          "output_type": "stream",
          "name": "stdout",
          "text": [
            "0\n"
          ]
        }
      ]
    },
    {
      "cell_type": "code",
      "source": [
        "print(df['PoolQC'].isna().sum())\n",
        "print(df['PoolQC'].unique())\n",
        "df['PoolQC'] = df['PoolQC'].replace({'Ex': 4, 'Gd': 3, 'TA': 2, 'Fa': 1, np.nan: 0})"
      ],
      "metadata": {
        "id": "Z_LmK4imCQ8_",
        "colab": {
          "base_uri": "https://localhost:8080/"
        },
        "outputId": "74ade2ee-a5fc-4824-cd43-37fb126b04af"
      },
      "execution_count": 72,
      "outputs": [
        {
          "output_type": "stream",
          "name": "stdout",
          "text": [
            "1453\n",
            "[nan 'Ex' 'Fa' 'Gd']\n"
          ]
        }
      ]
    },
    {
      "cell_type": "code",
      "source": [
        "print(df['Fence'].isna().sum())\n",
        "print(df['Fence'].unique())\n",
        "df['Fence'] = df['Fence'].replace({'GdPrv': 4, 'MnPrv': 3, 'GdWo': 2, 'MnWw': 1, np.nan: 0})"
      ],
      "metadata": {
        "id": "rcG7Q8H_CRFn",
        "colab": {
          "base_uri": "https://localhost:8080/"
        },
        "outputId": "6e0e2853-197e-4cd8-e60f-85cd3bff980d"
      },
      "execution_count": 73,
      "outputs": [
        {
          "output_type": "stream",
          "name": "stdout",
          "text": [
            "1179\n",
            "[nan 'MnPrv' 'GdWo' 'GdPrv' 'MnWw']\n"
          ]
        }
      ]
    },
    {
      "cell_type": "code",
      "source": [
        "print(df['MiscFeature'].isna().sum())\n",
        "print(df['MiscFeature'].unique())\n",
        "df['MiscFeature'] = df['MiscFeature'].replace({'Elev': 5, 'Gar2': 4, 'Othr': 3, 'Shed': 2, 'TenC': 1, np.nan: 0})"
      ],
      "metadata": {
        "id": "U00ceqRiCRN_",
        "colab": {
          "base_uri": "https://localhost:8080/"
        },
        "outputId": "368f089e-4387-42cc-aeea-910f46a7e348"
      },
      "execution_count": 105,
      "outputs": [
        {
          "output_type": "stream",
          "name": "stdout",
          "text": [
            "1406\n",
            "[nan 'Shed' 'Gar2' 'Othr' 'TenC']\n"
          ]
        }
      ]
    },
    {
      "cell_type": "code",
      "source": [
        "print(df['MiscVal'].isna().sum())\n",
        "df['MiscVal'] = StandardScaler().fit_transform(df['MiscVal'].values.reshape(-1,1))"
      ],
      "metadata": {
        "id": "3BL272QHCRW4",
        "colab": {
          "base_uri": "https://localhost:8080/"
        },
        "outputId": "fa53f544-0de6-4ea0-ce58-b09dc66ed7a2"
      },
      "execution_count": 75,
      "outputs": [
        {
          "output_type": "stream",
          "name": "stdout",
          "text": [
            "0\n"
          ]
        }
      ]
    },
    {
      "cell_type": "code",
      "source": [
        "print(df['MoSold'].isna().sum())"
      ],
      "metadata": {
        "id": "ZSPoIN1DCRe3",
        "outputId": "41591708-ed3f-4589-9d18-4731d6e458ba",
        "colab": {
          "base_uri": "https://localhost:8080/"
        }
      },
      "execution_count": 76,
      "outputs": [
        {
          "output_type": "stream",
          "name": "stdout",
          "text": [
            "0\n"
          ]
        }
      ]
    },
    {
      "cell_type": "code",
      "source": [
        "print(df['YrSold'].isna().sum())"
      ],
      "metadata": {
        "id": "9FwrVaNuCRm-",
        "outputId": "7630adf8-7f59-4fb1-955e-4a500ecbe813",
        "colab": {
          "base_uri": "https://localhost:8080/"
        }
      },
      "execution_count": 77,
      "outputs": [
        {
          "output_type": "stream",
          "name": "stdout",
          "text": [
            "0\n"
          ]
        }
      ]
    },
    {
      "cell_type": "code",
      "source": [
        "print(df['SaleType'].isna().sum())\n",
        "df['SaleType'] = LabelEncoder().fit_transform(df['SaleType'])"
      ],
      "metadata": {
        "id": "a4ylxNwyCRvo",
        "colab": {
          "base_uri": "https://localhost:8080/"
        },
        "outputId": "7aafbf59-face-4840-c6f2-b0e878f8c66d"
      },
      "execution_count": 78,
      "outputs": [
        {
          "output_type": "stream",
          "name": "stdout",
          "text": [
            "0\n"
          ]
        }
      ]
    },
    {
      "cell_type": "code",
      "source": [
        "print(df['SaleCondition'].isna().sum())\n",
        "df['SaleCondition'] = LabelEncoder().fit_transform(df['SaleCondition'])"
      ],
      "metadata": {
        "id": "jgXyURzoCR2w",
        "colab": {
          "base_uri": "https://localhost:8080/"
        },
        "outputId": "11eb2a6d-8ab0-46e7-d719-54500a980f4f"
      },
      "execution_count": 79,
      "outputs": [
        {
          "output_type": "stream",
          "name": "stdout",
          "text": [
            "0\n"
          ]
        }
      ]
    },
    {
      "cell_type": "code",
      "source": [
        "print(df['SalePrice'].isna().sum())\n",
        "df['MiscVal'] = np.log(df['MiscVal'])"
      ],
      "metadata": {
        "id": "wj1fr4P4CsfK",
        "colab": {
          "base_uri": "https://localhost:8080/"
        },
        "outputId": "1cbed829-305a-4bc8-9d1f-db60be182c99"
      },
      "execution_count": 80,
      "outputs": [
        {
          "output_type": "stream",
          "name": "stdout",
          "text": [
            "0\n"
          ]
        },
        {
          "output_type": "stream",
          "name": "stderr",
          "text": [
            "/usr/local/lib/python3.7/dist-packages/pandas/core/arraylike.py:364: RuntimeWarning: invalid value encountered in log\n",
            "  result = getattr(ufunc, method)(*inputs, **kwargs)\n"
          ]
        }
      ]
    },
    {
      "cell_type": "code",
      "source": [
        "# kolumny 21 - 40\n",
        "\n",
        "df20_40 = df.iloc[:,20:40]  # będę pracował na kopii, potem ją wrzucę do głównego df"
      ],
      "metadata": {
        "id": "4p7QQbYtpR7y"
      },
      "execution_count": 81,
      "outputs": []
    },
    {
      "cell_type": "code",
      "source": [
        "# 21 kolumna - RoofStyle\n",
        "\n",
        "col = df20_40['RoofStyle']\n",
        "print(f'Czy są NaNy: {col.isnull().values.any()}')  # sprawdzam czy są gdzieś w kolumnie NaNy\n",
        "\n",
        "np_col = np.array(col)\n",
        "print(f'Nazwy unikatowych wartości: {np.unique(np_col)}')\n",
        "\n",
        "# zamiana string na int, zaczynajac od 0 i idąc alfabetycznie\n",
        "new_names = {'Flat': 0,\n",
        "             'Gable': 1,\n",
        "             'Gambrel': 2,\n",
        "             'Hip': 3,\n",
        "             'Mansard': 4,\n",
        "             'Shed': 5}\n",
        "\n",
        "col_num = col.replace(new_names)\n",
        "print(f'Sposób zamiany kategorii {new_names}')\n",
        "\n",
        "df20_40['RoofStyle'] = col_num"
      ],
      "metadata": {
        "id": "_i_WDZdlpdPt",
        "outputId": "b96b42cf-c51c-4f75-9a51-62e78022dde1",
        "colab": {
          "base_uri": "https://localhost:8080/"
        }
      },
      "execution_count": 82,
      "outputs": [
        {
          "output_type": "stream",
          "name": "stdout",
          "text": [
            "Czy są NaNy: False\n",
            "Nazwy unikatowych wartości: ['Flat' 'Gable' 'Gambrel' 'Hip' 'Mansard' 'Shed']\n",
            "Sposób zamiany kategorii {'Flat': 0, 'Gable': 1, 'Gambrel': 2, 'Hip': 3, 'Mansard': 4, 'Shed': 5}\n"
          ]
        }
      ]
    },
    {
      "cell_type": "code",
      "source": [
        "# 22 kolumna - RoofMatl\n",
        "\n",
        "col = df20_40['RoofMatl']\n",
        "print(f'Czy są NaNy: {col.isnull().values.any()}')  # sprawdzam czy są gdzieś w kolumnie NaNy\n",
        "\n",
        "np_col = np.array(col)\n",
        "print(f'Nazwy unikatowych wartości: {np.unique(np_col)}')\n",
        "\n",
        "# zamiana string na int, zaczynajac od 0 i idąc alfabetycznie\n",
        "new_names = {'ClyTile': 0,\n",
        "             'CompShg': 1,\n",
        "             'Membran': 2,\n",
        "             'Metal': 3,\n",
        "             'Roll': 4,\n",
        "             'Tar&Grv': 5,\n",
        "             'WdShake': 6,\n",
        "             'WdShngl': 7}\n",
        "\n",
        "col_num = col.replace(new_names)\n",
        "print(f'Sposób zamiany kategorii {new_names}')\n",
        "\n",
        "df20_40['RoofMatl'] = col_num"
      ],
      "metadata": {
        "id": "1N1RbFrtpfzt",
        "outputId": "a443390d-5f93-4e23-8706-b05bad073112",
        "colab": {
          "base_uri": "https://localhost:8080/"
        }
      },
      "execution_count": 83,
      "outputs": [
        {
          "output_type": "stream",
          "name": "stdout",
          "text": [
            "Czy są NaNy: False\n",
            "Nazwy unikatowych wartości: ['ClyTile' 'CompShg' 'Membran' 'Metal' 'Roll' 'Tar&Grv' 'WdShake'\n",
            " 'WdShngl']\n",
            "Sposób zamiany kategorii {'ClyTile': 0, 'CompShg': 1, 'Membran': 2, 'Metal': 3, 'Roll': 4, 'Tar&Grv': 5, 'WdShake': 6, 'WdShngl': 7}\n"
          ]
        }
      ]
    },
    {
      "cell_type": "code",
      "source": [
        "# 23 kolumna - Exterior1st\n",
        "\n",
        "\n",
        "col = df20_40['Exterior1st']\n",
        "print(f'Czy są NaNy: {col.isnull().values.any()}')  # sprawdzam czy są gdzieś w kolumnie NaNy\n",
        "\n",
        "np_col = np.array(col)\n",
        "print(f'Nazwy unikatowych wartości: {np.unique(np_col)}')\n",
        "\n",
        "# zamiana string na int, robię to LabelEncoderem ponieważ nie jest to zmienna jakościowa (cech nie da się uporządkować)\n",
        "col_num = LabelEncoder().fit_transform(col.astype('str'))\n",
        "\n",
        "df20_40['Exterior1st'] = col_num"
      ],
      "metadata": {
        "id": "egbOjXgsph9z",
        "outputId": "77a9f11a-aadf-429d-c2b5-fadf7b008b9b",
        "colab": {
          "base_uri": "https://localhost:8080/"
        }
      },
      "execution_count": 84,
      "outputs": [
        {
          "output_type": "stream",
          "name": "stdout",
          "text": [
            "Czy są NaNy: False\n",
            "Nazwy unikatowych wartości: ['AsbShng' 'AsphShn' 'BrkComm' 'BrkFace' 'CBlock' 'CemntBd' 'HdBoard'\n",
            " 'ImStucc' 'MetalSd' 'Plywood' 'Stone' 'Stucco' 'VinylSd' 'Wd Sdng'\n",
            " 'WdShing']\n"
          ]
        }
      ]
    },
    {
      "cell_type": "code",
      "source": [
        "# 24 kolumna - Exterior2nd\n",
        "\n",
        "col = df20_40['Exterior2nd']\n",
        "print(f'Czy są NaNy: {col.isnull().values.any()}')  # sprawdzam czy są gdzieś w kolumnie NaNy\n",
        "\n",
        "np_col = np.array(col)\n",
        "print(f'Nazwy unikatowych wartości: {np.unique(np_col)}')\n",
        "\n",
        "# zamiana string na int, robię to LabelEncoderem ponieważ nie jest to zmienna jakościowa (cech nie da się uporządkować)\n",
        "col_num = LabelEncoder().fit_transform(col.astype('str'))\n",
        "\n",
        "df20_40['Exterior2nd'] = col_num"
      ],
      "metadata": {
        "id": "UgMUPMGJph7g",
        "outputId": "d9e1ee86-e414-419f-e21d-d29c22e06085",
        "colab": {
          "base_uri": "https://localhost:8080/"
        }
      },
      "execution_count": 85,
      "outputs": [
        {
          "output_type": "stream",
          "name": "stdout",
          "text": [
            "Czy są NaNy: False\n",
            "Nazwy unikatowych wartości: ['AsbShng' 'AsphShn' 'Brk Cmn' 'BrkFace' 'CBlock' 'CmentBd' 'HdBoard'\n",
            " 'ImStucc' 'MetalSd' 'Other' 'Plywood' 'Stone' 'Stucco' 'VinylSd'\n",
            " 'Wd Sdng' 'Wd Shng']\n"
          ]
        }
      ]
    },
    {
      "cell_type": "code",
      "source": [
        "# 25 kolumna - MasVnrType: Masonry veneer type\n",
        "\n",
        "col = df20_40['MasVnrType']\n",
        "print(f'Czy są NaNy: {col.isnull().values.any()}')  # sprawdzam czy są gdzieś w kolumnie NaNy\n",
        "if col.isnull().values.any():\n",
        "  col = col.fillna('-1')\n",
        "\n",
        "np_col = np.array(col)\n",
        "print(f'Nazwy unikatowych wartości: {np.unique(np_col)}')\n",
        "\n",
        "# zamiana string na int, cech nie da się uporządkować ale robię Series.replace() ze względu na to, że chcę aby NaNy miały wartość -1\n",
        "col_names = {'-1': -1,\n",
        "             'BrkCmn': 0,\n",
        "             'BrkFace': 1,\n",
        "             'CBlock': 2,\n",
        "             'None': 3,\n",
        "             'Stone': 4}\n",
        "\n",
        "col_num = col.replace(col_names)\n",
        "\n",
        "df20_40['MasVnrType'] = col_num"
      ],
      "metadata": {
        "id": "8VsPV7u6ph5M",
        "outputId": "42483b52-2c24-4eba-e66f-ee84305f96fb",
        "colab": {
          "base_uri": "https://localhost:8080/"
        }
      },
      "execution_count": 86,
      "outputs": [
        {
          "output_type": "stream",
          "name": "stdout",
          "text": [
            "Czy są NaNy: True\n",
            "Nazwy unikatowych wartości: ['-1' 'BrkCmn' 'BrkFace' 'None' 'Stone']\n"
          ]
        }
      ]
    },
    {
      "cell_type": "code",
      "source": [
        "# 26 kolumna - MasVnrArea: Masonry veneer area in square feet\n",
        "\n",
        "col = df20_40['MasVnrArea']\n",
        "print(f'Czy są NaNy: {col.isnull().values.any()}')  # sprawdzam czy są gdzieś w kolumnie NaNy\n",
        "if col.isnull().values.any():\n",
        "  col = col.fillna(col.mean())\n",
        "\n",
        "# kolumna posiada ciągłe wartości liczbowe, więc przeskalowuje funkcją StandardScaler() z domyślnymi parametrami (przesunięcie o średnią próbki i podzielenie przez odchylenie standardowe)\n",
        "np_col = col.values\n",
        "np_col = StandardScaler().fit_transform(np_col.reshape([-1,1]))\n",
        "\n",
        "df20_40['MasVnrArea'] = np_col"
      ],
      "metadata": {
        "id": "oKZHLxuqph2s",
        "outputId": "f56411fd-80b2-4ee0-a90b-757727dc34da",
        "colab": {
          "base_uri": "https://localhost:8080/"
        }
      },
      "execution_count": 87,
      "outputs": [
        {
          "output_type": "stream",
          "name": "stdout",
          "text": [
            "Czy są NaNy: True\n"
          ]
        }
      ]
    },
    {
      "cell_type": "code",
      "source": [
        "# 27 kolumna - ExterQual\n",
        "\n",
        "col = df20_40['ExterQual']\n",
        "print(f'Czy są NaNy: {col.isnull().values.any()}')  # sprawdzam czy są gdzieś w kolumnie NaNy\n",
        "\n",
        "# zmienna jakościowa, zamiana string na int w ten sposób, że wieksza liczba == lepiej\n",
        "new_names = {'Po': 0,\n",
        "             'Fa': 1,\n",
        "             'TA': 2,\n",
        "             'Gd': 3,\n",
        "             'Ex': 4}\n",
        "\n",
        "col_num = col.replace(new_names)\n",
        "\n",
        "df20_40['ExterQual'] = col_num"
      ],
      "metadata": {
        "id": "3iJpI_r4ph0T",
        "outputId": "4924a7fe-c2b1-4408-c3d8-7e137f3b896b",
        "colab": {
          "base_uri": "https://localhost:8080/"
        }
      },
      "execution_count": 88,
      "outputs": [
        {
          "output_type": "stream",
          "name": "stdout",
          "text": [
            "Czy są NaNy: False\n"
          ]
        }
      ]
    },
    {
      "cell_type": "code",
      "source": [
        "# 28 kolumna - ExterCond\n",
        "\n",
        "col = df20_40['ExterCond']\n",
        "print(f'Czy są NaNy: {col.isnull().values.any()}')  # sprawdzam czy są gdzieś w kolumnie NaNy\n",
        "\n",
        "# zmienna jakościowa, zamiana string na int w ten sposób, że wieksza liczba == lepiej\n",
        "new_names = {'Po': 0,\n",
        "             'Fa': 1,\n",
        "             'TA': 2,\n",
        "             'Gd': 3,\n",
        "             'Ex': 4}\n",
        "\n",
        "col_num = col.replace(new_names)\n",
        "\n",
        "df20_40['ExterCond'] = col_num"
      ],
      "metadata": {
        "id": "oQh7QRzvphx7",
        "outputId": "0d8e7298-18d7-42ce-b096-31ccf5e21e18",
        "colab": {
          "base_uri": "https://localhost:8080/"
        }
      },
      "execution_count": 89,
      "outputs": [
        {
          "output_type": "stream",
          "name": "stdout",
          "text": [
            "Czy są NaNy: False\n"
          ]
        }
      ]
    },
    {
      "cell_type": "code",
      "source": [
        "# 29 kolumna - Foundation\n",
        "\n",
        "col = df20_40['Foundation']\n",
        "print(f'Czy są NaNy: {col.isnull().values.any()}')  # sprawdzam czy są gdzieś w kolumnie NaNy\n",
        "\n",
        "# zamiana string na int, robię to LabelEncoderem ponieważ nie jest to zmienna jakościowa (cech nie da się uporządkować)\n",
        "col_num = LabelEncoder().fit_transform(col.astype('str'))\n",
        "\n",
        "\n",
        "df20_40['Foundation'] = col_num"
      ],
      "metadata": {
        "id": "ZSt0OmT5phva",
        "outputId": "2ef35edc-e9b3-4f2c-9ccf-7c70b14b5adc",
        "colab": {
          "base_uri": "https://localhost:8080/"
        }
      },
      "execution_count": 90,
      "outputs": [
        {
          "output_type": "stream",
          "name": "stdout",
          "text": [
            "Czy są NaNy: False\n"
          ]
        }
      ]
    },
    {
      "cell_type": "code",
      "source": [
        "# 30 kolumna - BsmtQual: Evaluates the height of the basement\n",
        "# zakladam ze null to brak piwnicy\n",
        "\n",
        "col = df20_40['BsmtQual']\n",
        "print(f'Czy są NaNy: {col.isnull().values.any()}')  # sprawdzam czy są gdzieś w kolumnie NaNy\n",
        "col = col.fillna('NA')\n",
        "\n",
        "# zmienna jakościowa, zamiana string na int w ten sposób, że wieksza liczba == lepiej\n",
        "new_names = {'NA': 0,\n",
        "             'Po': 1,\n",
        "             'Fa': 2,\n",
        "             'TA': 3,\n",
        "             'Gd': 4,\n",
        "             'Ex': 5}\n",
        "\n",
        "col_num = col.replace(new_names)\n",
        "\n",
        "df20_40['BsmtQual'] = col_num"
      ],
      "metadata": {
        "id": "C9NffJ-NphtD",
        "outputId": "48e88435-fb68-448e-f840-0a2f93373280",
        "colab": {
          "base_uri": "https://localhost:8080/"
        }
      },
      "execution_count": 91,
      "outputs": [
        {
          "output_type": "stream",
          "name": "stdout",
          "text": [
            "Czy są NaNy: True\n"
          ]
        }
      ]
    },
    {
      "cell_type": "code",
      "source": [
        "# 31 kolumna - BsmtCond: Evaluates the general condition of the basement\n",
        "# zakladam ze null to brak piwnicy\n",
        "\n",
        "col = df20_40['BsmtCond']\n",
        "print(f'Czy są NaNy: {col.isnull().values.any()}')  # sprawdzam czy są gdzieś w kolumnie NaNy\n",
        "col = col.fillna('NA')\n",
        "\n",
        "# zmienna jakościowa, zamiana string na int w ten sposób, że wieksza liczba == lepiej\n",
        "new_names = {'NA': 0,\n",
        "             'Po': 1,\n",
        "             'Fa': 2,\n",
        "             'TA': 3,\n",
        "             'Gd': 4,\n",
        "             'Ex': 5}\n",
        "\n",
        "col_num = col.replace(new_names)\n",
        "\n",
        "df20_40['BsmtCond'] = col_num"
      ],
      "metadata": {
        "id": "ZT3dcTQPphqu",
        "outputId": "ed1739a3-41a6-40bb-e34b-3981e1258719",
        "colab": {
          "base_uri": "https://localhost:8080/"
        }
      },
      "execution_count": 92,
      "outputs": [
        {
          "output_type": "stream",
          "name": "stdout",
          "text": [
            "Czy są NaNy: True\n"
          ]
        }
      ]
    },
    {
      "cell_type": "code",
      "source": [
        "# 32 kolumna - BsmtExposure: Refers to walkout or garden level walls\n",
        "# zakladam ze null to brak piwnicy\n",
        "\n",
        "col = df20_40['BsmtExposure']\n",
        "print(f'Czy są NaNy: {col.isnull().values.any()}')  # sprawdzam czy są gdzieś w kolumnie NaNy\n",
        "col = col.fillna('NA')\n",
        "\n",
        "# zmienna jakościowa, zamiana string na int w ten sposób, że wieksza liczba == lepiej\n",
        "new_names = {'NA': 0,\n",
        "             'No': 1,\n",
        "             'Mn': 2,\n",
        "             'Av': 3,\n",
        "             'Gd': 4}\n",
        "\n",
        "col_num = col.replace(new_names)\n",
        "\n",
        "df20_40['BsmtExposure'] = col_num"
      ],
      "metadata": {
        "id": "neQFYWoYphoV",
        "outputId": "163980b2-052f-4ca9-a1f0-c73e9b4f458c",
        "colab": {
          "base_uri": "https://localhost:8080/"
        }
      },
      "execution_count": 93,
      "outputs": [
        {
          "output_type": "stream",
          "name": "stdout",
          "text": [
            "Czy są NaNy: True\n"
          ]
        }
      ]
    },
    {
      "cell_type": "code",
      "source": [
        "# 33 kolumna - BsmtFinType1: Rating of basement finished area\n",
        "\n",
        "col = df20_40['BsmtFinType1']\n",
        "print(f'Czy są NaNy: {col.isnull().values.any()}')  # sprawdzam czy są gdzieś w kolumnie NaNy\n",
        "col = col.fillna('NA')\n",
        "\n",
        "# zmienna jakościowa, zamiana string na int w ten sposób, że wieksza liczba == lepiej\n",
        "new_names = {'NA': 0,\n",
        "             'Unf': 1,\n",
        "             'LwQ': 2,\n",
        "             'Rec': 3,\n",
        "             'BLQ': 4,\n",
        "             'ALQ': 5,\n",
        "             'GLQ': 6}\n",
        "\n",
        "col_num = col.replace(new_names)\n",
        "\n",
        "df20_40['BsmtFinType1'] = col_num"
      ],
      "metadata": {
        "id": "oCNwfuX7phhk",
        "outputId": "875d287f-d05e-4331-8903-4079143d0815",
        "colab": {
          "base_uri": "https://localhost:8080/"
        }
      },
      "execution_count": 94,
      "outputs": [
        {
          "output_type": "stream",
          "name": "stdout",
          "text": [
            "Czy są NaNy: True\n"
          ]
        }
      ]
    },
    {
      "cell_type": "code",
      "source": [
        "# 34 kolumna - BsmtFinSF1: Type 1 finished square feet\n",
        "\n",
        "col = df20_40['BsmtFinSF1']\n",
        "print(f'Czy są NaNy: {col.isnull().values.any()}')  # sprawdzam czy są gdzieś w kolumnie NaNy\n",
        "\n",
        "# kolumna posiada ciągłe wartości liczbowe, więc przeskalowuje funkcją StandardScaler() z domyślnymi parametrami (przesunięcie o średnią próbki i podzielenie przez odchylenie standardowe)\n",
        "np_col = col.values\n",
        "np_col = StandardScaler().fit_transform(np_col.reshape([-1,1]))\n",
        "\n",
        "df20_40['BsmtFinSF1'] = np_col"
      ],
      "metadata": {
        "id": "R4WyQ9fhphar",
        "outputId": "5488dbc4-0c7f-43eb-ae47-53d5c1ab2d98",
        "colab": {
          "base_uri": "https://localhost:8080/"
        }
      },
      "execution_count": 95,
      "outputs": [
        {
          "output_type": "stream",
          "name": "stdout",
          "text": [
            "Czy są NaNy: False\n"
          ]
        }
      ]
    },
    {
      "cell_type": "code",
      "source": [
        "# 35 kolumna - BsmtFinType2: Rating of basement finished area (if multiple types)\n",
        "\n",
        "\n",
        "col = df20_40['BsmtFinType2']\n",
        "print(f'Czy są NaNy: {col.isnull().values.any()}')  # sprawdzam czy są gdzieś w kolumnie NaNy\n",
        "col = col.fillna('NA')\n",
        "\n",
        "# zmienna jakościowa, zamiana string na int w ten sposób, że wieksza liczba == lepiej\n",
        "new_names = {'NA': 0,\n",
        "             'Unf': 1,\n",
        "             'LwQ': 2,\n",
        "             'Rec': 3,\n",
        "             'BLQ': 4,\n",
        "             'ALQ': 5,\n",
        "             'GLQ': 6}\n",
        "\n",
        "col_num = col.replace(new_names)\n",
        "\n",
        "df20_40['BsmtFinType2'] = col_num"
      ],
      "metadata": {
        "id": "W6S5zQINphSu",
        "outputId": "de7f7f25-5ba0-4c91-de8c-ff49409189f0",
        "colab": {
          "base_uri": "https://localhost:8080/"
        }
      },
      "execution_count": 96,
      "outputs": [
        {
          "output_type": "stream",
          "name": "stdout",
          "text": [
            "Czy są NaNy: True\n"
          ]
        }
      ]
    },
    {
      "cell_type": "code",
      "source": [
        "# 36 kolumna - BsmtFinSF2: Type 2 finished square feet\n",
        "\n",
        "col = df20_40['BsmtFinSF2']\n",
        "print(f'Czy są NaNy: {col.isnull().values.any()}')  # sprawdzam czy są gdzieś w kolumnie NaNy\n",
        "\n",
        "# kolumna posiada ciągłe wartości liczbowe, więc przeskalowuje funkcją StandardScaler() z domyślnymi parametrami (przesunięcie o średnią próbki i podzielenie przez odchylenie standardowe)\n",
        "np_col = col.values\n",
        "np_col = StandardScaler().fit_transform(np_col.reshape([-1,1]))\n",
        "\n",
        "df20_40['BsmtFinSF2'] = np_col"
      ],
      "metadata": {
        "id": "HsdvCGnIphJs",
        "outputId": "db686745-fce3-4b7e-b7bd-88d466912c61",
        "colab": {
          "base_uri": "https://localhost:8080/"
        }
      },
      "execution_count": 97,
      "outputs": [
        {
          "output_type": "stream",
          "name": "stdout",
          "text": [
            "Czy są NaNy: False\n"
          ]
        }
      ]
    },
    {
      "cell_type": "code",
      "source": [
        "# 37 kolumna - BsmtUnfSF: Unfinished square feet of basement area\n",
        "\n",
        "col = df20_40['BsmtUnfSF']\n",
        "print(f'Czy są NaNy: {col.isnull().values.any()}')  # sprawdzam czy są gdzieś w kolumnie NaNy\n",
        "\n",
        "# kolumna posiada ciągłe wartości liczbowe, więc przeskalowuje funkcją StandardScaler() z domyślnymi parametrami (przesunięcie o średnią próbki i podzielenie przez odchylenie standardowe)\n",
        "np_col = col.values\n",
        "np_col = StandardScaler().fit_transform(np_col.reshape([-1,1]))\n",
        "\n",
        "df20_40['BsmtUnfSF'] = np_col"
      ],
      "metadata": {
        "id": "gpzxyg2Zpg_6",
        "outputId": "b5eb4b61-9589-4318-9ebb-6b39cfa4992e",
        "colab": {
          "base_uri": "https://localhost:8080/"
        }
      },
      "execution_count": 98,
      "outputs": [
        {
          "output_type": "stream",
          "name": "stdout",
          "text": [
            "Czy są NaNy: False\n"
          ]
        }
      ]
    },
    {
      "cell_type": "code",
      "source": [
        "# 38 kolumna - TotalBsmtSF: Total square feet of basement area\n",
        "\n",
        "col = df20_40['TotalBsmtSF']\n",
        "print(f'Czy są NaNy: {col.isnull().values.any()}')  # sprawdzam czy są gdzieś w kolumnie NaNy\n",
        "\n",
        "# kolumna posiada ciągłe wartości liczbowe, więc przeskalowuje funkcją StandardScaler() z domyślnymi parametrami (przesunięcie o średnią próbki i podzielenie przez odchylenie standardowe)\n",
        "np_col = col.values\n",
        "np_col = StandardScaler().fit_transform(np_col.reshape([-1,1]))\n",
        "\n",
        "df20_40['TotalBsmtSF'] = np_col"
      ],
      "metadata": {
        "id": "X6AlW0xRp4KE",
        "outputId": "93aa38c4-50e2-4431-fee3-6f31ea6dbe85",
        "colab": {
          "base_uri": "https://localhost:8080/"
        }
      },
      "execution_count": 99,
      "outputs": [
        {
          "output_type": "stream",
          "name": "stdout",
          "text": [
            "Czy są NaNy: False\n"
          ]
        }
      ]
    },
    {
      "cell_type": "code",
      "source": [
        "# 39 kolumna - Heating: Type of heating\n",
        "\n",
        "col = df20_40['Heating']\n",
        "print(f'Czy są NaNy: {col.isnull().values.any()}')  # sprawdzam czy są gdzieś w kolumnie NaNy\n",
        "\n",
        "# zmienna jakościowa, zamiana string na int w ten sposób, że wieksza liczba == lepiej\n",
        "new_names = {'Wall': 0,\n",
        "             'Floor': 1,\n",
        "             'GasA': 2,\n",
        "             'GasW': 3,\n",
        "             'Grav': 4,\n",
        "             'OthW': 5,\n",
        "             'Wall': 6}\n",
        "\n",
        "col_num = col.replace(new_names)\n",
        "\n",
        "df20_40['Heating'] = col_num"
      ],
      "metadata": {
        "id": "A4Ba7EOLp34N",
        "outputId": "d9a152e2-a2f7-41ff-9ecb-915d04cbf9cb",
        "colab": {
          "base_uri": "https://localhost:8080/"
        }
      },
      "execution_count": 100,
      "outputs": [
        {
          "output_type": "stream",
          "name": "stdout",
          "text": [
            "Czy są NaNy: False\n"
          ]
        }
      ]
    },
    {
      "cell_type": "code",
      "source": [
        "# 40 kolumna - HeatingQC: Heating quality and condition\n",
        "\n",
        "col = df20_40['HeatingQC']\n",
        "print(f'Czy są NaNy: {col.isnull().values.any()}')  # sprawdzam czy są gdzieś w kolumnie NaNy\n",
        "\n",
        "# zmienna jakościowa, zamiana string na int w ten sposób, że wieksza liczba == lepiej\n",
        "new_names = {'Po': 0,\n",
        "             'Fa': 1,\n",
        "             'TA': 2,\n",
        "             'Gd': 3,\n",
        "             'Ex': 4}\n",
        "\n",
        "col_num = col.replace(new_names)\n",
        "\n",
        "df20_40['HeatingQC'] = col_num"
      ],
      "metadata": {
        "id": "VFEU9iVbpgWg",
        "outputId": "0e943bd7-f2c7-4af4-b495-b256b9f466eb",
        "colab": {
          "base_uri": "https://localhost:8080/"
        }
      },
      "execution_count": 101,
      "outputs": [
        {
          "output_type": "stream",
          "name": "stdout",
          "text": [
            "Czy są NaNy: False\n"
          ]
        }
      ]
    },
    {
      "cell_type": "code",
      "source": [
        "df.iloc[:,20:40] = df20_40"
      ],
      "metadata": {
        "id": "UqKyj2BisaVF"
      },
      "execution_count": 102,
      "outputs": []
    },
    {
      "cell_type": "code",
      "source": [
        "# kolumny 41-60\n",
        "df2 = df.iloc[:,40:59]\n",
        "\n",
        "# BsmtFullBath, BsmtHalfBath, FullBath, HalfBath, BedroomAbvGr, KitchenAbvGr, TotRmsAbvGrd, Fireplaces - kolumny, z którymi nic nie robiłam, bo mają po kilka dyskretnych wartosci, wiec beda dzialac :)\n",
        "#GarageYrBlt - lata (1900 - 2010), trzeba się zastanowić jeszcze, co zrobić z tą kolumną\n",
        "\n",
        "\n",
        "#CentralAir - zmienna kategoryczna, dwie wartości Yes, No przerabiamy na 0,1\n",
        "df2['CentralAir'] = LabelEncoder().fit_transform(df['CentralAir'].astype('str'))\n",
        "\n",
        "#Electrical - zmienna kategoryczna (5 kategorii) -> zmienna dyskretna (0-4)\n",
        "df2['Electrical'] = LabelEncoder().fit_transform(df['Electrical'].astype('str'))\n",
        "\n",
        "#1stFlrSF - powierzchnia pierwszego pietra -> standaryzacja\n",
        "c3 = df[\"1stFlrSF\"].values \n",
        "df2[\"1stFlrSF\"] = StandardScaler().fit_transform(c3.reshape(-1,1)) \n",
        "\n",
        "#2ndFlrSF - powierzchnia drugiego pietra -> standaryzacja\n",
        "c4 = df[\"2ndFlrSF\"].values     \n",
        "df2[\"2ndFlrSF\"] = StandardScaler().fit_transform(c4.reshape(-1,1)) \n",
        "\n",
        "#LowQualFinSF - powierzchnia zlej jakosci -> standaryzacja\n",
        "c5 = df[\"LowQualFinSF\"].values      \n",
        "df2[\"LowQualFinSF\"] = StandardScaler().fit_transform(c5.reshape(-1,1)) \n",
        "\n",
        "#GrLivAre - powierzchnia jakosci ponad norme -> standaryzacja\n",
        "c6 = df[\"GrLivArea\"].values   \n",
        "df2[\"GrLivArea\"] = StandardScaler().fit_transform(c6.reshape(-1,1)) \n",
        "\n",
        "#KitchenQual - zmienna kategoryczna (5 kategorii) -> zmienna dyskretna (0-4)\n",
        "c11 = df[\"KitchenQual\"]\n",
        "new_names = {\n",
        "    'Po' : 0,\n",
        "    'Fa' : 1,\n",
        "    'TA' : 2,\n",
        "    'Gd' : 3,\n",
        "    'Ex' : 4\n",
        "}\n",
        "df2[\"KitchenQual\"] = c11.replace(new_names)\n",
        "\n",
        "#Functional - zmienna jakościowa (8 kategorii w porządku od najgorszego (0) do najlepszego (7)) -> zmienna dyskretna (0-7)\n",
        "c13 = df[\"Functional\"]\n",
        "new_names1 = {\n",
        "    'Sal' : 0,\n",
        "    'Sev' : 1,\n",
        "    'Maj2' : 2,\n",
        "    'Maj1' : 3,\n",
        "    'Mod' : 4,\n",
        "    'Min2' : 5,\n",
        "    'Min1' : 6,\n",
        "    'Typ' : 7\n",
        "}\n",
        "df2[\"Functional\"] = c13.replace(new_names1)\n",
        "\n",
        "#FireplaceQu - NA - z opisu danych oznacza brak kominka, nadajemy temu kategorię 0\n",
        "#            - zmienna jakościowa (6 kategorii od najgorszej, czyli braku kominka(0) do najlepszej (5)) -> zmienna dyskretna (0-5)\n",
        "c15 = df[\"FireplaceQu\"]\n",
        "c15 = c15.fillna(0)\n",
        "new_names2 = {\n",
        "    'NA' : 0,\n",
        "    'NaN' : 0,\n",
        "    'Po' : 1,\n",
        "    'Fa' : 2,\n",
        "    'TA' : 3,\n",
        "    'Gd' : 4,\n",
        "    'Ex' : 5\n",
        "}\n",
        "df2[\"FireplaceQu\"] = c15.replace(new_names2)\n",
        "\n",
        "#GarageType - z opisu danych brak oznacza brak garażu -> nadajemy kategorię 0\n",
        "#           - zmienna kategoryczna  (7 kategorii) -> zmienna dyskretna (0-6)\n",
        "c16 = df[\"GarageType\"]\n",
        "new_names3 = {\n",
        "    'NA' : 0,\n",
        "    'NaN' : 0,\n",
        "    '' : 0,\n",
        "    'Detchd' : 1,\n",
        "    'CarPort' : 2,\n",
        "    'BuiltIn' : 3,\n",
        "    'Basment' : 4,\n",
        "    'Attchd' : 5,\n",
        "    '2Types' : 6\n",
        "}\n",
        "df2[\"GarageType\"] = c16.replace(new_names3)\n",
        "\n",
        "#GarageFinish - z opisu danych NA oznacza brak garaż€ -> nadajemy kategorię 0\n",
        "#             - zmienna jakościowa (4 kategorie, od najgorszej (0), do najlepszej (3)) -> zmienna dyskretna (0-3)\n",
        "c18 = df[\"GarageFinish\"]\n",
        "new_names4 = {\n",
        "    'NA' : 0,\n",
        "    'Unf' : 1,\n",
        "    'RFn' : 2,\n",
        "    'Fin' : 3\n",
        "}\n",
        "df2[\"GarageFinish\"] = c18.replace(new_names4)\n",
        "\n"
      ],
      "metadata": {
        "id": "WrHy5Nr8hFMH"
      },
      "execution_count": 103,
      "outputs": []
    },
    {
      "cell_type": "code",
      "source": [
        "df.iloc[:, 40:59] = df2\n",
        "\n",
        "df"
      ],
      "metadata": {
        "colab": {
          "base_uri": "https://localhost:8080/",
          "height": 424
        },
        "id": "kFLVlY1J4pCY",
        "outputId": "d3d07003-e458-49bc-d088-d8a1853be497"
      },
      "execution_count": 106,
      "outputs": [
        {
          "output_type": "execute_result",
          "data": {
            "text/plain": [
              "      MSSubClass  MSZoning  LotFrontage   LotArea  Street  Alley  LotShape  \\\n",
              "0              9         3    -0.208034 -0.207142       1      2         1   \n",
              "1              4         3     0.409895 -0.091886       1      2         1   \n",
              "2              9         3    -0.084449  0.073480       1      2         2   \n",
              "3             10         3    -0.414011 -0.096897       1      2         2   \n",
              "4              9         3     0.574676  0.375148       1      2         2   \n",
              "...          ...       ...          ...       ...     ...    ...       ...   \n",
              "1455           9         3    -0.331620 -0.260560       1      2         1   \n",
              "1456           4         3     0.615871  0.266407       1      2         1   \n",
              "1457          10         3    -0.166839 -0.147810       1      2         1   \n",
              "1458           4         3    -0.084449 -0.080160       1      2         1   \n",
              "1459           4         3     0.203918 -0.058112       1      2         1   \n",
              "\n",
              "      LandContour  Utilities  LotConfig  ...  PoolArea  PoolQC  Fence  \\\n",
              "0               3          3          4  ... -0.068692       0      0   \n",
              "1               3          3          2  ... -0.068692       0      0   \n",
              "2               3          3          4  ... -0.068692       0      0   \n",
              "3               3          3          0  ... -0.068692       0      0   \n",
              "4               3          3          2  ... -0.068692       0      0   \n",
              "...           ...        ...        ...  ...       ...     ...    ...   \n",
              "1455            3          3          4  ... -0.068692       0      0   \n",
              "1456            3          3          4  ... -0.068692       0      3   \n",
              "1457            3          3          4  ... -0.068692       0      4   \n",
              "1458            3          3          4  ... -0.068692       0      0   \n",
              "1459            3          3          4  ... -0.068692       0      0   \n",
              "\n",
              "      MiscFeature   MiscVal  MoSold  YrSold  SaleType  SaleCondition  \\\n",
              "0               0       NaN       2    2008         8              4   \n",
              "1               0       NaN       5    2007         8              4   \n",
              "2               0       NaN       9    2008         8              4   \n",
              "3               0       NaN       2    2006         8              0   \n",
              "4               0       NaN      12    2008         8              4   \n",
              "...           ...       ...     ...     ...       ...            ...   \n",
              "1455            0       NaN       8    2007         8              4   \n",
              "1456            0       NaN       2    2010         8              4   \n",
              "1457            2  1.600016       5    2010         8              4   \n",
              "1458            0       NaN       4    2010         8              4   \n",
              "1459            0       NaN       6    2008         8              4   \n",
              "\n",
              "      SalePrice  \n",
              "0        208500  \n",
              "1        181500  \n",
              "2        223500  \n",
              "3        140000  \n",
              "4        250000  \n",
              "...         ...  \n",
              "1455     175000  \n",
              "1456     210000  \n",
              "1457     266500  \n",
              "1458     142125  \n",
              "1459     147500  \n",
              "\n",
              "[1460 rows x 80 columns]"
            ],
            "text/html": [
              "\n",
              "  <div id=\"df-b7924e4c-b4f1-47fd-bb21-812f54a78eda\">\n",
              "    <div class=\"colab-df-container\">\n",
              "      <div>\n",
              "<style scoped>\n",
              "    .dataframe tbody tr th:only-of-type {\n",
              "        vertical-align: middle;\n",
              "    }\n",
              "\n",
              "    .dataframe tbody tr th {\n",
              "        vertical-align: top;\n",
              "    }\n",
              "\n",
              "    .dataframe thead th {\n",
              "        text-align: right;\n",
              "    }\n",
              "</style>\n",
              "<table border=\"1\" class=\"dataframe\">\n",
              "  <thead>\n",
              "    <tr style=\"text-align: right;\">\n",
              "      <th></th>\n",
              "      <th>MSSubClass</th>\n",
              "      <th>MSZoning</th>\n",
              "      <th>LotFrontage</th>\n",
              "      <th>LotArea</th>\n",
              "      <th>Street</th>\n",
              "      <th>Alley</th>\n",
              "      <th>LotShape</th>\n",
              "      <th>LandContour</th>\n",
              "      <th>Utilities</th>\n",
              "      <th>LotConfig</th>\n",
              "      <th>...</th>\n",
              "      <th>PoolArea</th>\n",
              "      <th>PoolQC</th>\n",
              "      <th>Fence</th>\n",
              "      <th>MiscFeature</th>\n",
              "      <th>MiscVal</th>\n",
              "      <th>MoSold</th>\n",
              "      <th>YrSold</th>\n",
              "      <th>SaleType</th>\n",
              "      <th>SaleCondition</th>\n",
              "      <th>SalePrice</th>\n",
              "    </tr>\n",
              "  </thead>\n",
              "  <tbody>\n",
              "    <tr>\n",
              "      <th>0</th>\n",
              "      <td>9</td>\n",
              "      <td>3</td>\n",
              "      <td>-0.208034</td>\n",
              "      <td>-0.207142</td>\n",
              "      <td>1</td>\n",
              "      <td>2</td>\n",
              "      <td>1</td>\n",
              "      <td>3</td>\n",
              "      <td>3</td>\n",
              "      <td>4</td>\n",
              "      <td>...</td>\n",
              "      <td>-0.068692</td>\n",
              "      <td>0</td>\n",
              "      <td>0</td>\n",
              "      <td>0</td>\n",
              "      <td>NaN</td>\n",
              "      <td>2</td>\n",
              "      <td>2008</td>\n",
              "      <td>8</td>\n",
              "      <td>4</td>\n",
              "      <td>208500</td>\n",
              "    </tr>\n",
              "    <tr>\n",
              "      <th>1</th>\n",
              "      <td>4</td>\n",
              "      <td>3</td>\n",
              "      <td>0.409895</td>\n",
              "      <td>-0.091886</td>\n",
              "      <td>1</td>\n",
              "      <td>2</td>\n",
              "      <td>1</td>\n",
              "      <td>3</td>\n",
              "      <td>3</td>\n",
              "      <td>2</td>\n",
              "      <td>...</td>\n",
              "      <td>-0.068692</td>\n",
              "      <td>0</td>\n",
              "      <td>0</td>\n",
              "      <td>0</td>\n",
              "      <td>NaN</td>\n",
              "      <td>5</td>\n",
              "      <td>2007</td>\n",
              "      <td>8</td>\n",
              "      <td>4</td>\n",
              "      <td>181500</td>\n",
              "    </tr>\n",
              "    <tr>\n",
              "      <th>2</th>\n",
              "      <td>9</td>\n",
              "      <td>3</td>\n",
              "      <td>-0.084449</td>\n",
              "      <td>0.073480</td>\n",
              "      <td>1</td>\n",
              "      <td>2</td>\n",
              "      <td>2</td>\n",
              "      <td>3</td>\n",
              "      <td>3</td>\n",
              "      <td>4</td>\n",
              "      <td>...</td>\n",
              "      <td>-0.068692</td>\n",
              "      <td>0</td>\n",
              "      <td>0</td>\n",
              "      <td>0</td>\n",
              "      <td>NaN</td>\n",
              "      <td>9</td>\n",
              "      <td>2008</td>\n",
              "      <td>8</td>\n",
              "      <td>4</td>\n",
              "      <td>223500</td>\n",
              "    </tr>\n",
              "    <tr>\n",
              "      <th>3</th>\n",
              "      <td>10</td>\n",
              "      <td>3</td>\n",
              "      <td>-0.414011</td>\n",
              "      <td>-0.096897</td>\n",
              "      <td>1</td>\n",
              "      <td>2</td>\n",
              "      <td>2</td>\n",
              "      <td>3</td>\n",
              "      <td>3</td>\n",
              "      <td>0</td>\n",
              "      <td>...</td>\n",
              "      <td>-0.068692</td>\n",
              "      <td>0</td>\n",
              "      <td>0</td>\n",
              "      <td>0</td>\n",
              "      <td>NaN</td>\n",
              "      <td>2</td>\n",
              "      <td>2006</td>\n",
              "      <td>8</td>\n",
              "      <td>0</td>\n",
              "      <td>140000</td>\n",
              "    </tr>\n",
              "    <tr>\n",
              "      <th>4</th>\n",
              "      <td>9</td>\n",
              "      <td>3</td>\n",
              "      <td>0.574676</td>\n",
              "      <td>0.375148</td>\n",
              "      <td>1</td>\n",
              "      <td>2</td>\n",
              "      <td>2</td>\n",
              "      <td>3</td>\n",
              "      <td>3</td>\n",
              "      <td>2</td>\n",
              "      <td>...</td>\n",
              "      <td>-0.068692</td>\n",
              "      <td>0</td>\n",
              "      <td>0</td>\n",
              "      <td>0</td>\n",
              "      <td>NaN</td>\n",
              "      <td>12</td>\n",
              "      <td>2008</td>\n",
              "      <td>8</td>\n",
              "      <td>4</td>\n",
              "      <td>250000</td>\n",
              "    </tr>\n",
              "    <tr>\n",
              "      <th>...</th>\n",
              "      <td>...</td>\n",
              "      <td>...</td>\n",
              "      <td>...</td>\n",
              "      <td>...</td>\n",
              "      <td>...</td>\n",
              "      <td>...</td>\n",
              "      <td>...</td>\n",
              "      <td>...</td>\n",
              "      <td>...</td>\n",
              "      <td>...</td>\n",
              "      <td>...</td>\n",
              "      <td>...</td>\n",
              "      <td>...</td>\n",
              "      <td>...</td>\n",
              "      <td>...</td>\n",
              "      <td>...</td>\n",
              "      <td>...</td>\n",
              "      <td>...</td>\n",
              "      <td>...</td>\n",
              "      <td>...</td>\n",
              "      <td>...</td>\n",
              "    </tr>\n",
              "    <tr>\n",
              "      <th>1455</th>\n",
              "      <td>9</td>\n",
              "      <td>3</td>\n",
              "      <td>-0.331620</td>\n",
              "      <td>-0.260560</td>\n",
              "      <td>1</td>\n",
              "      <td>2</td>\n",
              "      <td>1</td>\n",
              "      <td>3</td>\n",
              "      <td>3</td>\n",
              "      <td>4</td>\n",
              "      <td>...</td>\n",
              "      <td>-0.068692</td>\n",
              "      <td>0</td>\n",
              "      <td>0</td>\n",
              "      <td>0</td>\n",
              "      <td>NaN</td>\n",
              "      <td>8</td>\n",
              "      <td>2007</td>\n",
              "      <td>8</td>\n",
              "      <td>4</td>\n",
              "      <td>175000</td>\n",
              "    </tr>\n",
              "    <tr>\n",
              "      <th>1456</th>\n",
              "      <td>4</td>\n",
              "      <td>3</td>\n",
              "      <td>0.615871</td>\n",
              "      <td>0.266407</td>\n",
              "      <td>1</td>\n",
              "      <td>2</td>\n",
              "      <td>1</td>\n",
              "      <td>3</td>\n",
              "      <td>3</td>\n",
              "      <td>4</td>\n",
              "      <td>...</td>\n",
              "      <td>-0.068692</td>\n",
              "      <td>0</td>\n",
              "      <td>3</td>\n",
              "      <td>0</td>\n",
              "      <td>NaN</td>\n",
              "      <td>2</td>\n",
              "      <td>2010</td>\n",
              "      <td>8</td>\n",
              "      <td>4</td>\n",
              "      <td>210000</td>\n",
              "    </tr>\n",
              "    <tr>\n",
              "      <th>1457</th>\n",
              "      <td>10</td>\n",
              "      <td>3</td>\n",
              "      <td>-0.166839</td>\n",
              "      <td>-0.147810</td>\n",
              "      <td>1</td>\n",
              "      <td>2</td>\n",
              "      <td>1</td>\n",
              "      <td>3</td>\n",
              "      <td>3</td>\n",
              "      <td>4</td>\n",
              "      <td>...</td>\n",
              "      <td>-0.068692</td>\n",
              "      <td>0</td>\n",
              "      <td>4</td>\n",
              "      <td>2</td>\n",
              "      <td>1.600016</td>\n",
              "      <td>5</td>\n",
              "      <td>2010</td>\n",
              "      <td>8</td>\n",
              "      <td>4</td>\n",
              "      <td>266500</td>\n",
              "    </tr>\n",
              "    <tr>\n",
              "      <th>1458</th>\n",
              "      <td>4</td>\n",
              "      <td>3</td>\n",
              "      <td>-0.084449</td>\n",
              "      <td>-0.080160</td>\n",
              "      <td>1</td>\n",
              "      <td>2</td>\n",
              "      <td>1</td>\n",
              "      <td>3</td>\n",
              "      <td>3</td>\n",
              "      <td>4</td>\n",
              "      <td>...</td>\n",
              "      <td>-0.068692</td>\n",
              "      <td>0</td>\n",
              "      <td>0</td>\n",
              "      <td>0</td>\n",
              "      <td>NaN</td>\n",
              "      <td>4</td>\n",
              "      <td>2010</td>\n",
              "      <td>8</td>\n",
              "      <td>4</td>\n",
              "      <td>142125</td>\n",
              "    </tr>\n",
              "    <tr>\n",
              "      <th>1459</th>\n",
              "      <td>4</td>\n",
              "      <td>3</td>\n",
              "      <td>0.203918</td>\n",
              "      <td>-0.058112</td>\n",
              "      <td>1</td>\n",
              "      <td>2</td>\n",
              "      <td>1</td>\n",
              "      <td>3</td>\n",
              "      <td>3</td>\n",
              "      <td>4</td>\n",
              "      <td>...</td>\n",
              "      <td>-0.068692</td>\n",
              "      <td>0</td>\n",
              "      <td>0</td>\n",
              "      <td>0</td>\n",
              "      <td>NaN</td>\n",
              "      <td>6</td>\n",
              "      <td>2008</td>\n",
              "      <td>8</td>\n",
              "      <td>4</td>\n",
              "      <td>147500</td>\n",
              "    </tr>\n",
              "  </tbody>\n",
              "</table>\n",
              "<p>1460 rows × 80 columns</p>\n",
              "</div>\n",
              "      <button class=\"colab-df-convert\" onclick=\"convertToInteractive('df-b7924e4c-b4f1-47fd-bb21-812f54a78eda')\"\n",
              "              title=\"Convert this dataframe to an interactive table.\"\n",
              "              style=\"display:none;\">\n",
              "        \n",
              "  <svg xmlns=\"http://www.w3.org/2000/svg\" height=\"24px\"viewBox=\"0 0 24 24\"\n",
              "       width=\"24px\">\n",
              "    <path d=\"M0 0h24v24H0V0z\" fill=\"none\"/>\n",
              "    <path d=\"M18.56 5.44l.94 2.06.94-2.06 2.06-.94-2.06-.94-.94-2.06-.94 2.06-2.06.94zm-11 1L8.5 8.5l.94-2.06 2.06-.94-2.06-.94L8.5 2.5l-.94 2.06-2.06.94zm10 10l.94 2.06.94-2.06 2.06-.94-2.06-.94-.94-2.06-.94 2.06-2.06.94z\"/><path d=\"M17.41 7.96l-1.37-1.37c-.4-.4-.92-.59-1.43-.59-.52 0-1.04.2-1.43.59L10.3 9.45l-7.72 7.72c-.78.78-.78 2.05 0 2.83L4 21.41c.39.39.9.59 1.41.59.51 0 1.02-.2 1.41-.59l7.78-7.78 2.81-2.81c.8-.78.8-2.07 0-2.86zM5.41 20L4 18.59l7.72-7.72 1.47 1.35L5.41 20z\"/>\n",
              "  </svg>\n",
              "      </button>\n",
              "      \n",
              "  <style>\n",
              "    .colab-df-container {\n",
              "      display:flex;\n",
              "      flex-wrap:wrap;\n",
              "      gap: 12px;\n",
              "    }\n",
              "\n",
              "    .colab-df-convert {\n",
              "      background-color: #E8F0FE;\n",
              "      border: none;\n",
              "      border-radius: 50%;\n",
              "      cursor: pointer;\n",
              "      display: none;\n",
              "      fill: #1967D2;\n",
              "      height: 32px;\n",
              "      padding: 0 0 0 0;\n",
              "      width: 32px;\n",
              "    }\n",
              "\n",
              "    .colab-df-convert:hover {\n",
              "      background-color: #E2EBFA;\n",
              "      box-shadow: 0px 1px 2px rgba(60, 64, 67, 0.3), 0px 1px 3px 1px rgba(60, 64, 67, 0.15);\n",
              "      fill: #174EA6;\n",
              "    }\n",
              "\n",
              "    [theme=dark] .colab-df-convert {\n",
              "      background-color: #3B4455;\n",
              "      fill: #D2E3FC;\n",
              "    }\n",
              "\n",
              "    [theme=dark] .colab-df-convert:hover {\n",
              "      background-color: #434B5C;\n",
              "      box-shadow: 0px 1px 3px 1px rgba(0, 0, 0, 0.15);\n",
              "      filter: drop-shadow(0px 1px 2px rgba(0, 0, 0, 0.3));\n",
              "      fill: #FFFFFF;\n",
              "    }\n",
              "  </style>\n",
              "\n",
              "      <script>\n",
              "        const buttonEl =\n",
              "          document.querySelector('#df-b7924e4c-b4f1-47fd-bb21-812f54a78eda button.colab-df-convert');\n",
              "        buttonEl.style.display =\n",
              "          google.colab.kernel.accessAllowed ? 'block' : 'none';\n",
              "\n",
              "        async function convertToInteractive(key) {\n",
              "          const element = document.querySelector('#df-b7924e4c-b4f1-47fd-bb21-812f54a78eda');\n",
              "          const dataTable =\n",
              "            await google.colab.kernel.invokeFunction('convertToInteractive',\n",
              "                                                     [key], {});\n",
              "          if (!dataTable) return;\n",
              "\n",
              "          const docLinkHtml = 'Like what you see? Visit the ' +\n",
              "            '<a target=\"_blank\" href=https://colab.research.google.com/notebooks/data_table.ipynb>data table notebook</a>'\n",
              "            + ' to learn more about interactive tables.';\n",
              "          element.innerHTML = '';\n",
              "          dataTable['output_type'] = 'display_data';\n",
              "          await google.colab.output.renderOutput(dataTable, element);\n",
              "          const docLink = document.createElement('div');\n",
              "          docLink.innerHTML = docLinkHtml;\n",
              "          element.appendChild(docLink);\n",
              "        }\n",
              "      </script>\n",
              "    </div>\n",
              "  </div>\n",
              "  "
            ]
          },
          "metadata": {},
          "execution_count": 106
        }
      ]
    },
    {
      "cell_type": "code",
      "source": [
        ""
      ],
      "metadata": {
        "id": "nUs2lvcwtfYX"
      },
      "execution_count": 104,
      "outputs": []
    }
  ]
}