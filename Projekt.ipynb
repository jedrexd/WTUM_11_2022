{
  "nbformat": 4,
  "nbformat_minor": 0,
  "metadata": {
    "colab": {
      "name": "Projekt.ipynb",
      "provenance": [],
      "include_colab_link": true
    },
    "kernelspec": {
      "name": "python3",
      "display_name": "Python 3"
    },
    "language_info": {
      "name": "python"
    }
  },
  "cells": [
    {
      "cell_type": "markdown",
      "metadata": {
        "id": "view-in-github",
        "colab_type": "text"
      },
      "source": [
        "<a href=\"https://colab.research.google.com/github/jedrexd/WTUM_11_2022/blob/main/Projekt.ipynb\" target=\"_parent\"><img src=\"https://colab.research.google.com/assets/colab-badge.svg\" alt=\"Open In Colab\"/></a>"
      ]
    },
    {
      "cell_type": "code",
      "execution_count": 1,
      "metadata": {
        "id": "vv_tBaUlqb2e"
      },
      "outputs": [],
      "source": [
        "import pandas as pd\n",
        "import numpy as np\n",
        "import matplotlib.pyplot as plt\n",
        "from sklearn.preprocessing import LabelEncoder, StandardScaler"
      ]
    },
    {
      "cell_type": "code",
      "source": [
        "!git clone https://github.com/jedrexd/WTUM_11_2022"
      ],
      "metadata": {
        "id": "mN3EVZgZs1rF",
        "outputId": "be692d80-21c3-4d24-861f-9ca6d162a402",
        "colab": {
          "base_uri": "https://localhost:8080/"
        }
      },
      "execution_count": 3,
      "outputs": [
        {
          "output_type": "stream",
          "name": "stdout",
          "text": [
            "Cloning into 'WTUM_11_2022'...\n",
            "remote: Enumerating objects: 59, done.\u001b[K\n",
            "remote: Counting objects: 100% (59/59), done.\u001b[K\n",
            "remote: Compressing objects: 100% (57/57), done.\u001b[K\n",
            "remote: Total 59 (delta 30), reused 0 (delta 0), pack-reused 0\u001b[K\n",
            "Unpacking objects: 100% (59/59), done.\n"
          ]
        }
      ]
    },
    {
      "cell_type": "code",
      "source": [
        "df = pd.read_csv(\"/content/WTUM_11_2022/train.csv\", header=0)\n",
        "df = df.iloc[:,1:]\n",
        "df"
      ],
      "metadata": {
        "id": "vSbAxlCA5EDw",
        "outputId": "22978faa-1699-4bac-c797-f942a6f5fdd5",
        "colab": {
          "base_uri": "https://localhost:8080/",
          "height": 423
        }
      },
      "execution_count": 4,
      "outputs": [
        {
          "output_type": "execute_result",
          "data": {
            "text/plain": [
              "      MSSubClass MSZoning  LotFrontage  LotArea Street Alley LotShape  \\\n",
              "0             60       RL         65.0     8450   Pave   NaN      Reg   \n",
              "1             20       RL         80.0     9600   Pave   NaN      Reg   \n",
              "2             60       RL         68.0    11250   Pave   NaN      IR1   \n",
              "3             70       RL         60.0     9550   Pave   NaN      IR1   \n",
              "4             60       RL         84.0    14260   Pave   NaN      IR1   \n",
              "...          ...      ...          ...      ...    ...   ...      ...   \n",
              "1455          60       RL         62.0     7917   Pave   NaN      Reg   \n",
              "1456          20       RL         85.0    13175   Pave   NaN      Reg   \n",
              "1457          70       RL         66.0     9042   Pave   NaN      Reg   \n",
              "1458          20       RL         68.0     9717   Pave   NaN      Reg   \n",
              "1459          20       RL         75.0     9937   Pave   NaN      Reg   \n",
              "\n",
              "     LandContour Utilities LotConfig  ... PoolArea PoolQC  Fence MiscFeature  \\\n",
              "0            Lvl    AllPub    Inside  ...        0    NaN    NaN         NaN   \n",
              "1            Lvl    AllPub       FR2  ...        0    NaN    NaN         NaN   \n",
              "2            Lvl    AllPub    Inside  ...        0    NaN    NaN         NaN   \n",
              "3            Lvl    AllPub    Corner  ...        0    NaN    NaN         NaN   \n",
              "4            Lvl    AllPub       FR2  ...        0    NaN    NaN         NaN   \n",
              "...          ...       ...       ...  ...      ...    ...    ...         ...   \n",
              "1455         Lvl    AllPub    Inside  ...        0    NaN    NaN         NaN   \n",
              "1456         Lvl    AllPub    Inside  ...        0    NaN  MnPrv         NaN   \n",
              "1457         Lvl    AllPub    Inside  ...        0    NaN  GdPrv        Shed   \n",
              "1458         Lvl    AllPub    Inside  ...        0    NaN    NaN         NaN   \n",
              "1459         Lvl    AllPub    Inside  ...        0    NaN    NaN         NaN   \n",
              "\n",
              "     MiscVal MoSold  YrSold  SaleType  SaleCondition  SalePrice  \n",
              "0          0      2    2008        WD         Normal     208500  \n",
              "1          0      5    2007        WD         Normal     181500  \n",
              "2          0      9    2008        WD         Normal     223500  \n",
              "3          0      2    2006        WD        Abnorml     140000  \n",
              "4          0     12    2008        WD         Normal     250000  \n",
              "...      ...    ...     ...       ...            ...        ...  \n",
              "1455       0      8    2007        WD         Normal     175000  \n",
              "1456       0      2    2010        WD         Normal     210000  \n",
              "1457    2500      5    2010        WD         Normal     266500  \n",
              "1458       0      4    2010        WD         Normal     142125  \n",
              "1459       0      6    2008        WD         Normal     147500  \n",
              "\n",
              "[1460 rows x 80 columns]"
            ],
            "text/html": [
              "\n",
              "  <div id=\"df-833cb659-8123-4ec1-9a9f-ad198c43f47e\">\n",
              "    <div class=\"colab-df-container\">\n",
              "      <div>\n",
              "<style scoped>\n",
              "    .dataframe tbody tr th:only-of-type {\n",
              "        vertical-align: middle;\n",
              "    }\n",
              "\n",
              "    .dataframe tbody tr th {\n",
              "        vertical-align: top;\n",
              "    }\n",
              "\n",
              "    .dataframe thead th {\n",
              "        text-align: right;\n",
              "    }\n",
              "</style>\n",
              "<table border=\"1\" class=\"dataframe\">\n",
              "  <thead>\n",
              "    <tr style=\"text-align: right;\">\n",
              "      <th></th>\n",
              "      <th>MSSubClass</th>\n",
              "      <th>MSZoning</th>\n",
              "      <th>LotFrontage</th>\n",
              "      <th>LotArea</th>\n",
              "      <th>Street</th>\n",
              "      <th>Alley</th>\n",
              "      <th>LotShape</th>\n",
              "      <th>LandContour</th>\n",
              "      <th>Utilities</th>\n",
              "      <th>LotConfig</th>\n",
              "      <th>...</th>\n",
              "      <th>PoolArea</th>\n",
              "      <th>PoolQC</th>\n",
              "      <th>Fence</th>\n",
              "      <th>MiscFeature</th>\n",
              "      <th>MiscVal</th>\n",
              "      <th>MoSold</th>\n",
              "      <th>YrSold</th>\n",
              "      <th>SaleType</th>\n",
              "      <th>SaleCondition</th>\n",
              "      <th>SalePrice</th>\n",
              "    </tr>\n",
              "  </thead>\n",
              "  <tbody>\n",
              "    <tr>\n",
              "      <th>0</th>\n",
              "      <td>60</td>\n",
              "      <td>RL</td>\n",
              "      <td>65.0</td>\n",
              "      <td>8450</td>\n",
              "      <td>Pave</td>\n",
              "      <td>NaN</td>\n",
              "      <td>Reg</td>\n",
              "      <td>Lvl</td>\n",
              "      <td>AllPub</td>\n",
              "      <td>Inside</td>\n",
              "      <td>...</td>\n",
              "      <td>0</td>\n",
              "      <td>NaN</td>\n",
              "      <td>NaN</td>\n",
              "      <td>NaN</td>\n",
              "      <td>0</td>\n",
              "      <td>2</td>\n",
              "      <td>2008</td>\n",
              "      <td>WD</td>\n",
              "      <td>Normal</td>\n",
              "      <td>208500</td>\n",
              "    </tr>\n",
              "    <tr>\n",
              "      <th>1</th>\n",
              "      <td>20</td>\n",
              "      <td>RL</td>\n",
              "      <td>80.0</td>\n",
              "      <td>9600</td>\n",
              "      <td>Pave</td>\n",
              "      <td>NaN</td>\n",
              "      <td>Reg</td>\n",
              "      <td>Lvl</td>\n",
              "      <td>AllPub</td>\n",
              "      <td>FR2</td>\n",
              "      <td>...</td>\n",
              "      <td>0</td>\n",
              "      <td>NaN</td>\n",
              "      <td>NaN</td>\n",
              "      <td>NaN</td>\n",
              "      <td>0</td>\n",
              "      <td>5</td>\n",
              "      <td>2007</td>\n",
              "      <td>WD</td>\n",
              "      <td>Normal</td>\n",
              "      <td>181500</td>\n",
              "    </tr>\n",
              "    <tr>\n",
              "      <th>2</th>\n",
              "      <td>60</td>\n",
              "      <td>RL</td>\n",
              "      <td>68.0</td>\n",
              "      <td>11250</td>\n",
              "      <td>Pave</td>\n",
              "      <td>NaN</td>\n",
              "      <td>IR1</td>\n",
              "      <td>Lvl</td>\n",
              "      <td>AllPub</td>\n",
              "      <td>Inside</td>\n",
              "      <td>...</td>\n",
              "      <td>0</td>\n",
              "      <td>NaN</td>\n",
              "      <td>NaN</td>\n",
              "      <td>NaN</td>\n",
              "      <td>0</td>\n",
              "      <td>9</td>\n",
              "      <td>2008</td>\n",
              "      <td>WD</td>\n",
              "      <td>Normal</td>\n",
              "      <td>223500</td>\n",
              "    </tr>\n",
              "    <tr>\n",
              "      <th>3</th>\n",
              "      <td>70</td>\n",
              "      <td>RL</td>\n",
              "      <td>60.0</td>\n",
              "      <td>9550</td>\n",
              "      <td>Pave</td>\n",
              "      <td>NaN</td>\n",
              "      <td>IR1</td>\n",
              "      <td>Lvl</td>\n",
              "      <td>AllPub</td>\n",
              "      <td>Corner</td>\n",
              "      <td>...</td>\n",
              "      <td>0</td>\n",
              "      <td>NaN</td>\n",
              "      <td>NaN</td>\n",
              "      <td>NaN</td>\n",
              "      <td>0</td>\n",
              "      <td>2</td>\n",
              "      <td>2006</td>\n",
              "      <td>WD</td>\n",
              "      <td>Abnorml</td>\n",
              "      <td>140000</td>\n",
              "    </tr>\n",
              "    <tr>\n",
              "      <th>4</th>\n",
              "      <td>60</td>\n",
              "      <td>RL</td>\n",
              "      <td>84.0</td>\n",
              "      <td>14260</td>\n",
              "      <td>Pave</td>\n",
              "      <td>NaN</td>\n",
              "      <td>IR1</td>\n",
              "      <td>Lvl</td>\n",
              "      <td>AllPub</td>\n",
              "      <td>FR2</td>\n",
              "      <td>...</td>\n",
              "      <td>0</td>\n",
              "      <td>NaN</td>\n",
              "      <td>NaN</td>\n",
              "      <td>NaN</td>\n",
              "      <td>0</td>\n",
              "      <td>12</td>\n",
              "      <td>2008</td>\n",
              "      <td>WD</td>\n",
              "      <td>Normal</td>\n",
              "      <td>250000</td>\n",
              "    </tr>\n",
              "    <tr>\n",
              "      <th>...</th>\n",
              "      <td>...</td>\n",
              "      <td>...</td>\n",
              "      <td>...</td>\n",
              "      <td>...</td>\n",
              "      <td>...</td>\n",
              "      <td>...</td>\n",
              "      <td>...</td>\n",
              "      <td>...</td>\n",
              "      <td>...</td>\n",
              "      <td>...</td>\n",
              "      <td>...</td>\n",
              "      <td>...</td>\n",
              "      <td>...</td>\n",
              "      <td>...</td>\n",
              "      <td>...</td>\n",
              "      <td>...</td>\n",
              "      <td>...</td>\n",
              "      <td>...</td>\n",
              "      <td>...</td>\n",
              "      <td>...</td>\n",
              "      <td>...</td>\n",
              "    </tr>\n",
              "    <tr>\n",
              "      <th>1455</th>\n",
              "      <td>60</td>\n",
              "      <td>RL</td>\n",
              "      <td>62.0</td>\n",
              "      <td>7917</td>\n",
              "      <td>Pave</td>\n",
              "      <td>NaN</td>\n",
              "      <td>Reg</td>\n",
              "      <td>Lvl</td>\n",
              "      <td>AllPub</td>\n",
              "      <td>Inside</td>\n",
              "      <td>...</td>\n",
              "      <td>0</td>\n",
              "      <td>NaN</td>\n",
              "      <td>NaN</td>\n",
              "      <td>NaN</td>\n",
              "      <td>0</td>\n",
              "      <td>8</td>\n",
              "      <td>2007</td>\n",
              "      <td>WD</td>\n",
              "      <td>Normal</td>\n",
              "      <td>175000</td>\n",
              "    </tr>\n",
              "    <tr>\n",
              "      <th>1456</th>\n",
              "      <td>20</td>\n",
              "      <td>RL</td>\n",
              "      <td>85.0</td>\n",
              "      <td>13175</td>\n",
              "      <td>Pave</td>\n",
              "      <td>NaN</td>\n",
              "      <td>Reg</td>\n",
              "      <td>Lvl</td>\n",
              "      <td>AllPub</td>\n",
              "      <td>Inside</td>\n",
              "      <td>...</td>\n",
              "      <td>0</td>\n",
              "      <td>NaN</td>\n",
              "      <td>MnPrv</td>\n",
              "      <td>NaN</td>\n",
              "      <td>0</td>\n",
              "      <td>2</td>\n",
              "      <td>2010</td>\n",
              "      <td>WD</td>\n",
              "      <td>Normal</td>\n",
              "      <td>210000</td>\n",
              "    </tr>\n",
              "    <tr>\n",
              "      <th>1457</th>\n",
              "      <td>70</td>\n",
              "      <td>RL</td>\n",
              "      <td>66.0</td>\n",
              "      <td>9042</td>\n",
              "      <td>Pave</td>\n",
              "      <td>NaN</td>\n",
              "      <td>Reg</td>\n",
              "      <td>Lvl</td>\n",
              "      <td>AllPub</td>\n",
              "      <td>Inside</td>\n",
              "      <td>...</td>\n",
              "      <td>0</td>\n",
              "      <td>NaN</td>\n",
              "      <td>GdPrv</td>\n",
              "      <td>Shed</td>\n",
              "      <td>2500</td>\n",
              "      <td>5</td>\n",
              "      <td>2010</td>\n",
              "      <td>WD</td>\n",
              "      <td>Normal</td>\n",
              "      <td>266500</td>\n",
              "    </tr>\n",
              "    <tr>\n",
              "      <th>1458</th>\n",
              "      <td>20</td>\n",
              "      <td>RL</td>\n",
              "      <td>68.0</td>\n",
              "      <td>9717</td>\n",
              "      <td>Pave</td>\n",
              "      <td>NaN</td>\n",
              "      <td>Reg</td>\n",
              "      <td>Lvl</td>\n",
              "      <td>AllPub</td>\n",
              "      <td>Inside</td>\n",
              "      <td>...</td>\n",
              "      <td>0</td>\n",
              "      <td>NaN</td>\n",
              "      <td>NaN</td>\n",
              "      <td>NaN</td>\n",
              "      <td>0</td>\n",
              "      <td>4</td>\n",
              "      <td>2010</td>\n",
              "      <td>WD</td>\n",
              "      <td>Normal</td>\n",
              "      <td>142125</td>\n",
              "    </tr>\n",
              "    <tr>\n",
              "      <th>1459</th>\n",
              "      <td>20</td>\n",
              "      <td>RL</td>\n",
              "      <td>75.0</td>\n",
              "      <td>9937</td>\n",
              "      <td>Pave</td>\n",
              "      <td>NaN</td>\n",
              "      <td>Reg</td>\n",
              "      <td>Lvl</td>\n",
              "      <td>AllPub</td>\n",
              "      <td>Inside</td>\n",
              "      <td>...</td>\n",
              "      <td>0</td>\n",
              "      <td>NaN</td>\n",
              "      <td>NaN</td>\n",
              "      <td>NaN</td>\n",
              "      <td>0</td>\n",
              "      <td>6</td>\n",
              "      <td>2008</td>\n",
              "      <td>WD</td>\n",
              "      <td>Normal</td>\n",
              "      <td>147500</td>\n",
              "    </tr>\n",
              "  </tbody>\n",
              "</table>\n",
              "<p>1460 rows × 80 columns</p>\n",
              "</div>\n",
              "      <button class=\"colab-df-convert\" onclick=\"convertToInteractive('df-833cb659-8123-4ec1-9a9f-ad198c43f47e')\"\n",
              "              title=\"Convert this dataframe to an interactive table.\"\n",
              "              style=\"display:none;\">\n",
              "        \n",
              "  <svg xmlns=\"http://www.w3.org/2000/svg\" height=\"24px\"viewBox=\"0 0 24 24\"\n",
              "       width=\"24px\">\n",
              "    <path d=\"M0 0h24v24H0V0z\" fill=\"none\"/>\n",
              "    <path d=\"M18.56 5.44l.94 2.06.94-2.06 2.06-.94-2.06-.94-.94-2.06-.94 2.06-2.06.94zm-11 1L8.5 8.5l.94-2.06 2.06-.94-2.06-.94L8.5 2.5l-.94 2.06-2.06.94zm10 10l.94 2.06.94-2.06 2.06-.94-2.06-.94-.94-2.06-.94 2.06-2.06.94z\"/><path d=\"M17.41 7.96l-1.37-1.37c-.4-.4-.92-.59-1.43-.59-.52 0-1.04.2-1.43.59L10.3 9.45l-7.72 7.72c-.78.78-.78 2.05 0 2.83L4 21.41c.39.39.9.59 1.41.59.51 0 1.02-.2 1.41-.59l7.78-7.78 2.81-2.81c.8-.78.8-2.07 0-2.86zM5.41 20L4 18.59l7.72-7.72 1.47 1.35L5.41 20z\"/>\n",
              "  </svg>\n",
              "      </button>\n",
              "      \n",
              "  <style>\n",
              "    .colab-df-container {\n",
              "      display:flex;\n",
              "      flex-wrap:wrap;\n",
              "      gap: 12px;\n",
              "    }\n",
              "\n",
              "    .colab-df-convert {\n",
              "      background-color: #E8F0FE;\n",
              "      border: none;\n",
              "      border-radius: 50%;\n",
              "      cursor: pointer;\n",
              "      display: none;\n",
              "      fill: #1967D2;\n",
              "      height: 32px;\n",
              "      padding: 0 0 0 0;\n",
              "      width: 32px;\n",
              "    }\n",
              "\n",
              "    .colab-df-convert:hover {\n",
              "      background-color: #E2EBFA;\n",
              "      box-shadow: 0px 1px 2px rgba(60, 64, 67, 0.3), 0px 1px 3px 1px rgba(60, 64, 67, 0.15);\n",
              "      fill: #174EA6;\n",
              "    }\n",
              "\n",
              "    [theme=dark] .colab-df-convert {\n",
              "      background-color: #3B4455;\n",
              "      fill: #D2E3FC;\n",
              "    }\n",
              "\n",
              "    [theme=dark] .colab-df-convert:hover {\n",
              "      background-color: #434B5C;\n",
              "      box-shadow: 0px 1px 3px 1px rgba(0, 0, 0, 0.15);\n",
              "      filter: drop-shadow(0px 1px 2px rgba(0, 0, 0, 0.3));\n",
              "      fill: #FFFFFF;\n",
              "    }\n",
              "  </style>\n",
              "\n",
              "      <script>\n",
              "        const buttonEl =\n",
              "          document.querySelector('#df-833cb659-8123-4ec1-9a9f-ad198c43f47e button.colab-df-convert');\n",
              "        buttonEl.style.display =\n",
              "          google.colab.kernel.accessAllowed ? 'block' : 'none';\n",
              "\n",
              "        async function convertToInteractive(key) {\n",
              "          const element = document.querySelector('#df-833cb659-8123-4ec1-9a9f-ad198c43f47e');\n",
              "          const dataTable =\n",
              "            await google.colab.kernel.invokeFunction('convertToInteractive',\n",
              "                                                     [key], {});\n",
              "          if (!dataTable) return;\n",
              "\n",
              "          const docLinkHtml = 'Like what you see? Visit the ' +\n",
              "            '<a target=\"_blank\" href=https://colab.research.google.com/notebooks/data_table.ipynb>data table notebook</a>'\n",
              "            + ' to learn more about interactive tables.';\n",
              "          element.innerHTML = '';\n",
              "          dataTable['output_type'] = 'display_data';\n",
              "          await google.colab.output.renderOutput(dataTable, element);\n",
              "          const docLink = document.createElement('div');\n",
              "          docLink.innerHTML = docLinkHtml;\n",
              "          element.appendChild(docLink);\n",
              "        }\n",
              "      </script>\n",
              "    </div>\n",
              "  </div>\n",
              "  "
            ]
          },
          "metadata": {},
          "execution_count": 4
        }
      ]
    },
    {
      "cell_type": "code",
      "source": [
        "df.describe()"
      ],
      "metadata": {
        "id": "MnzsTMuN83dS",
        "outputId": "053cf9a3-7ecf-4225-ed1c-af4da84165e1",
        "colab": {
          "base_uri": "https://localhost:8080/",
          "height": 394
        }
      },
      "execution_count": 5,
      "outputs": [
        {
          "output_type": "execute_result",
          "data": {
            "text/plain": [
              "        MSSubClass  LotFrontage        LotArea  OverallQual  OverallCond  \\\n",
              "count  1460.000000  1201.000000    1460.000000  1460.000000  1460.000000   \n",
              "mean     56.897260    70.049958   10516.828082     6.099315     5.575342   \n",
              "std      42.300571    24.284752    9981.264932     1.382997     1.112799   \n",
              "min      20.000000    21.000000    1300.000000     1.000000     1.000000   \n",
              "25%      20.000000    59.000000    7553.500000     5.000000     5.000000   \n",
              "50%      50.000000    69.000000    9478.500000     6.000000     5.000000   \n",
              "75%      70.000000    80.000000   11601.500000     7.000000     6.000000   \n",
              "max     190.000000   313.000000  215245.000000    10.000000     9.000000   \n",
              "\n",
              "         YearBuilt  YearRemodAdd   MasVnrArea   BsmtFinSF1   BsmtFinSF2  ...  \\\n",
              "count  1460.000000   1460.000000  1452.000000  1460.000000  1460.000000  ...   \n",
              "mean   1971.267808   1984.865753   103.685262   443.639726    46.549315  ...   \n",
              "std      30.202904     20.645407   181.066207   456.098091   161.319273  ...   \n",
              "min    1872.000000   1950.000000     0.000000     0.000000     0.000000  ...   \n",
              "25%    1954.000000   1967.000000     0.000000     0.000000     0.000000  ...   \n",
              "50%    1973.000000   1994.000000     0.000000   383.500000     0.000000  ...   \n",
              "75%    2000.000000   2004.000000   166.000000   712.250000     0.000000  ...   \n",
              "max    2010.000000   2010.000000  1600.000000  5644.000000  1474.000000  ...   \n",
              "\n",
              "        WoodDeckSF  OpenPorchSF  EnclosedPorch    3SsnPorch  ScreenPorch  \\\n",
              "count  1460.000000  1460.000000    1460.000000  1460.000000  1460.000000   \n",
              "mean     94.244521    46.660274      21.954110     3.409589    15.060959   \n",
              "std     125.338794    66.256028      61.119149    29.317331    55.757415   \n",
              "min       0.000000     0.000000       0.000000     0.000000     0.000000   \n",
              "25%       0.000000     0.000000       0.000000     0.000000     0.000000   \n",
              "50%       0.000000    25.000000       0.000000     0.000000     0.000000   \n",
              "75%     168.000000    68.000000       0.000000     0.000000     0.000000   \n",
              "max     857.000000   547.000000     552.000000   508.000000   480.000000   \n",
              "\n",
              "          PoolArea       MiscVal       MoSold       YrSold      SalePrice  \n",
              "count  1460.000000   1460.000000  1460.000000  1460.000000    1460.000000  \n",
              "mean      2.758904     43.489041     6.321918  2007.815753  180921.195890  \n",
              "std      40.177307    496.123024     2.703626     1.328095   79442.502883  \n",
              "min       0.000000      0.000000     1.000000  2006.000000   34900.000000  \n",
              "25%       0.000000      0.000000     5.000000  2007.000000  129975.000000  \n",
              "50%       0.000000      0.000000     6.000000  2008.000000  163000.000000  \n",
              "75%       0.000000      0.000000     8.000000  2009.000000  214000.000000  \n",
              "max     738.000000  15500.000000    12.000000  2010.000000  755000.000000  \n",
              "\n",
              "[8 rows x 37 columns]"
            ],
            "text/html": [
              "\n",
              "  <div id=\"df-e9ba0a20-7522-49af-a83b-a770dea9e4db\">\n",
              "    <div class=\"colab-df-container\">\n",
              "      <div>\n",
              "<style scoped>\n",
              "    .dataframe tbody tr th:only-of-type {\n",
              "        vertical-align: middle;\n",
              "    }\n",
              "\n",
              "    .dataframe tbody tr th {\n",
              "        vertical-align: top;\n",
              "    }\n",
              "\n",
              "    .dataframe thead th {\n",
              "        text-align: right;\n",
              "    }\n",
              "</style>\n",
              "<table border=\"1\" class=\"dataframe\">\n",
              "  <thead>\n",
              "    <tr style=\"text-align: right;\">\n",
              "      <th></th>\n",
              "      <th>MSSubClass</th>\n",
              "      <th>LotFrontage</th>\n",
              "      <th>LotArea</th>\n",
              "      <th>OverallQual</th>\n",
              "      <th>OverallCond</th>\n",
              "      <th>YearBuilt</th>\n",
              "      <th>YearRemodAdd</th>\n",
              "      <th>MasVnrArea</th>\n",
              "      <th>BsmtFinSF1</th>\n",
              "      <th>BsmtFinSF2</th>\n",
              "      <th>...</th>\n",
              "      <th>WoodDeckSF</th>\n",
              "      <th>OpenPorchSF</th>\n",
              "      <th>EnclosedPorch</th>\n",
              "      <th>3SsnPorch</th>\n",
              "      <th>ScreenPorch</th>\n",
              "      <th>PoolArea</th>\n",
              "      <th>MiscVal</th>\n",
              "      <th>MoSold</th>\n",
              "      <th>YrSold</th>\n",
              "      <th>SalePrice</th>\n",
              "    </tr>\n",
              "  </thead>\n",
              "  <tbody>\n",
              "    <tr>\n",
              "      <th>count</th>\n",
              "      <td>1460.000000</td>\n",
              "      <td>1201.000000</td>\n",
              "      <td>1460.000000</td>\n",
              "      <td>1460.000000</td>\n",
              "      <td>1460.000000</td>\n",
              "      <td>1460.000000</td>\n",
              "      <td>1460.000000</td>\n",
              "      <td>1452.000000</td>\n",
              "      <td>1460.000000</td>\n",
              "      <td>1460.000000</td>\n",
              "      <td>...</td>\n",
              "      <td>1460.000000</td>\n",
              "      <td>1460.000000</td>\n",
              "      <td>1460.000000</td>\n",
              "      <td>1460.000000</td>\n",
              "      <td>1460.000000</td>\n",
              "      <td>1460.000000</td>\n",
              "      <td>1460.000000</td>\n",
              "      <td>1460.000000</td>\n",
              "      <td>1460.000000</td>\n",
              "      <td>1460.000000</td>\n",
              "    </tr>\n",
              "    <tr>\n",
              "      <th>mean</th>\n",
              "      <td>56.897260</td>\n",
              "      <td>70.049958</td>\n",
              "      <td>10516.828082</td>\n",
              "      <td>6.099315</td>\n",
              "      <td>5.575342</td>\n",
              "      <td>1971.267808</td>\n",
              "      <td>1984.865753</td>\n",
              "      <td>103.685262</td>\n",
              "      <td>443.639726</td>\n",
              "      <td>46.549315</td>\n",
              "      <td>...</td>\n",
              "      <td>94.244521</td>\n",
              "      <td>46.660274</td>\n",
              "      <td>21.954110</td>\n",
              "      <td>3.409589</td>\n",
              "      <td>15.060959</td>\n",
              "      <td>2.758904</td>\n",
              "      <td>43.489041</td>\n",
              "      <td>6.321918</td>\n",
              "      <td>2007.815753</td>\n",
              "      <td>180921.195890</td>\n",
              "    </tr>\n",
              "    <tr>\n",
              "      <th>std</th>\n",
              "      <td>42.300571</td>\n",
              "      <td>24.284752</td>\n",
              "      <td>9981.264932</td>\n",
              "      <td>1.382997</td>\n",
              "      <td>1.112799</td>\n",
              "      <td>30.202904</td>\n",
              "      <td>20.645407</td>\n",
              "      <td>181.066207</td>\n",
              "      <td>456.098091</td>\n",
              "      <td>161.319273</td>\n",
              "      <td>...</td>\n",
              "      <td>125.338794</td>\n",
              "      <td>66.256028</td>\n",
              "      <td>61.119149</td>\n",
              "      <td>29.317331</td>\n",
              "      <td>55.757415</td>\n",
              "      <td>40.177307</td>\n",
              "      <td>496.123024</td>\n",
              "      <td>2.703626</td>\n",
              "      <td>1.328095</td>\n",
              "      <td>79442.502883</td>\n",
              "    </tr>\n",
              "    <tr>\n",
              "      <th>min</th>\n",
              "      <td>20.000000</td>\n",
              "      <td>21.000000</td>\n",
              "      <td>1300.000000</td>\n",
              "      <td>1.000000</td>\n",
              "      <td>1.000000</td>\n",
              "      <td>1872.000000</td>\n",
              "      <td>1950.000000</td>\n",
              "      <td>0.000000</td>\n",
              "      <td>0.000000</td>\n",
              "      <td>0.000000</td>\n",
              "      <td>...</td>\n",
              "      <td>0.000000</td>\n",
              "      <td>0.000000</td>\n",
              "      <td>0.000000</td>\n",
              "      <td>0.000000</td>\n",
              "      <td>0.000000</td>\n",
              "      <td>0.000000</td>\n",
              "      <td>0.000000</td>\n",
              "      <td>1.000000</td>\n",
              "      <td>2006.000000</td>\n",
              "      <td>34900.000000</td>\n",
              "    </tr>\n",
              "    <tr>\n",
              "      <th>25%</th>\n",
              "      <td>20.000000</td>\n",
              "      <td>59.000000</td>\n",
              "      <td>7553.500000</td>\n",
              "      <td>5.000000</td>\n",
              "      <td>5.000000</td>\n",
              "      <td>1954.000000</td>\n",
              "      <td>1967.000000</td>\n",
              "      <td>0.000000</td>\n",
              "      <td>0.000000</td>\n",
              "      <td>0.000000</td>\n",
              "      <td>...</td>\n",
              "      <td>0.000000</td>\n",
              "      <td>0.000000</td>\n",
              "      <td>0.000000</td>\n",
              "      <td>0.000000</td>\n",
              "      <td>0.000000</td>\n",
              "      <td>0.000000</td>\n",
              "      <td>0.000000</td>\n",
              "      <td>5.000000</td>\n",
              "      <td>2007.000000</td>\n",
              "      <td>129975.000000</td>\n",
              "    </tr>\n",
              "    <tr>\n",
              "      <th>50%</th>\n",
              "      <td>50.000000</td>\n",
              "      <td>69.000000</td>\n",
              "      <td>9478.500000</td>\n",
              "      <td>6.000000</td>\n",
              "      <td>5.000000</td>\n",
              "      <td>1973.000000</td>\n",
              "      <td>1994.000000</td>\n",
              "      <td>0.000000</td>\n",
              "      <td>383.500000</td>\n",
              "      <td>0.000000</td>\n",
              "      <td>...</td>\n",
              "      <td>0.000000</td>\n",
              "      <td>25.000000</td>\n",
              "      <td>0.000000</td>\n",
              "      <td>0.000000</td>\n",
              "      <td>0.000000</td>\n",
              "      <td>0.000000</td>\n",
              "      <td>0.000000</td>\n",
              "      <td>6.000000</td>\n",
              "      <td>2008.000000</td>\n",
              "      <td>163000.000000</td>\n",
              "    </tr>\n",
              "    <tr>\n",
              "      <th>75%</th>\n",
              "      <td>70.000000</td>\n",
              "      <td>80.000000</td>\n",
              "      <td>11601.500000</td>\n",
              "      <td>7.000000</td>\n",
              "      <td>6.000000</td>\n",
              "      <td>2000.000000</td>\n",
              "      <td>2004.000000</td>\n",
              "      <td>166.000000</td>\n",
              "      <td>712.250000</td>\n",
              "      <td>0.000000</td>\n",
              "      <td>...</td>\n",
              "      <td>168.000000</td>\n",
              "      <td>68.000000</td>\n",
              "      <td>0.000000</td>\n",
              "      <td>0.000000</td>\n",
              "      <td>0.000000</td>\n",
              "      <td>0.000000</td>\n",
              "      <td>0.000000</td>\n",
              "      <td>8.000000</td>\n",
              "      <td>2009.000000</td>\n",
              "      <td>214000.000000</td>\n",
              "    </tr>\n",
              "    <tr>\n",
              "      <th>max</th>\n",
              "      <td>190.000000</td>\n",
              "      <td>313.000000</td>\n",
              "      <td>215245.000000</td>\n",
              "      <td>10.000000</td>\n",
              "      <td>9.000000</td>\n",
              "      <td>2010.000000</td>\n",
              "      <td>2010.000000</td>\n",
              "      <td>1600.000000</td>\n",
              "      <td>5644.000000</td>\n",
              "      <td>1474.000000</td>\n",
              "      <td>...</td>\n",
              "      <td>857.000000</td>\n",
              "      <td>547.000000</td>\n",
              "      <td>552.000000</td>\n",
              "      <td>508.000000</td>\n",
              "      <td>480.000000</td>\n",
              "      <td>738.000000</td>\n",
              "      <td>15500.000000</td>\n",
              "      <td>12.000000</td>\n",
              "      <td>2010.000000</td>\n",
              "      <td>755000.000000</td>\n",
              "    </tr>\n",
              "  </tbody>\n",
              "</table>\n",
              "<p>8 rows × 37 columns</p>\n",
              "</div>\n",
              "      <button class=\"colab-df-convert\" onclick=\"convertToInteractive('df-e9ba0a20-7522-49af-a83b-a770dea9e4db')\"\n",
              "              title=\"Convert this dataframe to an interactive table.\"\n",
              "              style=\"display:none;\">\n",
              "        \n",
              "  <svg xmlns=\"http://www.w3.org/2000/svg\" height=\"24px\"viewBox=\"0 0 24 24\"\n",
              "       width=\"24px\">\n",
              "    <path d=\"M0 0h24v24H0V0z\" fill=\"none\"/>\n",
              "    <path d=\"M18.56 5.44l.94 2.06.94-2.06 2.06-.94-2.06-.94-.94-2.06-.94 2.06-2.06.94zm-11 1L8.5 8.5l.94-2.06 2.06-.94-2.06-.94L8.5 2.5l-.94 2.06-2.06.94zm10 10l.94 2.06.94-2.06 2.06-.94-2.06-.94-.94-2.06-.94 2.06-2.06.94z\"/><path d=\"M17.41 7.96l-1.37-1.37c-.4-.4-.92-.59-1.43-.59-.52 0-1.04.2-1.43.59L10.3 9.45l-7.72 7.72c-.78.78-.78 2.05 0 2.83L4 21.41c.39.39.9.59 1.41.59.51 0 1.02-.2 1.41-.59l7.78-7.78 2.81-2.81c.8-.78.8-2.07 0-2.86zM5.41 20L4 18.59l7.72-7.72 1.47 1.35L5.41 20z\"/>\n",
              "  </svg>\n",
              "      </button>\n",
              "      \n",
              "  <style>\n",
              "    .colab-df-container {\n",
              "      display:flex;\n",
              "      flex-wrap:wrap;\n",
              "      gap: 12px;\n",
              "    }\n",
              "\n",
              "    .colab-df-convert {\n",
              "      background-color: #E8F0FE;\n",
              "      border: none;\n",
              "      border-radius: 50%;\n",
              "      cursor: pointer;\n",
              "      display: none;\n",
              "      fill: #1967D2;\n",
              "      height: 32px;\n",
              "      padding: 0 0 0 0;\n",
              "      width: 32px;\n",
              "    }\n",
              "\n",
              "    .colab-df-convert:hover {\n",
              "      background-color: #E2EBFA;\n",
              "      box-shadow: 0px 1px 2px rgba(60, 64, 67, 0.3), 0px 1px 3px 1px rgba(60, 64, 67, 0.15);\n",
              "      fill: #174EA6;\n",
              "    }\n",
              "\n",
              "    [theme=dark] .colab-df-convert {\n",
              "      background-color: #3B4455;\n",
              "      fill: #D2E3FC;\n",
              "    }\n",
              "\n",
              "    [theme=dark] .colab-df-convert:hover {\n",
              "      background-color: #434B5C;\n",
              "      box-shadow: 0px 1px 3px 1px rgba(0, 0, 0, 0.15);\n",
              "      filter: drop-shadow(0px 1px 2px rgba(0, 0, 0, 0.3));\n",
              "      fill: #FFFFFF;\n",
              "    }\n",
              "  </style>\n",
              "\n",
              "      <script>\n",
              "        const buttonEl =\n",
              "          document.querySelector('#df-e9ba0a20-7522-49af-a83b-a770dea9e4db button.colab-df-convert');\n",
              "        buttonEl.style.display =\n",
              "          google.colab.kernel.accessAllowed ? 'block' : 'none';\n",
              "\n",
              "        async function convertToInteractive(key) {\n",
              "          const element = document.querySelector('#df-e9ba0a20-7522-49af-a83b-a770dea9e4db');\n",
              "          const dataTable =\n",
              "            await google.colab.kernel.invokeFunction('convertToInteractive',\n",
              "                                                     [key], {});\n",
              "          if (!dataTable) return;\n",
              "\n",
              "          const docLinkHtml = 'Like what you see? Visit the ' +\n",
              "            '<a target=\"_blank\" href=https://colab.research.google.com/notebooks/data_table.ipynb>data table notebook</a>'\n",
              "            + ' to learn more about interactive tables.';\n",
              "          element.innerHTML = '';\n",
              "          dataTable['output_type'] = 'display_data';\n",
              "          await google.colab.output.renderOutput(dataTable, element);\n",
              "          const docLink = document.createElement('div');\n",
              "          docLink.innerHTML = docLinkHtml;\n",
              "          element.appendChild(docLink);\n",
              "        }\n",
              "      </script>\n",
              "    </div>\n",
              "  </div>\n",
              "  "
            ]
          },
          "metadata": {},
          "execution_count": 5
        }
      ]
    },
    {
      "cell_type": "code",
      "source": [
        "df.columns"
      ],
      "metadata": {
        "id": "85RnKdLsBQmY",
        "outputId": "2e0a56c8-55f3-41f9-cc46-ce7d1c2dbb70",
        "colab": {
          "base_uri": "https://localhost:8080/"
        }
      },
      "execution_count": 6,
      "outputs": [
        {
          "output_type": "execute_result",
          "data": {
            "text/plain": [
              "Index(['MSSubClass', 'MSZoning', 'LotFrontage', 'LotArea', 'Street', 'Alley',\n",
              "       'LotShape', 'LandContour', 'Utilities', 'LotConfig', 'LandSlope',\n",
              "       'Neighborhood', 'Condition1', 'Condition2', 'BldgType', 'HouseStyle',\n",
              "       'OverallQual', 'OverallCond', 'YearBuilt', 'YearRemodAdd', 'RoofStyle',\n",
              "       'RoofMatl', 'Exterior1st', 'Exterior2nd', 'MasVnrType', 'MasVnrArea',\n",
              "       'ExterQual', 'ExterCond', 'Foundation', 'BsmtQual', 'BsmtCond',\n",
              "       'BsmtExposure', 'BsmtFinType1', 'BsmtFinSF1', 'BsmtFinType2',\n",
              "       'BsmtFinSF2', 'BsmtUnfSF', 'TotalBsmtSF', 'Heating', 'HeatingQC',\n",
              "       'CentralAir', 'Electrical', '1stFlrSF', '2ndFlrSF', 'LowQualFinSF',\n",
              "       'GrLivArea', 'BsmtFullBath', 'BsmtHalfBath', 'FullBath', 'HalfBath',\n",
              "       'BedroomAbvGr', 'KitchenAbvGr', 'KitchenQual', 'TotRmsAbvGrd',\n",
              "       'Functional', 'Fireplaces', 'FireplaceQu', 'GarageType', 'GarageYrBlt',\n",
              "       'GarageFinish', 'GarageCars', 'GarageArea', 'GarageQual', 'GarageCond',\n",
              "       'PavedDrive', 'WoodDeckSF', 'OpenPorchSF', 'EnclosedPorch', '3SsnPorch',\n",
              "       'ScreenPorch', 'PoolArea', 'PoolQC', 'Fence', 'MiscFeature', 'MiscVal',\n",
              "       'MoSold', 'YrSold', 'SaleType', 'SaleCondition', 'SalePrice'],\n",
              "      dtype='object')"
            ]
          },
          "metadata": {},
          "execution_count": 6
        }
      ]
    },
    {
      "cell_type": "code",
      "source": [
        "df['MSSubClass'] = LabelEncoder().fit_transform(df['MSSubClass'].astype('str'))\n",
        "df['MSZoning'] = LabelEncoder().fit_transform(df['MSZoning'].astype('str'))\n",
        "df.replace('LotFrontage', {\"NA\": 0})\n",
        "df['LotFrontage'] = StandardScaler().fit_transform(np.array(df['LotFrontage']).reshape(-1, 1));\n",
        "df['LotArea'] = StandardScaler().fit_transform(df['LotArea'].values.reshape(-1, 1))\n",
        "df['Street'] = LabelEncoder().fit_transform(df['Street'].astype('str'))\n",
        "df['Alley'] = LabelEncoder().fit_transform(df['Alley'].astype('str'))\n",
        "lotShapeDict = {\"Reg\": 1, \"IR1\": 2, \"IR2\": 3, \"IR3\": 4}\n",
        "df.replace('LotShape', lotShapeDict)\n",
        "df['LandContour'] = LabelEncoder().fit_transform(df['LandContour'].astype('str'))\n",
        "df['LotConfig'] = LabelEncoder().fit_transform(df['LotConfig'].astype('str'))\n",
        "df['LandSlope'] = LabelEncoder().fit_transform(df['LandContour'].astype('str'))\n",
        "df['Neighborhood'] = LabelEncoder().fit_transform(df['Neighborhood'].astype('str'))\n",
        "conditionDict = {\"Artery\": 1, \"Feedr\": 2, \"Norm\": 3,\t\"RRNn\": 4, \"RRAn\": 5, \"PosN\": 6, \"PosA\": 7, \"RRNe\": 8, \"RRAe\": 9}\n",
        "df.replace('Condition1', conditionDict)\n",
        "df.replace('Condition2', conditionDict)\n",
        "utilitiesDict = {\"AllPub\": 3, \"NoSewr\": 2, \"NoSeWa\": 1, \"ELO\": 0}\n",
        "df.replace('Utilities', utilitiesDict);\n",
        "df['BldgType'] = LabelEncoder().fit_transform(df['BldgType'].astype('str'))\n",
        "df['HouseStyle'] = LabelEncoder().fit_transform(df['HouseStyle'].astype('str'))\n",
        "\n",
        "# YearBuilt, YearRemodAdd, OverallCond, OverallQual: TBD"
      ],
      "metadata": {
        "id": "kx1zy6vcZ8YZ"
      },
      "execution_count": 7,
      "outputs": []
    },
    {
      "cell_type": "code",
      "source": [
        "print(df['GarageCars'].isna().sum())"
      ],
      "metadata": {
        "id": "IRr-iLFR9UFB",
        "outputId": "61b5bf44-9cab-46cf-93db-c35f837d6a53",
        "colab": {
          "base_uri": "https://localhost:8080/"
        }
      },
      "execution_count": 8,
      "outputs": [
        {
          "output_type": "stream",
          "name": "stdout",
          "text": [
            "0\n"
          ]
        }
      ]
    },
    {
      "cell_type": "code",
      "source": [
        "print(df['GarageArea'].isna().sum())\n",
        "df['GarageArea'] = StandardScaler().fit_transform(df['GarageArea'].values.reshape(-1,1))"
      ],
      "metadata": {
        "id": "KzbxDrm-BPYo",
        "colab": {
          "base_uri": "https://localhost:8080/"
        },
        "outputId": "1f32b8a7-3cad-400b-9542-ccd1b7a64dd9"
      },
      "execution_count": 9,
      "outputs": [
        {
          "output_type": "stream",
          "name": "stdout",
          "text": [
            "0\n"
          ]
        }
      ]
    },
    {
      "cell_type": "code",
      "source": [
        "print(df['GarageQual'].isna().sum())\n",
        "unq_vals = df['GarageQual'].unique().astype('str')\n",
        "df['GarageQual'] = df['GarageQual'].replace({'Ex': 5, 'Gd': 4, 'TA': 3, 'Fa': 2, 'Po': 1, np.nan: 0})"
      ],
      "metadata": {
        "id": "MBe2U8VhBdj4",
        "colab": {
          "base_uri": "https://localhost:8080/"
        },
        "outputId": "9d9b21d2-09f0-4ad8-9f46-197353426887"
      },
      "execution_count": 10,
      "outputs": [
        {
          "output_type": "stream",
          "name": "stdout",
          "text": [
            "81\n"
          ]
        }
      ]
    },
    {
      "cell_type": "code",
      "source": [
        "print(df['GarageCond'].isna().sum())\n",
        "print(df['GarageCond'].unique())\n",
        "df['GarageCond'] = df['GarageCond'].replace({'Ex': 5, 'Gd': 4, 'TA': 3, 'Fa': 2, 'Po': 1, np.nan: 0})"
      ],
      "metadata": {
        "id": "jWUDkNHSBgaf",
        "colab": {
          "base_uri": "https://localhost:8080/"
        },
        "outputId": "0fe73d20-85de-4321-a681-66e9620755e6"
      },
      "execution_count": 11,
      "outputs": [
        {
          "output_type": "stream",
          "name": "stdout",
          "text": [
            "81\n",
            "['TA' 'Fa' nan 'Gd' 'Po' 'Ex']\n"
          ]
        }
      ]
    },
    {
      "cell_type": "code",
      "source": [
        "print(df['PavedDrive'].isna().sum())\n",
        "df['PavedDrive'] = LabelEncoder().fit_transform(df['PavedDrive'])"
      ],
      "metadata": {
        "id": "YLACErHrBjCA",
        "colab": {
          "base_uri": "https://localhost:8080/"
        },
        "outputId": "e566b03a-d172-485a-f21a-aa8b670cc947"
      },
      "execution_count": 12,
      "outputs": [
        {
          "output_type": "stream",
          "name": "stdout",
          "text": [
            "0\n"
          ]
        }
      ]
    },
    {
      "cell_type": "code",
      "source": [
        "print(df['WoodDeckSF'].isna().sum())\n",
        "df['WoodDeckSF'] = StandardScaler().fit_transform(df['WoodDeckSF'].values.reshape(-1,1))"
      ],
      "metadata": {
        "id": "kEDmYQCGCOOq",
        "colab": {
          "base_uri": "https://localhost:8080/"
        },
        "outputId": "0c7d393d-6676-41d7-a610-72c38f42cfb8"
      },
      "execution_count": 13,
      "outputs": [
        {
          "output_type": "stream",
          "name": "stdout",
          "text": [
            "0\n"
          ]
        }
      ]
    },
    {
      "cell_type": "code",
      "source": [
        "print(df['OpenPorchSF'].isna().sum())\n",
        "df['OpenPorchSF'] = StandardScaler().fit_transform(df['OpenPorchSF'].values.reshape(-1,1))"
      ],
      "metadata": {
        "id": "7dlHZeg2COlX",
        "colab": {
          "base_uri": "https://localhost:8080/"
        },
        "outputId": "4c4b08f6-e794-453d-9eda-227abe6b5bd3"
      },
      "execution_count": 14,
      "outputs": [
        {
          "output_type": "stream",
          "name": "stdout",
          "text": [
            "0\n"
          ]
        }
      ]
    },
    {
      "cell_type": "code",
      "source": [
        "print(df['EnclosedPorch'].isna().sum())\n",
        "df['EnclosedPorch'] = StandardScaler().fit_transform(df['EnclosedPorch'].values.reshape(-1,1))"
      ],
      "metadata": {
        "id": "BLhs4CNiCO8y",
        "colab": {
          "base_uri": "https://localhost:8080/"
        },
        "outputId": "391299d3-325d-4357-8936-54f42419482f"
      },
      "execution_count": 15,
      "outputs": [
        {
          "output_type": "stream",
          "name": "stdout",
          "text": [
            "0\n"
          ]
        }
      ]
    },
    {
      "cell_type": "code",
      "source": [
        "print(df['3SsnPorch'].isna().sum())\n",
        "df['3SsnPorch'] = StandardScaler().fit_transform(df['3SsnPorch'].values.reshape(-1,1))"
      ],
      "metadata": {
        "id": "2DyB0Qu0CPG-",
        "colab": {
          "base_uri": "https://localhost:8080/"
        },
        "outputId": "eb674519-d2ee-4715-8157-6368c69c7e8e"
      },
      "execution_count": 16,
      "outputs": [
        {
          "output_type": "stream",
          "name": "stdout",
          "text": [
            "0\n"
          ]
        }
      ]
    },
    {
      "cell_type": "code",
      "source": [
        "print(df['ScreenPorch'].isna().sum())\n",
        "df['ScreenPorch'] = StandardScaler().fit_transform(df['ScreenPorch'].values.reshape(-1,1))"
      ],
      "metadata": {
        "id": "hCS43Au5CPQm",
        "colab": {
          "base_uri": "https://localhost:8080/"
        },
        "outputId": "9db9a195-6776-47ea-ebad-9a42f0f8d9a8"
      },
      "execution_count": 17,
      "outputs": [
        {
          "output_type": "stream",
          "name": "stdout",
          "text": [
            "0\n"
          ]
        }
      ]
    },
    {
      "cell_type": "code",
      "source": [
        "print(df['PoolArea'].isna().sum())\n",
        "df['PoolArea'] = StandardScaler().fit_transform(df['PoolArea'].values.reshape(-1,1))"
      ],
      "metadata": {
        "id": "6DYbrDj7CPZP",
        "colab": {
          "base_uri": "https://localhost:8080/"
        },
        "outputId": "f766f84b-b64f-41f9-dfed-ffe4a5feb5bd"
      },
      "execution_count": 18,
      "outputs": [
        {
          "output_type": "stream",
          "name": "stdout",
          "text": [
            "0\n"
          ]
        }
      ]
    },
    {
      "cell_type": "code",
      "source": [
        "print(df['PoolQC'].isna().sum())\n",
        "print(df['PoolQC'].unique())\n",
        "df['PoolQC'] = df['PoolQC'].replace({'Ex': 4, 'Gd': 3, 'TA': 2, 'Fa': 1, np.nan: 0})"
      ],
      "metadata": {
        "id": "Z_LmK4imCQ8_",
        "colab": {
          "base_uri": "https://localhost:8080/"
        },
        "outputId": "b802379b-197a-43d2-fb52-26bfe060a6ca"
      },
      "execution_count": 19,
      "outputs": [
        {
          "output_type": "stream",
          "name": "stdout",
          "text": [
            "1453\n",
            "[nan 'Ex' 'Fa' 'Gd']\n"
          ]
        }
      ]
    },
    {
      "cell_type": "code",
      "source": [
        "print(df['Fence'].isna().sum())\n",
        "print(df['Fence'].unique())\n",
        "df['Fence'] = df['Fence'].replace({'GdPrv': 4, 'MnPrv': 3, 'GdWo': 2, 'MnWw': 1, np.nan: 0})"
      ],
      "metadata": {
        "id": "rcG7Q8H_CRFn",
        "colab": {
          "base_uri": "https://localhost:8080/"
        },
        "outputId": "81793790-ab1f-4331-cb36-90e6462f8fe6"
      },
      "execution_count": 20,
      "outputs": [
        {
          "output_type": "stream",
          "name": "stdout",
          "text": [
            "1179\n",
            "[nan 'MnPrv' 'GdWo' 'GdPrv' 'MnWw']\n"
          ]
        }
      ]
    },
    {
      "cell_type": "code",
      "source": [
        "print(df['MiscFeature'].isna().sum())\n",
        "print(df['Fence'].unique())\n",
        "df['Fence'] = df['Fence'].replace({'Elev': 5, 'Gar2': 4, 'Othr': 3, 'Shed': 2, 'TenC': 1, np.nan: 0})"
      ],
      "metadata": {
        "id": "U00ceqRiCRN_",
        "colab": {
          "base_uri": "https://localhost:8080/"
        },
        "outputId": "f471d1d5-1dc5-457a-8077-3e2b710d476f"
      },
      "execution_count": 21,
      "outputs": [
        {
          "output_type": "stream",
          "name": "stdout",
          "text": [
            "1406\n",
            "[0 3 2 4 1]\n"
          ]
        }
      ]
    },
    {
      "cell_type": "code",
      "source": [
        "print(df['MiscVal'].isna().sum())\n",
        "df['MiscVal'] = StandardScaler().fit_transform(df['MiscVal'].values.reshape(-1,1))"
      ],
      "metadata": {
        "id": "3BL272QHCRW4",
        "colab": {
          "base_uri": "https://localhost:8080/"
        },
        "outputId": "7ae100ad-9de0-4341-a6c7-922d501e4486"
      },
      "execution_count": 22,
      "outputs": [
        {
          "output_type": "stream",
          "name": "stdout",
          "text": [
            "0\n"
          ]
        }
      ]
    },
    {
      "cell_type": "code",
      "source": [
        "print(df['MoSold'].isna().sum())"
      ],
      "metadata": {
        "id": "ZSPoIN1DCRe3",
        "outputId": "f8524ad7-d55f-4525-a112-6023d74af022",
        "colab": {
          "base_uri": "https://localhost:8080/"
        }
      },
      "execution_count": 23,
      "outputs": [
        {
          "output_type": "stream",
          "name": "stdout",
          "text": [
            "0\n"
          ]
        }
      ]
    },
    {
      "cell_type": "code",
      "source": [
        "print(df['YrSold'].isna().sum())"
      ],
      "metadata": {
        "id": "9FwrVaNuCRm-",
        "outputId": "8d986100-ab54-4dcd-fd2d-817071e27b55",
        "colab": {
          "base_uri": "https://localhost:8080/"
        }
      },
      "execution_count": 24,
      "outputs": [
        {
          "output_type": "stream",
          "name": "stdout",
          "text": [
            "0\n"
          ]
        }
      ]
    },
    {
      "cell_type": "code",
      "source": [
        "print(df['SaleType'].isna().sum())\n",
        "df['SaleType'] = LabelEncoder().fit_transform(df['SaleType'])"
      ],
      "metadata": {
        "id": "a4ylxNwyCRvo",
        "colab": {
          "base_uri": "https://localhost:8080/"
        },
        "outputId": "e3d380a8-5945-4e00-a8ab-2132ed596905"
      },
      "execution_count": 25,
      "outputs": [
        {
          "output_type": "stream",
          "name": "stdout",
          "text": [
            "0\n"
          ]
        }
      ]
    },
    {
      "cell_type": "code",
      "source": [
        "print(df['SaleCondition'].isna().sum())\n",
        "df['SaleCondition'] = LabelEncoder().fit_transform(df['SaleCondition'])"
      ],
      "metadata": {
        "id": "jgXyURzoCR2w",
        "colab": {
          "base_uri": "https://localhost:8080/"
        },
        "outputId": "4451de66-217a-4a13-9572-4d6fb43e9a6f"
      },
      "execution_count": 26,
      "outputs": [
        {
          "output_type": "stream",
          "name": "stdout",
          "text": [
            "0\n"
          ]
        }
      ]
    },
    {
      "cell_type": "code",
      "source": [
        "print(df['SalePrice'].isna().sum())\n",
        "df['MiscVal'] = np.log(df['MiscVal'])"
      ],
      "metadata": {
        "id": "wj1fr4P4CsfK",
        "colab": {
          "base_uri": "https://localhost:8080/"
        },
        "outputId": "22c0627f-a9bf-46ec-9deb-aac35edb719c"
      },
      "execution_count": 27,
      "outputs": [
        {
          "output_type": "stream",
          "name": "stdout",
          "text": [
            "0\n"
          ]
        },
        {
          "output_type": "stream",
          "name": "stderr",
          "text": [
            "/usr/local/lib/python3.7/dist-packages/pandas/core/arraylike.py:364: RuntimeWarning: invalid value encountered in log\n",
            "  result = getattr(ufunc, method)(*inputs, **kwargs)\n"
          ]
        }
      ]
    },
    {
      "cell_type": "code",
      "source": [
        "# kolumny 21 - 40\n",
        "\n",
        "df20_40 = df.iloc[:,20:40]"
      ],
      "metadata": {
        "id": "4p7QQbYtpR7y"
      },
      "execution_count": 28,
      "outputs": []
    },
    {
      "cell_type": "code",
      "source": [
        "# 21 kolumna - RoofStyle\n",
        "\n",
        "col = df20_40['RoofStyle']\n",
        "print(f'Czy są NaNy: {col.isnull().values.any()}')\n",
        "\n",
        "np_col = np.array(col)\n",
        "print(f'Nazwy unikatowych wartości: {np.unique(np_col)}')\n",
        "\n",
        "# zamiana string na int, zaczynajac od 0 i idąc alfabetycznie\n",
        "new_names = {'Flat': 0,\n",
        "             'Gable': 1,\n",
        "             'Gambrel': 2,\n",
        "             'Hip': 3,\n",
        "             'Mansard': 4,\n",
        "             'Shed': 5}\n",
        "\n",
        "col_num = col.replace(new_names)\n",
        "print(f'Sposób zamiany kategorii {new_names}')\n",
        "\n",
        "df20_40['RoofStyle'] = col_num"
      ],
      "metadata": {
        "id": "_i_WDZdlpdPt",
        "outputId": "131583ab-2d7c-4e10-b104-3dce06a24e1a",
        "colab": {
          "base_uri": "https://localhost:8080/"
        }
      },
      "execution_count": 29,
      "outputs": [
        {
          "output_type": "stream",
          "name": "stdout",
          "text": [
            "Czy są NaNy: False\n",
            "Nazwy unikatowych wartości: ['Flat' 'Gable' 'Gambrel' 'Hip' 'Mansard' 'Shed']\n",
            "Sposób zamiany kategorii {'Flat': 0, 'Gable': 1, 'Gambrel': 2, 'Hip': 3, 'Mansard': 4, 'Shed': 5}\n"
          ]
        }
      ]
    },
    {
      "cell_type": "code",
      "source": [
        "# 22 kolumna - RoofMatl\n",
        "\n",
        "col = df20_40['RoofMatl']\n",
        "print(f'Czy są NaNy: {col.isnull().values.any()}')\n",
        "\n",
        "np_col = np.array(col)\n",
        "print(f'Nazwy unikatowych wartości: {np.unique(np_col)}')\n",
        "\n",
        "# zamiana string na int, zaczynajac od 0 i idąc alfabetycznie\n",
        "new_names = {'ClyTile': 0,\n",
        "             'CompShg': 1,\n",
        "             'Membran': 2,\n",
        "             'Metal': 3,\n",
        "             'Roll': 4,\n",
        "             'Tar&Grv': 5,\n",
        "             'WdShake': 6,\n",
        "             'WdShngl': 7}\n",
        "\n",
        "col_num = col.replace(new_names)\n",
        "print(f'Sposób zamiany kategorii {new_names}')\n",
        "\n",
        "df20_40['RoofMatl'] = col_num"
      ],
      "metadata": {
        "id": "1N1RbFrtpfzt",
        "outputId": "187438f6-84f0-4269-99b6-14eb347a74a4",
        "colab": {
          "base_uri": "https://localhost:8080/"
        }
      },
      "execution_count": 30,
      "outputs": [
        {
          "output_type": "stream",
          "name": "stdout",
          "text": [
            "Czy są NaNy: False\n",
            "Nazwy unikatowych wartości: ['ClyTile' 'CompShg' 'Membran' 'Metal' 'Roll' 'Tar&Grv' 'WdShake'\n",
            " 'WdShngl']\n",
            "Sposób zamiany kategorii {'ClyTile': 0, 'CompShg': 1, 'Membran': 2, 'Metal': 3, 'Roll': 4, 'Tar&Grv': 5, 'WdShake': 6, 'WdShngl': 7}\n"
          ]
        }
      ]
    },
    {
      "cell_type": "code",
      "source": [
        "# 23 kolumna - Exterior1st\n",
        "\n",
        "\n",
        "col = df20_40['Exterior1st']\n",
        "print(f'Czy są NaNy: {col.isnull().values.any()}')\n",
        "\n",
        "np_col = np.array(col)\n",
        "print(f'Nazwy unikatowych wartości: {np.unique(np_col)}')\n",
        "\n",
        "# zamiana string na int\n",
        "col_num = LabelEncoder().fit_transform(col.astype('str'))\n",
        "\n",
        "df20_40['Exterior1st'] = col_num"
      ],
      "metadata": {
        "id": "egbOjXgsph9z",
        "outputId": "54d88739-ce4a-4c8d-cc1b-421634512970",
        "colab": {
          "base_uri": "https://localhost:8080/"
        }
      },
      "execution_count": 31,
      "outputs": [
        {
          "output_type": "stream",
          "name": "stdout",
          "text": [
            "Czy są NaNy: False\n",
            "Nazwy unikatowych wartości: ['AsbShng' 'AsphShn' 'BrkComm' 'BrkFace' 'CBlock' 'CemntBd' 'HdBoard'\n",
            " 'ImStucc' 'MetalSd' 'Plywood' 'Stone' 'Stucco' 'VinylSd' 'Wd Sdng'\n",
            " 'WdShing']\n"
          ]
        }
      ]
    },
    {
      "cell_type": "code",
      "source": [
        "# 24 kolumna - Exterior2nd\n",
        "\n",
        "col = df20_40['Exterior2nd']\n",
        "print(f'Czy są NaNy: {col.isnull().values.any()}')\n",
        "\n",
        "np_col = np.array(col)\n",
        "print(f'Nazwy unikatowych wartości: {np.unique(np_col)}')\n",
        "\n",
        "# zamiana string na int\n",
        "col_num = LabelEncoder().fit_transform(col.astype('str'))\n",
        "\n",
        "df20_40['Exterior2nd'] = col_num"
      ],
      "metadata": {
        "id": "UgMUPMGJph7g",
        "outputId": "e926ced7-055a-4c6a-b02b-6df5bc57ed33",
        "colab": {
          "base_uri": "https://localhost:8080/"
        }
      },
      "execution_count": 32,
      "outputs": [
        {
          "output_type": "stream",
          "name": "stdout",
          "text": [
            "Czy są NaNy: False\n",
            "Nazwy unikatowych wartości: ['AsbShng' 'AsphShn' 'Brk Cmn' 'BrkFace' 'CBlock' 'CmentBd' 'HdBoard'\n",
            " 'ImStucc' 'MetalSd' 'Other' 'Plywood' 'Stone' 'Stucco' 'VinylSd'\n",
            " 'Wd Sdng' 'Wd Shng']\n"
          ]
        }
      ]
    },
    {
      "cell_type": "code",
      "source": [
        "# 25 kolumna - MasVnrType: Masonry veneer type\n",
        "\n",
        "col = df20_40['MasVnrType']\n",
        "print(f'Czy są NaNy: {col.isnull().values.any()}')\n",
        "if col.isnull().values.any():\n",
        "  col = col.fillna('-1')\n",
        "\n",
        "np_col = np.array(col)\n",
        "print(f'Nazwy unikatowych wartości: {np.unique(np_col)}')\n",
        "\n",
        "# zamiana string na int\n",
        "col_names = {'-1': -1,\n",
        "             'BrkCmn': 0,\n",
        "             'BrkFace': 1,\n",
        "             'CBlock': 2,\n",
        "             'None': 3,\n",
        "             'Stone': 4}\n",
        "\n",
        "col_num = col.replace(col_names)\n",
        "\n",
        "df20_40['MasVnrType'] = col_num"
      ],
      "metadata": {
        "id": "8VsPV7u6ph5M",
        "outputId": "f66d5654-7c98-45ed-f46d-014b157d5f3d",
        "colab": {
          "base_uri": "https://localhost:8080/"
        }
      },
      "execution_count": 33,
      "outputs": [
        {
          "output_type": "stream",
          "name": "stdout",
          "text": [
            "Czy są NaNy: True\n",
            "Nazwy unikatowych wartości: ['-1' 'BrkCmn' 'BrkFace' 'None' 'Stone']\n"
          ]
        }
      ]
    },
    {
      "cell_type": "code",
      "source": [
        "# 26 kolumna - MasVnrArea: Masonry veneer area in square feet\n",
        "\n",
        "col = df20_40['MasVnrArea']\n",
        "print(f'Czy są NaNy: {col.isnull().values.any()}')\n",
        "\n",
        "np_col = col.values\n",
        "np_col = StandardScaler().fit_transform(np_col.reshape([-1,1]))\n",
        "\n",
        "df20_40['MasVnrArea'] = np_col"
      ],
      "metadata": {
        "id": "oKZHLxuqph2s",
        "outputId": "1b8a3b24-68f8-4f7c-878a-d5cfa48a622b",
        "colab": {
          "base_uri": "https://localhost:8080/"
        }
      },
      "execution_count": 34,
      "outputs": [
        {
          "output_type": "stream",
          "name": "stdout",
          "text": [
            "Czy są NaNy: True\n"
          ]
        }
      ]
    },
    {
      "cell_type": "code",
      "source": [
        "# 27 kolumna - ExterQual\n",
        "\n",
        "col = df20_40['ExterQual']\n",
        "print(f'Czy są NaNy: {col.isnull().values.any()}')\n",
        "\n",
        "new_names = {'Po': 0,\n",
        "             'Fa': 1,\n",
        "             'TA': 2,\n",
        "             'Gd': 3,\n",
        "             'Ex': 4}\n",
        "\n",
        "col_num = col.replace(new_names)\n",
        "\n",
        "df20_40['ExterQual'] = col_num"
      ],
      "metadata": {
        "id": "3iJpI_r4ph0T",
        "outputId": "0191496a-37b9-4ecc-8a40-bdc2d4efea75",
        "colab": {
          "base_uri": "https://localhost:8080/"
        }
      },
      "execution_count": 35,
      "outputs": [
        {
          "output_type": "stream",
          "name": "stdout",
          "text": [
            "Czy są NaNy: False\n"
          ]
        }
      ]
    },
    {
      "cell_type": "code",
      "source": [
        "# 28 kolumna - ExterCond\n",
        "\n",
        "col = df20_40['ExterCond']\n",
        "print(f'Czy są NaNy: {col.isnull().values.any()}')\n",
        "\n",
        "new_names = {'Po': 0,\n",
        "             'Fa': 1,\n",
        "             'TA': 2,\n",
        "             'Gd': 3,\n",
        "             'Ex': 4}\n",
        "\n",
        "col_num = col.replace(new_names)\n",
        "\n",
        "df20_40['ExterCond'] = col_num"
      ],
      "metadata": {
        "id": "oQh7QRzvphx7",
        "outputId": "f0285135-052c-4225-f7da-8da897cf19c4",
        "colab": {
          "base_uri": "https://localhost:8080/"
        }
      },
      "execution_count": 36,
      "outputs": [
        {
          "output_type": "stream",
          "name": "stdout",
          "text": [
            "Czy są NaNy: False\n"
          ]
        }
      ]
    },
    {
      "cell_type": "code",
      "source": [
        "# 29 kolumna - Foundation\n",
        "\n",
        "col = df20_40['Foundation']\n",
        "print(f'Czy są NaNy: {col.isnull().values.any()}')\n",
        "\n",
        "col_num = LabelEncoder().fit_transform(col.astype('str'))\n",
        "\n",
        "\n",
        "df20_40['Foundation'] = col_num"
      ],
      "metadata": {
        "id": "ZSt0OmT5phva",
        "outputId": "f1ea7473-252c-49a4-b77a-4fc092bbd214",
        "colab": {
          "base_uri": "https://localhost:8080/"
        }
      },
      "execution_count": 37,
      "outputs": [
        {
          "output_type": "stream",
          "name": "stdout",
          "text": [
            "Czy są NaNy: False\n"
          ]
        }
      ]
    },
    {
      "cell_type": "code",
      "source": [
        "# 30 kolumna - BsmtQual: Evaluates the height of the basement\n",
        "# zakladam ze null to brak piwnicy\n",
        "\n",
        "col = df20_40['BsmtQual']\n",
        "print(f'Czy są NaNy: {col.isnull().values.any()}')\n",
        "col = col.fillna('NA')\n",
        "\n",
        "new_names = {'NA': 0,\n",
        "             'Po': 1,\n",
        "             'Fa': 2,\n",
        "             'TA': 3,\n",
        "             'Gd': 4,\n",
        "             'Ex': 5}\n",
        "\n",
        "col_num = col.replace(new_names)\n",
        "\n",
        "df20_40['BsmtQual'] = col_num"
      ],
      "metadata": {
        "id": "C9NffJ-NphtD",
        "outputId": "d0050242-a989-43e3-f039-e34062b5656a",
        "colab": {
          "base_uri": "https://localhost:8080/"
        }
      },
      "execution_count": 38,
      "outputs": [
        {
          "output_type": "stream",
          "name": "stdout",
          "text": [
            "Czy są NaNy: True\n"
          ]
        }
      ]
    },
    {
      "cell_type": "code",
      "source": [
        "# 31 kolumna - BsmtCond: Evaluates the general condition of the basement\n",
        "# zakladam ze null to brak piwnicy\n",
        "\n",
        "col = df20_40['BsmtCond']\n",
        "print(f'Czy są NaNy: {col.isnull().values.any()}')\n",
        "col = col.fillna('NA')\n",
        "\n",
        "new_names = {'NA': 0,\n",
        "             'Po': 1,\n",
        "             'Fa': 2,\n",
        "             'TA': 3,\n",
        "             'Gd': 4,\n",
        "             'Ex': 5}\n",
        "\n",
        "col_num = col.replace(new_names)\n",
        "\n",
        "df20_40['BsmtCond'] = col_num"
      ],
      "metadata": {
        "id": "ZT3dcTQPphqu",
        "outputId": "206841e7-e5da-4a98-ad6c-1900c7a80914",
        "colab": {
          "base_uri": "https://localhost:8080/"
        }
      },
      "execution_count": 39,
      "outputs": [
        {
          "output_type": "stream",
          "name": "stdout",
          "text": [
            "Czy są NaNy: True\n"
          ]
        }
      ]
    },
    {
      "cell_type": "code",
      "source": [
        "# 32 kolumna - BsmtExposure: Refers to walkout or garden level walls\n",
        "# zakladam ze null to brak piwnicy\n",
        "\n",
        "col = df20_40['BsmtExposure']\n",
        "print(f'Czy są NaNy: {col.isnull().values.any()}')\n",
        "col = col.fillna('NA')\n",
        "\n",
        "new_names = {'NA': 0,\n",
        "             'No': 1,\n",
        "             'Mn': 2,\n",
        "             'Av': 3,\n",
        "             'Gd': 4}\n",
        "\n",
        "col_num = col.replace(new_names)\n",
        "\n",
        "df20_40['BsmtExposure'] = col_num"
      ],
      "metadata": {
        "id": "neQFYWoYphoV",
        "outputId": "d0a99ab6-4278-4cf0-f418-50468e2c53fc",
        "colab": {
          "base_uri": "https://localhost:8080/"
        }
      },
      "execution_count": 40,
      "outputs": [
        {
          "output_type": "stream",
          "name": "stdout",
          "text": [
            "Czy są NaNy: True\n"
          ]
        }
      ]
    },
    {
      "cell_type": "code",
      "source": [
        "# 33 kolumna - BsmtFinType1: Rating of basement finished area\n",
        "\n",
        "col = df20_40['BsmtFinType1']\n",
        "print(f'Czy są NaNy: {col.isnull().values.any()}')\n",
        "col = col.fillna('NA')\n",
        "\n",
        "new_names = {'NA': 0,\n",
        "             'Unf': 1,\n",
        "             'LwQ': 2,\n",
        "             'Rec': 3,\n",
        "             'BLQ': 4,\n",
        "             'ALQ': 5,\n",
        "             'GLQ': 6}\n",
        "\n",
        "col_num = col.replace(new_names)\n",
        "\n",
        "df20_40['BsmtFinType1'] = col_num"
      ],
      "metadata": {
        "id": "oCNwfuX7phhk",
        "outputId": "1eeaaffd-2beb-49b7-a2ba-d2eb3ecd68b8",
        "colab": {
          "base_uri": "https://localhost:8080/"
        }
      },
      "execution_count": 41,
      "outputs": [
        {
          "output_type": "stream",
          "name": "stdout",
          "text": [
            "Czy są NaNy: True\n"
          ]
        }
      ]
    },
    {
      "cell_type": "code",
      "source": [
        "# 34 kolumna - BsmtFinSF1: Type 1 finished square feet\n",
        "\n",
        "col = df20_40['BsmtFinSF1']\n",
        "print(f'Czy są NaNy: {col.isnull().values.any()}')\n",
        "\n",
        "np_col = col.values\n",
        "np_col = StandardScaler().fit_transform(np_col.reshape([-1,1]))\n",
        "\n",
        "df20_40['BsmtFinSF1'] = np_col"
      ],
      "metadata": {
        "id": "R4WyQ9fhphar",
        "outputId": "73fccaa4-a88d-40cc-a939-351fa333aec4",
        "colab": {
          "base_uri": "https://localhost:8080/"
        }
      },
      "execution_count": 42,
      "outputs": [
        {
          "output_type": "stream",
          "name": "stdout",
          "text": [
            "Czy są NaNy: False\n"
          ]
        }
      ]
    },
    {
      "cell_type": "code",
      "source": [
        "# 35 kolumna - BsmtFinType2: Rating of basement finished area (if multiple types)\n",
        "\n",
        "\n",
        "col = df20_40['BsmtFinType2']\n",
        "print(f'Czy są NaNy: {col.isnull().values.any()}')\n",
        "col = col.fillna('NA')\n",
        "\n",
        "new_names = {'NA': 0,\n",
        "             'Unf': 1,\n",
        "             'LwQ': 2,\n",
        "             'Rec': 3,\n",
        "             'BLQ': 4,\n",
        "             'ALQ': 5,\n",
        "             'GLQ': 6}\n",
        "\n",
        "col_num = col.replace(new_names)\n",
        "\n",
        "df20_40['BsmtFinType2'] = col_num"
      ],
      "metadata": {
        "id": "W6S5zQINphSu",
        "outputId": "19e1399c-89db-4295-b494-2b9d14bff35a",
        "colab": {
          "base_uri": "https://localhost:8080/"
        }
      },
      "execution_count": 43,
      "outputs": [
        {
          "output_type": "stream",
          "name": "stdout",
          "text": [
            "Czy są NaNy: True\n"
          ]
        }
      ]
    },
    {
      "cell_type": "code",
      "source": [
        "# 36 kolumna - BsmtFinSF2: Type 2 finished square feet\n",
        "\n",
        "col = df20_40['BsmtFinSF2']\n",
        "print(f'Czy są NaNy: {col.isnull().values.any()}')\n",
        "\n",
        "np_col = col.values\n",
        "np_col = StandardScaler().fit_transform(np_col.reshape([-1,1]))\n",
        "\n",
        "df20_40['BsmtFinSF2'] = np_col"
      ],
      "metadata": {
        "id": "HsdvCGnIphJs",
        "outputId": "6a08171a-f587-4674-d3f1-0ae5021a7ff9",
        "colab": {
          "base_uri": "https://localhost:8080/"
        }
      },
      "execution_count": 44,
      "outputs": [
        {
          "output_type": "stream",
          "name": "stdout",
          "text": [
            "Czy są NaNy: False\n"
          ]
        }
      ]
    },
    {
      "cell_type": "code",
      "source": [
        "# 37 kolumna - BsmtUnfSF: Unfinished square feet of basement area\n",
        "\n",
        "col = df20_40['BsmtUnfSF']\n",
        "print(f'Czy są NaNy: {col.isnull().values.any()}')\n",
        "\n",
        "np_col = col.values\n",
        "np_col = StandardScaler().fit_transform(np_col.reshape([-1,1]))\n",
        "\n",
        "df20_40['BsmtUnfSF'] = np_col"
      ],
      "metadata": {
        "id": "gpzxyg2Zpg_6",
        "outputId": "e296382f-173e-474a-a71c-6c3881114c85",
        "colab": {
          "base_uri": "https://localhost:8080/"
        }
      },
      "execution_count": 45,
      "outputs": [
        {
          "output_type": "stream",
          "name": "stdout",
          "text": [
            "Czy są NaNy: False\n"
          ]
        }
      ]
    },
    {
      "cell_type": "code",
      "source": [
        "# 38 kolumna - TotalBsmtSF: Total square feet of basement area\n",
        "\n",
        "col = df20_40['TotalBsmtSF']\n",
        "print(f'Czy są NaNy: {col.isnull().values.any()}')\n",
        "\n",
        "np_col = col.values\n",
        "np_col = StandardScaler().fit_transform(np_col.reshape([-1,1]))\n",
        "\n",
        "df20_40['TotalBsmtSF'] = np_col"
      ],
      "metadata": {
        "id": "X6AlW0xRp4KE",
        "outputId": "16f7dd20-957f-41b2-94e1-24260decce54",
        "colab": {
          "base_uri": "https://localhost:8080/"
        }
      },
      "execution_count": 46,
      "outputs": [
        {
          "output_type": "stream",
          "name": "stdout",
          "text": [
            "Czy są NaNy: False\n"
          ]
        }
      ]
    },
    {
      "cell_type": "code",
      "source": [
        "# 39 kolumna - Heating: Type of heating\n",
        "\n",
        "col = df20_40['Heating']\n",
        "print(f'Czy są NaNy: {col.isnull().values.any()}')\n",
        "\n",
        "new_names = {'Wall': 0,\n",
        "             'Floor': 1,\n",
        "             'GasA': 2,\n",
        "             'GasW': 3,\n",
        "             'Grav': 4,\n",
        "             'OthW': 5,\n",
        "             'Wall': 6}\n",
        "\n",
        "col_num = col.replace(new_names)\n",
        "\n",
        "df20_40['Heating'] = col_num"
      ],
      "metadata": {
        "id": "A4Ba7EOLp34N",
        "outputId": "3707cde0-a546-473f-eab4-f01644f7a2ea",
        "colab": {
          "base_uri": "https://localhost:8080/"
        }
      },
      "execution_count": 47,
      "outputs": [
        {
          "output_type": "stream",
          "name": "stdout",
          "text": [
            "Czy są NaNy: False\n"
          ]
        }
      ]
    },
    {
      "cell_type": "code",
      "source": [
        "# 40 kolumna - HeatingQC: Heating quality and condition\n",
        "\n",
        "col = df20_40['HeatingQC']\n",
        "print(f'Czy są NaNy: {col.isnull().values.any()}')\n",
        "\n",
        "new_names = {'Po': 0,\n",
        "             'Fa': 1,\n",
        "             'TA': 2,\n",
        "             'Gd': 3,\n",
        "             'Ex': 4}\n",
        "\n",
        "col_num = col.replace(new_names)\n",
        "\n",
        "df20_40['HeatingQC'] = col_num"
      ],
      "metadata": {
        "id": "VFEU9iVbpgWg",
        "outputId": "148f3245-ad61-459f-befa-91ff815554da",
        "colab": {
          "base_uri": "https://localhost:8080/"
        }
      },
      "execution_count": 48,
      "outputs": [
        {
          "output_type": "stream",
          "name": "stdout",
          "text": [
            "Czy są NaNy: False\n"
          ]
        }
      ]
    },
    {
      "cell_type": "code",
      "source": [
        "df.iloc[:,20:40] = df20_40"
      ],
      "metadata": {
        "id": "UqKyj2BisaVF"
      },
      "execution_count": 49,
      "outputs": []
    },
    {
      "cell_type": "code",
      "source": [
        "# kolumny 41-60\n",
        "df2 = df.iloc[:,40:59]\n",
        "\n",
        "df2['CentralAir'] = LabelEncoder().fit_transform(df['CentralAir'].astype('str'))\n",
        "\n",
        "df2['Electrical'] = LabelEncoder().fit_transform(df['Electrical'].astype('str'))\n",
        "\n",
        "c3 = df[\"1stFlrSF\"].values \n",
        "df2[\"1stFlrSF\"] = StandardScaler().fit_transform(c3.reshape(-1,1)) \n",
        "\n",
        "c4 = df[\"2ndFlrSF\"].values     \n",
        "df2[\"2ndFlrSF\"] = StandardScaler().fit_transform(c4.reshape(-1,1)) \n",
        "\n",
        "c5 = df[\"LowQualFinSF\"].values      \n",
        "df2[\"LowQualFinSF\"] = StandardScaler().fit_transform(c5.reshape(-1,1)) \n",
        "\n",
        "c6 = df[\"GrLivArea\"].values   \n",
        "df2[\"GrLivArea\"] = StandardScaler().fit_transform(c6.reshape(-1,1)) \n",
        "\n",
        "# BsmtFullBath, BsmtHalfBath, FullBath, HalfBath, BedroomAbvGr, KitchenAbvGr, TotRmsAbvGrd, Fireplaces - z tymi nic nie robiłam, bo mają tylko po kilka wartości\n",
        "\n",
        "c11 = df[\"KitchenQual\"]\n",
        "new_names = {\n",
        "    'Po' : 0,\n",
        "    'Fa' : 1,\n",
        "    'TA' : 2,\n",
        "    'Gd' : 3,\n",
        "    'Ex' : 4\n",
        "}\n",
        "df2[\"KitchenQual\"] = c11.replace(new_names)\n",
        "\n",
        "c13 = df[\"Functional\"]\n",
        "new_names1 = {\n",
        "    'Sal' : 0,\n",
        "    'Sev' : 1,\n",
        "    'Maj2' : 2,\n",
        "    'Maj1' : 3,\n",
        "    'Mod' : 4,\n",
        "    'Min2' : 5,\n",
        "    'Min1' : 6,\n",
        "    'Typ' : 7\n",
        "}\n",
        "df2[\"Functional\"] = c13.replace(new_names1)\n",
        "\n",
        "c15 = df[\"FireplaceQu\"]\n",
        "c15 = c15.fillna(0)\n",
        "new_names2 = {\n",
        "    'NA' : 0,\n",
        "    'NaN' : 0,\n",
        "    'Po' : 1,\n",
        "    'Fa' : 2,\n",
        "    'TA' : 3,\n",
        "    'Gd' : 4,\n",
        "    'Ex' : 5\n",
        "}\n",
        "df2[\"FireplaceQu\"] = c15.replace(new_names2)\n",
        "\n",
        "c16 = df[\"GarageType\"]\n",
        "new_names3 = {\n",
        "    'NA' : 0,\n",
        "    'NaN' : 0,\n",
        "    '' : 0,\n",
        "    'Detchd' : 1,\n",
        "    'CarPort' : 2,\n",
        "    'BuiltIn' : 3,\n",
        "    'Basment' : 4,\n",
        "    'Attchd' : 5,\n",
        "    '2Types' : 6\n",
        "}\n",
        "df2[\"GarageType\"] = c16.replace(new_names3)\n",
        "\n",
        "#GarageYrBlt - lata (1900 - 2010), tez nic nie zrobiłam\n",
        "\n",
        "c18 = df[\"GarageFinish\"]\n",
        "new_names4 = {\n",
        "    'NA' : 0,\n",
        "    'Unf' : 1,\n",
        "    'RFn' : 2,\n",
        "    'Fin' : 3\n",
        "}\n",
        "df2[\"GarageFinish\"] = c18.replace(new_names4)\n",
        "\n",
        " "
      ],
      "metadata": {
        "id": "WrHy5Nr8hFMH"
      },
      "execution_count": 50,
      "outputs": []
    },
    {
      "cell_type": "code",
      "source": [
        "df.iloc[:, 40:59] = df2\n",
        "\n",
        "df"
      ],
      "metadata": {
        "colab": {
          "base_uri": "https://localhost:8080/",
          "height": 423
        },
        "id": "kFLVlY1J4pCY",
        "outputId": "cb43c79a-3dfd-4553-d12a-7a65f59af3e6"
      },
      "execution_count": 51,
      "outputs": [
        {
          "output_type": "execute_result",
          "data": {
            "text/plain": [
              "      MSSubClass  MSZoning  LotFrontage   LotArea  Street  Alley LotShape  \\\n",
              "0              9         3    -0.208034 -0.207142       1      2      Reg   \n",
              "1              4         3     0.409895 -0.091886       1      2      Reg   \n",
              "2              9         3    -0.084449  0.073480       1      2      IR1   \n",
              "3             10         3    -0.414011 -0.096897       1      2      IR1   \n",
              "4              9         3     0.574676  0.375148       1      2      IR1   \n",
              "...          ...       ...          ...       ...     ...    ...      ...   \n",
              "1455           9         3    -0.331620 -0.260560       1      2      Reg   \n",
              "1456           4         3     0.615871  0.266407       1      2      Reg   \n",
              "1457          10         3    -0.166839 -0.147810       1      2      Reg   \n",
              "1458           4         3    -0.084449 -0.080160       1      2      Reg   \n",
              "1459           4         3     0.203918 -0.058112       1      2      Reg   \n",
              "\n",
              "      LandContour Utilities  LotConfig  ...  PoolArea  PoolQC Fence  \\\n",
              "0               3    AllPub          4  ... -0.068692       0     0   \n",
              "1               3    AllPub          2  ... -0.068692       0     0   \n",
              "2               3    AllPub          4  ... -0.068692       0     0   \n",
              "3               3    AllPub          0  ... -0.068692       0     0   \n",
              "4               3    AllPub          2  ... -0.068692       0     0   \n",
              "...           ...       ...        ...  ...       ...     ...   ...   \n",
              "1455            3    AllPub          4  ... -0.068692       0     0   \n",
              "1456            3    AllPub          4  ... -0.068692       0     3   \n",
              "1457            3    AllPub          4  ... -0.068692       0     4   \n",
              "1458            3    AllPub          4  ... -0.068692       0     0   \n",
              "1459            3    AllPub          4  ... -0.068692       0     0   \n",
              "\n",
              "     MiscFeature   MiscVal  MoSold  YrSold  SaleType  SaleCondition  SalePrice  \n",
              "0            NaN       NaN       2    2008         8              4     208500  \n",
              "1            NaN       NaN       5    2007         8              4     181500  \n",
              "2            NaN       NaN       9    2008         8              4     223500  \n",
              "3            NaN       NaN       2    2006         8              0     140000  \n",
              "4            NaN       NaN      12    2008         8              4     250000  \n",
              "...          ...       ...     ...     ...       ...            ...        ...  \n",
              "1455         NaN       NaN       8    2007         8              4     175000  \n",
              "1456         NaN       NaN       2    2010         8              4     210000  \n",
              "1457        Shed  1.600016       5    2010         8              4     266500  \n",
              "1458         NaN       NaN       4    2010         8              4     142125  \n",
              "1459         NaN       NaN       6    2008         8              4     147500  \n",
              "\n",
              "[1460 rows x 80 columns]"
            ],
            "text/html": [
              "\n",
              "  <div id=\"df-8c31fdd5-62e7-4c6b-9faf-0b712d4ee7a0\">\n",
              "    <div class=\"colab-df-container\">\n",
              "      <div>\n",
              "<style scoped>\n",
              "    .dataframe tbody tr th:only-of-type {\n",
              "        vertical-align: middle;\n",
              "    }\n",
              "\n",
              "    .dataframe tbody tr th {\n",
              "        vertical-align: top;\n",
              "    }\n",
              "\n",
              "    .dataframe thead th {\n",
              "        text-align: right;\n",
              "    }\n",
              "</style>\n",
              "<table border=\"1\" class=\"dataframe\">\n",
              "  <thead>\n",
              "    <tr style=\"text-align: right;\">\n",
              "      <th></th>\n",
              "      <th>MSSubClass</th>\n",
              "      <th>MSZoning</th>\n",
              "      <th>LotFrontage</th>\n",
              "      <th>LotArea</th>\n",
              "      <th>Street</th>\n",
              "      <th>Alley</th>\n",
              "      <th>LotShape</th>\n",
              "      <th>LandContour</th>\n",
              "      <th>Utilities</th>\n",
              "      <th>LotConfig</th>\n",
              "      <th>...</th>\n",
              "      <th>PoolArea</th>\n",
              "      <th>PoolQC</th>\n",
              "      <th>Fence</th>\n",
              "      <th>MiscFeature</th>\n",
              "      <th>MiscVal</th>\n",
              "      <th>MoSold</th>\n",
              "      <th>YrSold</th>\n",
              "      <th>SaleType</th>\n",
              "      <th>SaleCondition</th>\n",
              "      <th>SalePrice</th>\n",
              "    </tr>\n",
              "  </thead>\n",
              "  <tbody>\n",
              "    <tr>\n",
              "      <th>0</th>\n",
              "      <td>9</td>\n",
              "      <td>3</td>\n",
              "      <td>-0.208034</td>\n",
              "      <td>-0.207142</td>\n",
              "      <td>1</td>\n",
              "      <td>2</td>\n",
              "      <td>Reg</td>\n",
              "      <td>3</td>\n",
              "      <td>AllPub</td>\n",
              "      <td>4</td>\n",
              "      <td>...</td>\n",
              "      <td>-0.068692</td>\n",
              "      <td>0</td>\n",
              "      <td>0</td>\n",
              "      <td>NaN</td>\n",
              "      <td>NaN</td>\n",
              "      <td>2</td>\n",
              "      <td>2008</td>\n",
              "      <td>8</td>\n",
              "      <td>4</td>\n",
              "      <td>208500</td>\n",
              "    </tr>\n",
              "    <tr>\n",
              "      <th>1</th>\n",
              "      <td>4</td>\n",
              "      <td>3</td>\n",
              "      <td>0.409895</td>\n",
              "      <td>-0.091886</td>\n",
              "      <td>1</td>\n",
              "      <td>2</td>\n",
              "      <td>Reg</td>\n",
              "      <td>3</td>\n",
              "      <td>AllPub</td>\n",
              "      <td>2</td>\n",
              "      <td>...</td>\n",
              "      <td>-0.068692</td>\n",
              "      <td>0</td>\n",
              "      <td>0</td>\n",
              "      <td>NaN</td>\n",
              "      <td>NaN</td>\n",
              "      <td>5</td>\n",
              "      <td>2007</td>\n",
              "      <td>8</td>\n",
              "      <td>4</td>\n",
              "      <td>181500</td>\n",
              "    </tr>\n",
              "    <tr>\n",
              "      <th>2</th>\n",
              "      <td>9</td>\n",
              "      <td>3</td>\n",
              "      <td>-0.084449</td>\n",
              "      <td>0.073480</td>\n",
              "      <td>1</td>\n",
              "      <td>2</td>\n",
              "      <td>IR1</td>\n",
              "      <td>3</td>\n",
              "      <td>AllPub</td>\n",
              "      <td>4</td>\n",
              "      <td>...</td>\n",
              "      <td>-0.068692</td>\n",
              "      <td>0</td>\n",
              "      <td>0</td>\n",
              "      <td>NaN</td>\n",
              "      <td>NaN</td>\n",
              "      <td>9</td>\n",
              "      <td>2008</td>\n",
              "      <td>8</td>\n",
              "      <td>4</td>\n",
              "      <td>223500</td>\n",
              "    </tr>\n",
              "    <tr>\n",
              "      <th>3</th>\n",
              "      <td>10</td>\n",
              "      <td>3</td>\n",
              "      <td>-0.414011</td>\n",
              "      <td>-0.096897</td>\n",
              "      <td>1</td>\n",
              "      <td>2</td>\n",
              "      <td>IR1</td>\n",
              "      <td>3</td>\n",
              "      <td>AllPub</td>\n",
              "      <td>0</td>\n",
              "      <td>...</td>\n",
              "      <td>-0.068692</td>\n",
              "      <td>0</td>\n",
              "      <td>0</td>\n",
              "      <td>NaN</td>\n",
              "      <td>NaN</td>\n",
              "      <td>2</td>\n",
              "      <td>2006</td>\n",
              "      <td>8</td>\n",
              "      <td>0</td>\n",
              "      <td>140000</td>\n",
              "    </tr>\n",
              "    <tr>\n",
              "      <th>4</th>\n",
              "      <td>9</td>\n",
              "      <td>3</td>\n",
              "      <td>0.574676</td>\n",
              "      <td>0.375148</td>\n",
              "      <td>1</td>\n",
              "      <td>2</td>\n",
              "      <td>IR1</td>\n",
              "      <td>3</td>\n",
              "      <td>AllPub</td>\n",
              "      <td>2</td>\n",
              "      <td>...</td>\n",
              "      <td>-0.068692</td>\n",
              "      <td>0</td>\n",
              "      <td>0</td>\n",
              "      <td>NaN</td>\n",
              "      <td>NaN</td>\n",
              "      <td>12</td>\n",
              "      <td>2008</td>\n",
              "      <td>8</td>\n",
              "      <td>4</td>\n",
              "      <td>250000</td>\n",
              "    </tr>\n",
              "    <tr>\n",
              "      <th>...</th>\n",
              "      <td>...</td>\n",
              "      <td>...</td>\n",
              "      <td>...</td>\n",
              "      <td>...</td>\n",
              "      <td>...</td>\n",
              "      <td>...</td>\n",
              "      <td>...</td>\n",
              "      <td>...</td>\n",
              "      <td>...</td>\n",
              "      <td>...</td>\n",
              "      <td>...</td>\n",
              "      <td>...</td>\n",
              "      <td>...</td>\n",
              "      <td>...</td>\n",
              "      <td>...</td>\n",
              "      <td>...</td>\n",
              "      <td>...</td>\n",
              "      <td>...</td>\n",
              "      <td>...</td>\n",
              "      <td>...</td>\n",
              "      <td>...</td>\n",
              "    </tr>\n",
              "    <tr>\n",
              "      <th>1455</th>\n",
              "      <td>9</td>\n",
              "      <td>3</td>\n",
              "      <td>-0.331620</td>\n",
              "      <td>-0.260560</td>\n",
              "      <td>1</td>\n",
              "      <td>2</td>\n",
              "      <td>Reg</td>\n",
              "      <td>3</td>\n",
              "      <td>AllPub</td>\n",
              "      <td>4</td>\n",
              "      <td>...</td>\n",
              "      <td>-0.068692</td>\n",
              "      <td>0</td>\n",
              "      <td>0</td>\n",
              "      <td>NaN</td>\n",
              "      <td>NaN</td>\n",
              "      <td>8</td>\n",
              "      <td>2007</td>\n",
              "      <td>8</td>\n",
              "      <td>4</td>\n",
              "      <td>175000</td>\n",
              "    </tr>\n",
              "    <tr>\n",
              "      <th>1456</th>\n",
              "      <td>4</td>\n",
              "      <td>3</td>\n",
              "      <td>0.615871</td>\n",
              "      <td>0.266407</td>\n",
              "      <td>1</td>\n",
              "      <td>2</td>\n",
              "      <td>Reg</td>\n",
              "      <td>3</td>\n",
              "      <td>AllPub</td>\n",
              "      <td>4</td>\n",
              "      <td>...</td>\n",
              "      <td>-0.068692</td>\n",
              "      <td>0</td>\n",
              "      <td>3</td>\n",
              "      <td>NaN</td>\n",
              "      <td>NaN</td>\n",
              "      <td>2</td>\n",
              "      <td>2010</td>\n",
              "      <td>8</td>\n",
              "      <td>4</td>\n",
              "      <td>210000</td>\n",
              "    </tr>\n",
              "    <tr>\n",
              "      <th>1457</th>\n",
              "      <td>10</td>\n",
              "      <td>3</td>\n",
              "      <td>-0.166839</td>\n",
              "      <td>-0.147810</td>\n",
              "      <td>1</td>\n",
              "      <td>2</td>\n",
              "      <td>Reg</td>\n",
              "      <td>3</td>\n",
              "      <td>AllPub</td>\n",
              "      <td>4</td>\n",
              "      <td>...</td>\n",
              "      <td>-0.068692</td>\n",
              "      <td>0</td>\n",
              "      <td>4</td>\n",
              "      <td>Shed</td>\n",
              "      <td>1.600016</td>\n",
              "      <td>5</td>\n",
              "      <td>2010</td>\n",
              "      <td>8</td>\n",
              "      <td>4</td>\n",
              "      <td>266500</td>\n",
              "    </tr>\n",
              "    <tr>\n",
              "      <th>1458</th>\n",
              "      <td>4</td>\n",
              "      <td>3</td>\n",
              "      <td>-0.084449</td>\n",
              "      <td>-0.080160</td>\n",
              "      <td>1</td>\n",
              "      <td>2</td>\n",
              "      <td>Reg</td>\n",
              "      <td>3</td>\n",
              "      <td>AllPub</td>\n",
              "      <td>4</td>\n",
              "      <td>...</td>\n",
              "      <td>-0.068692</td>\n",
              "      <td>0</td>\n",
              "      <td>0</td>\n",
              "      <td>NaN</td>\n",
              "      <td>NaN</td>\n",
              "      <td>4</td>\n",
              "      <td>2010</td>\n",
              "      <td>8</td>\n",
              "      <td>4</td>\n",
              "      <td>142125</td>\n",
              "    </tr>\n",
              "    <tr>\n",
              "      <th>1459</th>\n",
              "      <td>4</td>\n",
              "      <td>3</td>\n",
              "      <td>0.203918</td>\n",
              "      <td>-0.058112</td>\n",
              "      <td>1</td>\n",
              "      <td>2</td>\n",
              "      <td>Reg</td>\n",
              "      <td>3</td>\n",
              "      <td>AllPub</td>\n",
              "      <td>4</td>\n",
              "      <td>...</td>\n",
              "      <td>-0.068692</td>\n",
              "      <td>0</td>\n",
              "      <td>0</td>\n",
              "      <td>NaN</td>\n",
              "      <td>NaN</td>\n",
              "      <td>6</td>\n",
              "      <td>2008</td>\n",
              "      <td>8</td>\n",
              "      <td>4</td>\n",
              "      <td>147500</td>\n",
              "    </tr>\n",
              "  </tbody>\n",
              "</table>\n",
              "<p>1460 rows × 80 columns</p>\n",
              "</div>\n",
              "      <button class=\"colab-df-convert\" onclick=\"convertToInteractive('df-8c31fdd5-62e7-4c6b-9faf-0b712d4ee7a0')\"\n",
              "              title=\"Convert this dataframe to an interactive table.\"\n",
              "              style=\"display:none;\">\n",
              "        \n",
              "  <svg xmlns=\"http://www.w3.org/2000/svg\" height=\"24px\"viewBox=\"0 0 24 24\"\n",
              "       width=\"24px\">\n",
              "    <path d=\"M0 0h24v24H0V0z\" fill=\"none\"/>\n",
              "    <path d=\"M18.56 5.44l.94 2.06.94-2.06 2.06-.94-2.06-.94-.94-2.06-.94 2.06-2.06.94zm-11 1L8.5 8.5l.94-2.06 2.06-.94-2.06-.94L8.5 2.5l-.94 2.06-2.06.94zm10 10l.94 2.06.94-2.06 2.06-.94-2.06-.94-.94-2.06-.94 2.06-2.06.94z\"/><path d=\"M17.41 7.96l-1.37-1.37c-.4-.4-.92-.59-1.43-.59-.52 0-1.04.2-1.43.59L10.3 9.45l-7.72 7.72c-.78.78-.78 2.05 0 2.83L4 21.41c.39.39.9.59 1.41.59.51 0 1.02-.2 1.41-.59l7.78-7.78 2.81-2.81c.8-.78.8-2.07 0-2.86zM5.41 20L4 18.59l7.72-7.72 1.47 1.35L5.41 20z\"/>\n",
              "  </svg>\n",
              "      </button>\n",
              "      \n",
              "  <style>\n",
              "    .colab-df-container {\n",
              "      display:flex;\n",
              "      flex-wrap:wrap;\n",
              "      gap: 12px;\n",
              "    }\n",
              "\n",
              "    .colab-df-convert {\n",
              "      background-color: #E8F0FE;\n",
              "      border: none;\n",
              "      border-radius: 50%;\n",
              "      cursor: pointer;\n",
              "      display: none;\n",
              "      fill: #1967D2;\n",
              "      height: 32px;\n",
              "      padding: 0 0 0 0;\n",
              "      width: 32px;\n",
              "    }\n",
              "\n",
              "    .colab-df-convert:hover {\n",
              "      background-color: #E2EBFA;\n",
              "      box-shadow: 0px 1px 2px rgba(60, 64, 67, 0.3), 0px 1px 3px 1px rgba(60, 64, 67, 0.15);\n",
              "      fill: #174EA6;\n",
              "    }\n",
              "\n",
              "    [theme=dark] .colab-df-convert {\n",
              "      background-color: #3B4455;\n",
              "      fill: #D2E3FC;\n",
              "    }\n",
              "\n",
              "    [theme=dark] .colab-df-convert:hover {\n",
              "      background-color: #434B5C;\n",
              "      box-shadow: 0px 1px 3px 1px rgba(0, 0, 0, 0.15);\n",
              "      filter: drop-shadow(0px 1px 2px rgba(0, 0, 0, 0.3));\n",
              "      fill: #FFFFFF;\n",
              "    }\n",
              "  </style>\n",
              "\n",
              "      <script>\n",
              "        const buttonEl =\n",
              "          document.querySelector('#df-8c31fdd5-62e7-4c6b-9faf-0b712d4ee7a0 button.colab-df-convert');\n",
              "        buttonEl.style.display =\n",
              "          google.colab.kernel.accessAllowed ? 'block' : 'none';\n",
              "\n",
              "        async function convertToInteractive(key) {\n",
              "          const element = document.querySelector('#df-8c31fdd5-62e7-4c6b-9faf-0b712d4ee7a0');\n",
              "          const dataTable =\n",
              "            await google.colab.kernel.invokeFunction('convertToInteractive',\n",
              "                                                     [key], {});\n",
              "          if (!dataTable) return;\n",
              "\n",
              "          const docLinkHtml = 'Like what you see? Visit the ' +\n",
              "            '<a target=\"_blank\" href=https://colab.research.google.com/notebooks/data_table.ipynb>data table notebook</a>'\n",
              "            + ' to learn more about interactive tables.';\n",
              "          element.innerHTML = '';\n",
              "          dataTable['output_type'] = 'display_data';\n",
              "          await google.colab.output.renderOutput(dataTable, element);\n",
              "          const docLink = document.createElement('div');\n",
              "          docLink.innerHTML = docLinkHtml;\n",
              "          element.appendChild(docLink);\n",
              "        }\n",
              "      </script>\n",
              "    </div>\n",
              "  </div>\n",
              "  "
            ]
          },
          "metadata": {},
          "execution_count": 51
        }
      ]
    },
    {
      "cell_type": "code",
      "source": [
        ""
      ],
      "metadata": {
        "id": "nUs2lvcwtfYX"
      },
      "execution_count": null,
      "outputs": []
    }
  ]
}